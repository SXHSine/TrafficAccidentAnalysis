{
 "cells": [
  {
   "cell_type": "code",
   "execution_count": 40,
   "metadata": {
    "collapsed": true
   },
   "outputs": [],
   "source": [
    "#是否节假日\n",
    "import json\n",
    "import urllib\n",
    "import datetime\n",
    "import pandas as pd"
   ]
  },
  {
   "cell_type": "code",
   "execution_count": 41,
   "metadata": {
    "collapsed": false
   },
   "outputs": [],
   "source": [
    "date = pd.read_csv('accidentTime_17.10.23.csv')\n",
    "date.drop(['Unnamed: 0'],axis=1,inplace=True)\n",
    "date = pd.to_datetime(date['date'])\n",
    "isHoliday = list()\n",
    "server_url = \"http://tool.bitefu.net/jiari/?d=\"\n",
    "isHoliday = list()"
   ]
  },
  {
   "cell_type": "code",
   "execution_count": 42,
   "metadata": {
    "collapsed": false
   },
   "outputs": [
    {
     "name": "stdout",
     "output_type": "stream",
     "text": [
      "133345\n"
     ]
    }
   ],
   "source": [
    "print(len(date))"
   ]
  },
  {
   "cell_type": "code",
   "execution_count": 46,
   "metadata": {
    "collapsed": false
   },
   "outputs": [],
   "source": [
    "#####     print(date_isHoliday)\n",
    "#####     if date_isHoliday==0:\n",
    "#####         print(\"this day is weekday\")\n",
    "#####     elif date_isHoliday==1:\n",
    "#####         print ('This day is weekend')\n",
    "#####     elif date_isHoliday==2:\n",
    "#####         print ('This day is holiday')\n",
    "#####     else:\n",
    "#####         print ('Error')\n",
    "\n",
    "for i in date:\n",
    "    day = str(i.day)\n",
    "    month = str(i.month)\n",
    "    if i.day<10:\n",
    "        day = '0'+day\n",
    "    if i.month<10:\n",
    "        month = '0'+month\n",
    "    theDate = str(i.year)+month+day\n",
    "    req = urllib.request\n",
    "    res = req.urlopen(server_url+theDate)\n",
    "    isHoliday.append(json.loads(res.read()))"
   ]
  },
  {
   "cell_type": "code",
   "execution_count": 45,
   "metadata": {
    "collapsed": false
   },
   "outputs": [
    {
     "name": "stdout",
     "output_type": "stream",
     "text": [
      "67592\n"
     ]
    }
   ],
   "source": [
    "print(len(isHoliday))"
   ]
  },
  {
   "cell_type": "code",
   "execution_count": null,
   "metadata": {
    "collapsed": true
   },
   "outputs": [],
   "source": [
    "isHoliday = pd.DataFrame(isHoliday)"
   ]
  }
 ],
 "metadata": {
  "kernelspec": {
   "display_name": "Python 3",
   "language": "python",
   "name": "python3"
  },
  "language_info": {
   "codemirror_mode": {
    "name": "ipython",
    "version": 3
   },
   "file_extension": ".py",
   "mimetype": "text/x-python",
   "name": "python",
   "nbconvert_exporter": "python",
   "pygments_lexer": "ipython3",
   "version": "3.6.0"
  }
 },
 "nbformat": 4,
 "nbformat_minor": 2
}
