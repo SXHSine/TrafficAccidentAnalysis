{
 "cells": [
  {
   "cell_type": "code",
   "execution_count": 1,
   "metadata": {
    "collapsed": true
   },
   "outputs": [],
   "source": [
    "import pandas as pd\n",
    "import numpy as np\n",
    "from pandas.tseries.holiday import USFederalHolidayCalendar as calendar\n",
    "\n",
    "%matplotlib inline\n",
    "import numpy as np\n",
    "import matplotlib.pyplot as plt\n",
    "import seaborn as sns\n",
    "import pandas as pd\n",
    "from pandas.tools.plotting import parallel_coordinates\n",
    "\n",
    "import matplotlib as mpl\n",
    "from matplotlib.font_manager import FontProperties\n",
    "import matplotlib.pyplot as plt\n",
    "import seaborn as sns\n",
    "sns.set_style(\"darkgrid\",{\"font.sans-serif\":['simhei', 'Arial']})\n",
    "\n",
    "from scipy import stats\n",
    "import math"
   ]
  },
  {
   "cell_type": "markdown",
   "metadata": {},
   "source": [
    "# 1. 第一轮"
   ]
  },
  {
   "cell_type": "code",
   "execution_count": 2,
   "metadata": {
    "collapsed": false
   },
   "outputs": [],
   "source": [
    "xls = pd.ExcelFile('2014年基本信息表.xls')\n",
    "data_upperHalf = xls.parse('基本信息表2014上半年')\n",
    "data_lowerHalf = xls.parse('基本信息表2014下半年')\n",
    "data = pd.DataFrame()\n",
    "data = pd.concat([data_upperHalf,data_lowerHalf],ignore_index=True)\n",
    "\n",
    "xls = pd.ExcelFile('2015年基本信息表.xls')\n",
    "data_upperHalf = xls.parse('基本信息表2015年上半年')\n",
    "data_lowerHalf = xls.parse('基本信息表2015年上半年')\n",
    "data = pd.concat([data,data_upperHalf,data_lowerHalf],ignore_index=True)\n",
    "\n",
    "xls = pd.ExcelFile('2016年基本信息表.xls')\n",
    "data_upperHalf = xls.parse('2016年上半年基本信息表')\n",
    "data_lowerHalf = xls.parse('2016年下半年基本信息表')\n",
    "data = pd.concat([data,data_upperHalf,data_lowerHalf],ignore_index=True)\n",
    "xls.close()\n",
    "\n",
    "del data_upperHalf\n",
    "del data_lowerHalf"
   ]
  },
  {
   "cell_type": "code",
   "execution_count": 4,
   "metadata": {
    "collapsed": false
   },
   "outputs": [
    {
     "name": "stdout",
     "output_type": "stream",
     "text": [
      "中央隔离设施\n",
      "事故初查原因\n",
      "事故初查原因分类\n",
      "事故发生时间\n",
      "事故地点\n",
      "事故多发点段\n",
      "事故形态\n",
      "事故类型\n",
      "事故编号\n",
      "事故认定原因\n",
      "事故认定原因分类小类\n",
      "交通信号方式（控制）\n",
      "交通标志标线完善\n",
      "公安部事故编号\n",
      "公路行政等级\n",
      "公里数\n",
      "其他交通安全设施不全\n",
      "单向路宽\n",
      "单车事故\n",
      "双向路宽\n",
      "受伤人数\n",
      "在道路横断面位置\n",
      "地形\n",
      "天气\n",
      "失踪人数\n",
      "当事人总数\n",
      "所属中队\n",
      "所辖乡镇\n",
      "抢救死亡人数Q\n",
      "损坏机动车数\n",
      "损坏非机动车数\n",
      "文书状态\n",
      "星期\n",
      "是否简易程序\n",
      "是否运载危险物品\n",
      "是否逃逸\n",
      "机动车数量\n",
      "死亡人数\n",
      "涉外事故\n",
      "照明条件\n",
      "现场\n",
      "直接财产损失\n",
      "米数\n",
      "能见度\n",
      "行人数量\n",
      "行政区划\n",
      "调解人1\n",
      "调解人2\n",
      "路侧防护设施类型\n",
      "路口路段类型\n",
      "路号\n",
      "路名\n",
      "路外事故类型\n",
      "路表情况\n",
      "路面状况\n",
      "路面结构\n",
      "路面附着系数\n",
      "车辆间事故\n",
      "车辆间事故.1\n",
      "轻伤人数\n",
      "运载危险品事故后果\n",
      "逃逸事故侦破\n",
      "道路安全属性\n",
      "道路安全隐患督办等级\n",
      "道路物理隔离\n",
      "道路类型\n",
      "道路线型\n",
      "重伤人数\n",
      "长下坡路段\n",
      "非机动车数量\n"
     ]
    }
   ],
   "source": [
    "for i in range(0,len(data.columns)):\n",
    "    print(data.columns[i])"
   ]
  },
  {
   "cell_type": "code",
   "execution_count": 5,
   "metadata": {
    "collapsed": false
   },
   "outputs": [
    {
     "name": "stdout",
     "output_type": "stream",
     "text": [
      "1 中央隔离设施\n",
      "2 事故初查原因\n",
      "3 事故初查原因分类\n",
      "4 事故发生时间\n",
      "5 事故地点\n",
      "6 事故多发点段\n",
      "7 事故形态\n",
      "8 事故类型\n",
      "9 事故编号\n",
      "10 事故认定原因\n",
      "11 事故认定原因分类小类\n",
      "12 交通信号方式（控制）\n",
      "13 交通标志标线完善\n",
      "14 公安部事故编号\n",
      "15 公路行政等级\n",
      "16 公里数\n",
      "17 其他交通安全设施不全\n",
      "18 单向路宽\n",
      "19 单车事故\n",
      "20 双向路宽\n",
      "21 受伤人数\n",
      "22 在道路横断面位置\n",
      "23 地形\n",
      "24 天气\n",
      "25 失踪人数\n",
      "26 当事人总数\n",
      "27 所属中队\n",
      "28 所辖乡镇\n",
      "29 抢救死亡人数Q\n",
      "30 损坏机动车数\n",
      "31 损坏非机动车数\n",
      "32 文书状态\n",
      "33 星期\n",
      "34 是否简易程序\n",
      "35 是否运载危险物品\n",
      "36 是否逃逸\n",
      "37 机动车数量\n",
      "38 死亡人数\n",
      "39 涉外事故\n",
      "40 照明条件\n",
      "41 现场\n",
      "42 直接财产损失\n",
      "43 米数\n",
      "44 能见度\n",
      "45 行人数量\n",
      "46 行政区划\n",
      "47 调解人1\n",
      "48 调解人2\n",
      "49 路侧防护设施类型\n",
      "50 路口路段类型\n",
      "51 路号\n",
      "52 路名\n",
      "53 路外事故类型\n",
      "54 路表情况\n",
      "55 路面状况\n",
      "56 路面结构\n",
      "57 路面附着系数\n",
      "58 车辆间事故\n",
      "59 车辆间事故.1\n",
      "60 轻伤人数\n",
      "61 运载危险品事故后果\n",
      "62 逃逸事故侦破\n",
      "63 道路安全属性\n",
      "64 道路安全隐患督办等级\n",
      "65 道路物理隔离\n",
      "66 道路类型\n",
      "67 道路线型\n",
      "68 重伤人数\n",
      "69 长下坡路段\n",
      "70 非机动车数量\n"
     ]
    }
   ],
   "source": [
    "for i in range(0,len(data.columns)):\n",
    "    print(str(i+1)+' '+ data.columns[i])"
   ]
  },
  {
   "cell_type": "code",
   "execution_count": 45,
   "metadata": {
    "collapsed": false
   },
   "outputs": [
    {
     "name": "stdout",
     "output_type": "stream",
     "text": [
      "233321\n"
     ]
    }
   ],
   "source": [
    "data.head()\n",
    "print(len(data))"
   ]
  },
  {
   "cell_type": "code",
   "execution_count": 46,
   "metadata": {
    "collapsed": false
   },
   "outputs": [],
   "source": [
    "data = data[['事故编号','星期','事故发生时间','死亡人数','抢救死亡人数Q',\\\n",
    "            '失踪人数','重伤人数','轻伤人数','受伤人数','损坏机动车数','损坏非机动车数','直接财产损失',\\\n",
    "            '事故类型','事故初查原因分类','事故认定原因分类小类','事故初查原因','事故认定原因',\\\n",
    "            '天气','能见度',\\\n",
    "            '事故形态','道路类型',\\\n",
    "            '公路行政等级','事故多发点段','长下坡路段','交通标志标线完善','其他交通安全设施不全','车辆间事故']]"
   ]
  },
  {
   "cell_type": "code",
   "execution_count": 47,
   "metadata": {
    "collapsed": false
   },
   "outputs": [
    {
     "data": {
      "text/html": [
       "<div>\n",
       "<table border=\"1\" class=\"dataframe\">\n",
       "  <thead>\n",
       "    <tr style=\"text-align: right;\">\n",
       "      <th></th>\n",
       "      <th>事故编号</th>\n",
       "      <th>星期</th>\n",
       "      <th>事故发生时间</th>\n",
       "      <th>死亡人数</th>\n",
       "      <th>抢救死亡人数Q</th>\n",
       "      <th>失踪人数</th>\n",
       "      <th>重伤人数</th>\n",
       "      <th>轻伤人数</th>\n",
       "      <th>受伤人数</th>\n",
       "      <th>损坏机动车数</th>\n",
       "      <th>...</th>\n",
       "      <th>天气</th>\n",
       "      <th>能见度</th>\n",
       "      <th>事故形态</th>\n",
       "      <th>道路类型</th>\n",
       "      <th>公路行政等级</th>\n",
       "      <th>事故多发点段</th>\n",
       "      <th>长下坡路段</th>\n",
       "      <th>交通标志标线完善</th>\n",
       "      <th>其他交通安全设施不全</th>\n",
       "      <th>车辆间事故</th>\n",
       "    </tr>\n",
       "  </thead>\n",
       "  <tbody>\n",
       "    <tr>\n",
       "      <th>0</th>\n",
       "      <td>440303201402052</td>\n",
       "      <td>6</td>\n",
       "      <td>2014-06-21 00:51:00</td>\n",
       "      <td>6</td>\n",
       "      <td>0</td>\n",
       "      <td>0</td>\n",
       "      <td>0</td>\n",
       "      <td>0</td>\n",
       "      <td>0</td>\n",
       "      <td>0</td>\n",
       "      <td>...</td>\n",
       "      <td>2</td>\n",
       "      <td>3.0</td>\n",
       "      <td>12</td>\n",
       "      <td>22</td>\n",
       "      <td>NaN</td>\n",
       "      <td>2.0</td>\n",
       "      <td>2</td>\n",
       "      <td>2</td>\n",
       "      <td>2</td>\n",
       "      <td>NaN</td>\n",
       "    </tr>\n",
       "    <tr>\n",
       "      <th>1</th>\n",
       "      <td>440307201400740</td>\n",
       "      <td>6</td>\n",
       "      <td>2014-01-25 17:05:00</td>\n",
       "      <td>2</td>\n",
       "      <td>0</td>\n",
       "      <td>0</td>\n",
       "      <td>0</td>\n",
       "      <td>0</td>\n",
       "      <td>0</td>\n",
       "      <td>0</td>\n",
       "      <td>...</td>\n",
       "      <td>1</td>\n",
       "      <td>3.0</td>\n",
       "      <td>30</td>\n",
       "      <td>22</td>\n",
       "      <td>9</td>\n",
       "      <td>2.0</td>\n",
       "      <td>2</td>\n",
       "      <td>2</td>\n",
       "      <td>2</td>\n",
       "      <td>NaN</td>\n",
       "    </tr>\n",
       "    <tr>\n",
       "      <th>2</th>\n",
       "      <td>440399201400875</td>\n",
       "      <td>5</td>\n",
       "      <td>2014-04-04 03:00:00</td>\n",
       "      <td>2</td>\n",
       "      <td>0</td>\n",
       "      <td>0</td>\n",
       "      <td>0</td>\n",
       "      <td>0</td>\n",
       "      <td>0</td>\n",
       "      <td>0</td>\n",
       "      <td>...</td>\n",
       "      <td>2</td>\n",
       "      <td>3.0</td>\n",
       "      <td>12</td>\n",
       "      <td>10</td>\n",
       "      <td>1</td>\n",
       "      <td>2.0</td>\n",
       "      <td>2</td>\n",
       "      <td>1</td>\n",
       "      <td>2</td>\n",
       "      <td>NaN</td>\n",
       "    </tr>\n",
       "    <tr>\n",
       "      <th>3</th>\n",
       "      <td>440309201404111</td>\n",
       "      <td>0</td>\n",
       "      <td>2014-04-13 10:25:00</td>\n",
       "      <td>2</td>\n",
       "      <td>0</td>\n",
       "      <td>0</td>\n",
       "      <td>0</td>\n",
       "      <td>0</td>\n",
       "      <td>0</td>\n",
       "      <td>0</td>\n",
       "      <td>...</td>\n",
       "      <td>1</td>\n",
       "      <td>4.0</td>\n",
       "      <td>11</td>\n",
       "      <td>21</td>\n",
       "      <td>2</td>\n",
       "      <td>2.0</td>\n",
       "      <td>2</td>\n",
       "      <td>2</td>\n",
       "      <td>2</td>\n",
       "      <td>NaN</td>\n",
       "    </tr>\n",
       "    <tr>\n",
       "      <th>4</th>\n",
       "      <td>440309201406521</td>\n",
       "      <td>3</td>\n",
       "      <td>2014-05-28 10:59:00</td>\n",
       "      <td>1</td>\n",
       "      <td>0</td>\n",
       "      <td>0</td>\n",
       "      <td>1</td>\n",
       "      <td>0</td>\n",
       "      <td>1</td>\n",
       "      <td>0</td>\n",
       "      <td>...</td>\n",
       "      <td>1</td>\n",
       "      <td>4.0</td>\n",
       "      <td>11</td>\n",
       "      <td>22</td>\n",
       "      <td>NaN</td>\n",
       "      <td>2.0</td>\n",
       "      <td>2</td>\n",
       "      <td>2</td>\n",
       "      <td>2</td>\n",
       "      <td>NaN</td>\n",
       "    </tr>\n",
       "  </tbody>\n",
       "</table>\n",
       "<p>5 rows × 27 columns</p>\n",
       "</div>"
      ],
      "text/plain": [
       "              事故编号  星期               事故发生时间  死亡人数  抢救死亡人数Q  失踪人数  重伤人数  轻伤人数  \\\n",
       "0  440303201402052   6  2014-06-21 00:51:00     6        0     0     0     0   \n",
       "1  440307201400740   6  2014-01-25 17:05:00     2        0     0     0     0   \n",
       "2  440399201400875   5  2014-04-04 03:00:00     2        0     0     0     0   \n",
       "3  440309201404111   0  2014-04-13 10:25:00     2        0     0     0     0   \n",
       "4  440309201406521   3  2014-05-28 10:59:00     1        0     0     1     0   \n",
       "\n",
       "   受伤人数  损坏机动车数  ...   天气  能见度 事故形态  道路类型  公路行政等级  事故多发点段  长下坡路段  交通标志标线完善  \\\n",
       "0     0       0  ...    2  3.0   12    22     NaN     2.0      2         2   \n",
       "1     0       0  ...    1  3.0   30    22       9     2.0      2         2   \n",
       "2     0       0  ...    2  3.0   12    10       1     2.0      2         1   \n",
       "3     0       0  ...    1  4.0   11    21       2     2.0      2         2   \n",
       "4     1       0  ...    1  4.0   11    22     NaN     2.0      2         2   \n",
       "\n",
       "   其他交通安全设施不全 车辆间事故  \n",
       "0           2   NaN  \n",
       "1           2   NaN  \n",
       "2           2   NaN  \n",
       "3           2   NaN  \n",
       "4           2   NaN  \n",
       "\n",
       "[5 rows x 27 columns]"
      ]
     },
     "execution_count": 47,
     "metadata": {},
     "output_type": "execute_result"
    }
   ],
   "source": [
    "data.head()"
   ]
  },
  {
   "cell_type": "code",
   "execution_count": 48,
   "metadata": {
    "collapsed": false
   },
   "outputs": [
    {
     "name": "stdout",
     "output_type": "stream",
     "text": [
      "事故初查原因分类: 0.90582502218\n",
      "事故初查原因: 0.905812164357\n",
      "能见度: 0.963822373468\n",
      "公路行政等级: 0.689865035723\n",
      "车辆间事故: 1.0\n"
     ]
    }
   ],
   "source": [
    "#处理缺失数据\n",
    "#缺失率\n",
    "nan_columns = {}\n",
    "length_data = data.index[-1]+1\n",
    "for i in range(len(data.columns)): \n",
    "    odds = sum(data[data.columns[i]].isnull())/length_data\n",
    "#     if odds > 0.5:\n",
    "    nan_columns[data.columns[i]] = odds\n",
    "    \n",
    "# print(nan_columns)\n",
    "#删除缺失率大于0.5的列\n",
    "for i in nan_columns:\n",
    "    if nan_columns[i]>0.5:\n",
    "        print(str(i)+': '+str(nan_columns[i]))\n",
    "        data.drop([i],inplace=True,axis=1)"
   ]
  },
  {
   "cell_type": "code",
   "execution_count": 49,
   "metadata": {
    "collapsed": false
   },
   "outputs": [],
   "source": [
    "#事故发生时间,     e.g.周几，时段，节假日\n",
    "def getDayOfWeek(dataTime):\n",
    "    dataTime = pd.to_datetime(dataTime)\n",
    "    return dataTime.dayofweek\n",
    "def getPeriodOfDay(dataTime):\n",
    "    return dataTime.hour//2+1\n",
    "def getDate(dataTime):\n",
    "    return dataTime.date\n",
    "\n",
    "data['事故发生时间'] = pd.to_datetime(data['事故发生时间'])\n",
    "\n",
    "dayOfWeek = pd.DataFrame(data['事故发生时间'].apply(getDayOfWeek))\n",
    "data.insert(1,'周几',dayOfWeek)\n",
    "del dayOfWeek\n",
    "\n",
    "periodOfDay = pd.DataFrame(data['事故发生时间'].apply(getPeriodOfDay))\n",
    "data.insert(2,'时段',periodOfDay)\n",
    "del periodOfDay\n",
    "\n",
    "#是否为节假日\n",
    "# cal = calendar()\n",
    "# holidays = cal.holidays(start=data['事故发生时间'].min(), end=data['事故发生时间'].max())\n",
    "# isHoliday = pd.DataFrame(data['事故发生时间'].apply(getDate).isin(holidays))\n",
    "# data.insert(3,'节假日',isHoliday)\n",
    "# del holidays\n",
    "# del isHoliday\n",
    "\n",
    "#删除，用于撤销\n",
    "# data.drop(['周几','时段','节假日'],inplace=True,axis=1)"
   ]
  },
  {
   "cell_type": "code",
   "execution_count": 50,
   "metadata": {
    "collapsed": false
   },
   "outputs": [
    {
     "data": {
      "text/html": [
       "<div>\n",
       "<table border=\"1\" class=\"dataframe\">\n",
       "  <thead>\n",
       "    <tr style=\"text-align: right;\">\n",
       "      <th></th>\n",
       "      <th>事故编号</th>\n",
       "      <th>周几</th>\n",
       "      <th>时段</th>\n",
       "      <th>星期</th>\n",
       "      <th>事故发生时间</th>\n",
       "      <th>死亡人数</th>\n",
       "      <th>抢救死亡人数Q</th>\n",
       "      <th>失踪人数</th>\n",
       "      <th>重伤人数</th>\n",
       "      <th>轻伤人数</th>\n",
       "      <th>...</th>\n",
       "      <th>事故类型</th>\n",
       "      <th>事故认定原因分类小类</th>\n",
       "      <th>事故认定原因</th>\n",
       "      <th>天气</th>\n",
       "      <th>事故形态</th>\n",
       "      <th>道路类型</th>\n",
       "      <th>事故多发点段</th>\n",
       "      <th>长下坡路段</th>\n",
       "      <th>交通标志标线完善</th>\n",
       "      <th>其他交通安全设施不全</th>\n",
       "    </tr>\n",
       "  </thead>\n",
       "  <tbody>\n",
       "    <tr>\n",
       "      <th>0</th>\n",
       "      <td>440303201402052</td>\n",
       "      <td>5</td>\n",
       "      <td>1</td>\n",
       "      <td>6</td>\n",
       "      <td>2014-06-21 00:51:00</td>\n",
       "      <td>6</td>\n",
       "      <td>0</td>\n",
       "      <td>0</td>\n",
       "      <td>0</td>\n",
       "      <td>0</td>\n",
       "      <td>...</td>\n",
       "      <td>1</td>\n",
       "      <td>NaN</td>\n",
       "      <td>9901.0</td>\n",
       "      <td>2</td>\n",
       "      <td>12</td>\n",
       "      <td>22</td>\n",
       "      <td>2.0</td>\n",
       "      <td>2</td>\n",
       "      <td>2</td>\n",
       "      <td>2</td>\n",
       "    </tr>\n",
       "    <tr>\n",
       "      <th>1</th>\n",
       "      <td>440307201400740</td>\n",
       "      <td>5</td>\n",
       "      <td>9</td>\n",
       "      <td>6</td>\n",
       "      <td>2014-01-25 17:05:00</td>\n",
       "      <td>2</td>\n",
       "      <td>0</td>\n",
       "      <td>0</td>\n",
       "      <td>0</td>\n",
       "      <td>0</td>\n",
       "      <td>...</td>\n",
       "      <td>1</td>\n",
       "      <td>1.0</td>\n",
       "      <td>1225.0</td>\n",
       "      <td>1</td>\n",
       "      <td>30</td>\n",
       "      <td>22</td>\n",
       "      <td>2.0</td>\n",
       "      <td>2</td>\n",
       "      <td>2</td>\n",
       "      <td>2</td>\n",
       "    </tr>\n",
       "    <tr>\n",
       "      <th>2</th>\n",
       "      <td>440399201400875</td>\n",
       "      <td>4</td>\n",
       "      <td>2</td>\n",
       "      <td>5</td>\n",
       "      <td>2014-04-04 03:00:00</td>\n",
       "      <td>2</td>\n",
       "      <td>0</td>\n",
       "      <td>0</td>\n",
       "      <td>0</td>\n",
       "      <td>0</td>\n",
       "      <td>...</td>\n",
       "      <td>1</td>\n",
       "      <td>1.0</td>\n",
       "      <td>1225.0</td>\n",
       "      <td>2</td>\n",
       "      <td>12</td>\n",
       "      <td>10</td>\n",
       "      <td>2.0</td>\n",
       "      <td>2</td>\n",
       "      <td>1</td>\n",
       "      <td>2</td>\n",
       "    </tr>\n",
       "    <tr>\n",
       "      <th>3</th>\n",
       "      <td>440309201404111</td>\n",
       "      <td>6</td>\n",
       "      <td>6</td>\n",
       "      <td>0</td>\n",
       "      <td>2014-04-13 10:25:00</td>\n",
       "      <td>2</td>\n",
       "      <td>0</td>\n",
       "      <td>0</td>\n",
       "      <td>0</td>\n",
       "      <td>0</td>\n",
       "      <td>...</td>\n",
       "      <td>1</td>\n",
       "      <td>1.0</td>\n",
       "      <td>1225.0</td>\n",
       "      <td>1</td>\n",
       "      <td>11</td>\n",
       "      <td>21</td>\n",
       "      <td>2.0</td>\n",
       "      <td>2</td>\n",
       "      <td>2</td>\n",
       "      <td>2</td>\n",
       "    </tr>\n",
       "    <tr>\n",
       "      <th>4</th>\n",
       "      <td>440309201406521</td>\n",
       "      <td>2</td>\n",
       "      <td>6</td>\n",
       "      <td>3</td>\n",
       "      <td>2014-05-28 10:59:00</td>\n",
       "      <td>1</td>\n",
       "      <td>0</td>\n",
       "      <td>0</td>\n",
       "      <td>1</td>\n",
       "      <td>0</td>\n",
       "      <td>...</td>\n",
       "      <td>1</td>\n",
       "      <td>2.0</td>\n",
       "      <td>2009.0</td>\n",
       "      <td>1</td>\n",
       "      <td>11</td>\n",
       "      <td>22</td>\n",
       "      <td>2.0</td>\n",
       "      <td>2</td>\n",
       "      <td>2</td>\n",
       "      <td>2</td>\n",
       "    </tr>\n",
       "  </tbody>\n",
       "</table>\n",
       "<p>5 rows × 24 columns</p>\n",
       "</div>"
      ],
      "text/plain": [
       "              事故编号  周几  时段  星期              事故发生时间  死亡人数  抢救死亡人数Q  失踪人数  重伤人数  \\\n",
       "0  440303201402052   5   1   6 2014-06-21 00:51:00     6        0     0     0   \n",
       "1  440307201400740   5   9   6 2014-01-25 17:05:00     2        0     0     0   \n",
       "2  440399201400875   4   2   5 2014-04-04 03:00:00     2        0     0     0   \n",
       "3  440309201404111   6   6   0 2014-04-13 10:25:00     2        0     0     0   \n",
       "4  440309201406521   2   6   3 2014-05-28 10:59:00     1        0     0     1   \n",
       "\n",
       "   轻伤人数    ...      事故类型  事故认定原因分类小类  事故认定原因  天气 事故形态  道路类型  事故多发点段  长下坡路段  \\\n",
       "0     0    ...         1         NaN  9901.0   2   12    22     2.0      2   \n",
       "1     0    ...         1         1.0  1225.0   1   30    22     2.0      2   \n",
       "2     0    ...         1         1.0  1225.0   2   12    10     2.0      2   \n",
       "3     0    ...         1         1.0  1225.0   1   11    21     2.0      2   \n",
       "4     0    ...         1         2.0  2009.0   1   11    22     2.0      2   \n",
       "\n",
       "  交通标志标线完善 其他交通安全设施不全  \n",
       "0        2          2  \n",
       "1        2          2  \n",
       "2        1          2  \n",
       "3        2          2  \n",
       "4        2          2  \n",
       "\n",
       "[5 rows x 24 columns]"
      ]
     },
     "execution_count": 50,
     "metadata": {},
     "output_type": "execute_result"
    }
   ],
   "source": [
    "data.head()"
   ]
  },
  {
   "cell_type": "code",
   "execution_count": 51,
   "metadata": {
    "collapsed": true
   },
   "outputs": [],
   "source": [
    "#受伤死亡人数处理\n",
    "deathOfAcci = pd.DataFrame(data['死亡人数']+data['抢救死亡人数Q'])\n",
    "data.insert(5,'总死亡人数',deathOfAcci)\n",
    "del deathOfAcci\n",
    "\n",
    "injureOfAcci = data.pop('受伤人数')\n",
    "data.insert(6,'总受伤人数',injureOfAcci)\n",
    "\n",
    "# data.drop(['总死亡人数'],inplace=True,axis=1)"
   ]
  },
  {
   "cell_type": "code",
   "execution_count": 52,
   "metadata": {
    "collapsed": true
   },
   "outputs": [],
   "source": [
    "#拟暂时删去列\n",
    "data.drop([ '长下坡路段', '交通标志标线完善', '其他交通安全设施不全'],axis=1,inplace=True)\n",
    "data.drop([ '事故认定原因分类小类','事故认定原因', '天气', '事故形态', '道路类型', '事故多发点段'],axis=1,inplace=True)\n",
    "# data.drop([ '长下坡路段', '交通标志标线完善', '其他交通安全设施不全'],axis=1,inplace=True)"
   ]
  },
  {
   "cell_type": "code",
   "execution_count": 53,
   "metadata": {
    "collapsed": false
   },
   "outputs": [
    {
     "data": {
      "text/plain": [
       "<matplotlib.axes._subplots.AxesSubplot at 0x1a9df7de630>"
      ]
     },
     "execution_count": 53,
     "metadata": {},
     "output_type": "execute_result"
    },
    {
     "data": {
      "image/png": "[encoded data removed]",
      "text/plain": [
       "<matplotlib.figure.Figure at 0x1a9df83ec88>"
      ]
     },
     "metadata": {},
     "output_type": "display_data"
    }
   ],
   "source": [
    "#事故类型\n",
    "sns.set_context('poster')\n",
    "\n",
    "fig, (axis1) = plt.subplots(1,1,figsize=(25,10))\n",
    "# axis1.set_title(u\"事故类型分类图\",fontsize=20)\n",
    "axis1.set_xlabel(u'事故类型',fontsize=20)\n",
    "axis1.set_ylabel('count',fontsize=20)\n",
    "axis1.tick_params(axis='y',labelsize=20) # y轴\n",
    "axis1.tick_params(axis='x',labelsize=20, colors='b', labeltop=True, labelbottom=False) # x轴\n",
    "sns.set_context(\"talk\")\n",
    "sns.countplot(u'事故类型',data=data,ax=axis1)\n",
    "\n",
    "#不明所以，删除\n",
    "data.drop(['事故类型'],axis=1,inplace=True)"
   ]
  },
  {
   "cell_type": "code",
   "execution_count": 54,
   "metadata": {
    "collapsed": false
   },
   "outputs": [
    {
     "data": {
      "text/plain": [
       "Index(['事故编号', '周几', '时段', '星期', '事故发生时间', '总死亡人数', '总受伤人数', '死亡人数', '抢救死亡人数Q',\n",
       "       '失踪人数', '重伤人数', '轻伤人数', '损坏机动车数', '损坏非机动车数', '直接财产损失', '事故类型'],\n",
       "      dtype='object')"
      ]
     },
     "execution_count": 54,
     "metadata": {},
     "output_type": "execute_result"
    }
   ],
   "source": [
    "data.columns"
   ]
  },
  {
   "cell_type": "code",
   "execution_count": 180,
   "metadata": {
    "collapsed": false
   },
   "outputs": [
    {
     "data": {
      "text/plain": [
       "<matplotlib.axes._subplots.AxesSubplot at 0x29e6ccd4470>"
      ]
     },
     "execution_count": 180,
     "metadata": {},
     "output_type": "execute_result"
    },
    {
     "data": {
      "image/png": "[encoded data removed]",
      "text/plain": [
       "<matplotlib.figure.Figure at 0x29e7b3d00b8>"
      ]
     },
     "metadata": {},
     "output_type": "display_data"
    }
   ],
   "source": [
    "parallel_coordinates(data[['周几', '总死亡人数', '总受伤人数', '损坏机动车数', '损坏非机动车数']], '周几')"
   ]
  },
  {
   "cell_type": "code",
   "execution_count": 58,
   "metadata": {
    "collapsed": false
   },
   "outputs": [
    {
     "data": {
      "text/plain": [
       "<matplotlib.axes._subplots.AxesSubplot at 0x1a9eff6c828>"
      ]
     },
     "execution_count": 58,
     "metadata": {},
     "output_type": "execute_result"
    },
    {
     "data": {
      "image/png": "[encoded data removed]",
      "text/plain": [
       "<matplotlib.figure.Figure at 0x1a9df80c8d0>"
      ]
     },
     "metadata": {},
     "output_type": "display_data"
    }
   ],
   "source": [
    "#通过 '死亡人数', '抢救死亡人数Q','失踪人数', '重伤人数', '轻伤人数', '损坏机动车数', '损坏非机动车数', '直接财产损失'确定事故严重级别\n",
    "fig,axises = plt.subplots(3,3,figsize=(15,15))\n",
    "# print(type(axises))\n",
    "# axises[0,0].set_title(u\"直接财产损失分布图\",fontsize=20)\n",
    "sns.countplot(data['直接财产损失'],ax=axises[0,0])\n",
    "\n",
    "# axises[0,1].set_title(u\"死亡人数分布图\",fontsize=20)\n",
    "sns.countplot(data['死亡人数'],ax=axises[0,1])\n",
    "\n",
    "# axises[0,2].set_title(u\"抢救死亡人数Q分布图\",fontsize=20)\n",
    "sns.countplot(data['抢救死亡人数Q'],ax=axises[0,2])\n",
    "\n",
    "# axises[1,0].set_title(u\"失踪人数分布图\",fontsize=20)\n",
    "sns.countplot(data['失踪人数'],ax=axises[1,0])\n",
    "\n",
    "# axises[1,1].set_title(u\"重伤人数分布图\",fontsize=20)\n",
    "sns.countplot(data['重伤人数'],ax=axises[1,1])\n",
    "\n",
    "# axises[1,2].set_title(u\"轻伤人数分布图\",fontsize=20)\n",
    "sns.countplot(data['轻伤人数'],ax=axises[1,2])\n",
    "\n",
    "# axises[2,0].set_title(u\"损坏机动车数分布图\",fontsize=20)\n",
    "sns.countplot(data['损坏机动车数'],ax=axises[2,0])\n",
    "\n",
    "# axises[2,1].set_title(u\"损坏非机动车数分布图\",fontsize=20)\n",
    "sns.countplot(data['损坏非机动车数'],ax=axises[2,1])\n",
    "\n"
   ]
  },
  {
   "cell_type": "code",
   "execution_count": 62,
   "metadata": {
    "collapsed": false
   },
   "outputs": [
    {
     "data": {
      "image/png": "[encoded data removed]",
      "text/plain": [
       "<matplotlib.figure.Figure at 0x1a9e01dcc50>"
      ]
     },
     "metadata": {},
     "output_type": "display_data"
    }
   ],
   "source": [
    "plt.plot(data['直接财产损失'])\n",
    "plt.show()"
   ]
  },
  {
   "cell_type": "markdown",
   "metadata": {},
   "source": [
    "# 2. 第二轮"
   ]
  },
  {
   "cell_type": "code",
   "execution_count": 2,
   "metadata": {
    "collapsed": false
   },
   "outputs": [],
   "source": [
    "#第二轮\n",
    "data = pd.read_excel('data_深圳交通事故_17.9.25.xlsx')\n",
    "data.drop('事故类型',inplace=True,axis=1)"
   ]
  },
  {
   "cell_type": "code",
   "execution_count": 3,
   "metadata": {
    "collapsed": false
   },
   "outputs": [
    {
     "data": {
      "text/html": [
       "<div>\n",
       "<table border=\"1\" class=\"dataframe\">\n",
       "  <thead>\n",
       "    <tr style=\"text-align: right;\">\n",
       "      <th></th>\n",
       "      <th>事故编号</th>\n",
       "      <th>周几</th>\n",
       "      <th>时段</th>\n",
       "      <th>星期</th>\n",
       "      <th>事故发生时间</th>\n",
       "      <th>总死亡人数</th>\n",
       "      <th>总受伤人数</th>\n",
       "      <th>死亡人数</th>\n",
       "      <th>抢救死亡人数Q</th>\n",
       "      <th>失踪人数</th>\n",
       "      <th>重伤人数</th>\n",
       "      <th>轻伤人数</th>\n",
       "      <th>损坏机动车数</th>\n",
       "      <th>损坏非机动车数</th>\n",
       "      <th>直接财产损失</th>\n",
       "    </tr>\n",
       "  </thead>\n",
       "  <tbody>\n",
       "    <tr>\n",
       "      <th>0</th>\n",
       "      <td>440303201402052</td>\n",
       "      <td>5</td>\n",
       "      <td>1</td>\n",
       "      <td>6</td>\n",
       "      <td>2014-06-21 00:51:00</td>\n",
       "      <td>6</td>\n",
       "      <td>0</td>\n",
       "      <td>6</td>\n",
       "      <td>0</td>\n",
       "      <td>0</td>\n",
       "      <td>0</td>\n",
       "      <td>0</td>\n",
       "      <td>0</td>\n",
       "      <td>0</td>\n",
       "      <td>50000</td>\n",
       "    </tr>\n",
       "    <tr>\n",
       "      <th>1</th>\n",
       "      <td>440307201400740</td>\n",
       "      <td>5</td>\n",
       "      <td>9</td>\n",
       "      <td>6</td>\n",
       "      <td>2014-01-25 17:05:00</td>\n",
       "      <td>2</td>\n",
       "      <td>0</td>\n",
       "      <td>2</td>\n",
       "      <td>0</td>\n",
       "      <td>0</td>\n",
       "      <td>0</td>\n",
       "      <td>0</td>\n",
       "      <td>0</td>\n",
       "      <td>0</td>\n",
       "      <td>1000</td>\n",
       "    </tr>\n",
       "    <tr>\n",
       "      <th>2</th>\n",
       "      <td>440399201400875</td>\n",
       "      <td>4</td>\n",
       "      <td>2</td>\n",
       "      <td>5</td>\n",
       "      <td>2014-04-04 03:00:00</td>\n",
       "      <td>2</td>\n",
       "      <td>0</td>\n",
       "      <td>2</td>\n",
       "      <td>0</td>\n",
       "      <td>0</td>\n",
       "      <td>0</td>\n",
       "      <td>0</td>\n",
       "      <td>0</td>\n",
       "      <td>0</td>\n",
       "      <td>10000</td>\n",
       "    </tr>\n",
       "    <tr>\n",
       "      <th>3</th>\n",
       "      <td>440309201404111</td>\n",
       "      <td>6</td>\n",
       "      <td>6</td>\n",
       "      <td>0</td>\n",
       "      <td>2014-04-13 10:25:00</td>\n",
       "      <td>2</td>\n",
       "      <td>0</td>\n",
       "      <td>2</td>\n",
       "      <td>0</td>\n",
       "      <td>0</td>\n",
       "      <td>0</td>\n",
       "      <td>0</td>\n",
       "      <td>0</td>\n",
       "      <td>0</td>\n",
       "      <td>5000</td>\n",
       "    </tr>\n",
       "    <tr>\n",
       "      <th>4</th>\n",
       "      <td>440309201406521</td>\n",
       "      <td>2</td>\n",
       "      <td>6</td>\n",
       "      <td>3</td>\n",
       "      <td>2014-05-28 10:59:00</td>\n",
       "      <td>1</td>\n",
       "      <td>1</td>\n",
       "      <td>1</td>\n",
       "      <td>0</td>\n",
       "      <td>0</td>\n",
       "      <td>1</td>\n",
       "      <td>0</td>\n",
       "      <td>0</td>\n",
       "      <td>0</td>\n",
       "      <td>1000</td>\n",
       "    </tr>\n",
       "  </tbody>\n",
       "</table>\n",
       "</div>"
      ],
      "text/plain": [
       "              事故编号  周几  时段  星期              事故发生时间  总死亡人数  总受伤人数  死亡人数  \\\n",
       "0  440303201402052   5   1   6 2014-06-21 00:51:00      6      0     6   \n",
       "1  440307201400740   5   9   6 2014-01-25 17:05:00      2      0     2   \n",
       "2  440399201400875   4   2   5 2014-04-04 03:00:00      2      0     2   \n",
       "3  440309201404111   6   6   0 2014-04-13 10:25:00      2      0     2   \n",
       "4  440309201406521   2   6   3 2014-05-28 10:59:00      1      1     1   \n",
       "\n",
       "   抢救死亡人数Q  失踪人数  重伤人数  轻伤人数  损坏机动车数  损坏非机动车数  直接财产损失  \n",
       "0        0     0     0     0       0        0   50000  \n",
       "1        0     0     0     0       0        0    1000  \n",
       "2        0     0     0     0       0        0   10000  \n",
       "3        0     0     0     0       0        0    5000  \n",
       "4        0     0     1     0       0        0    1000  "
      ]
     },
     "execution_count": 3,
     "metadata": {},
     "output_type": "execute_result"
    }
   ],
   "source": [
    "data.head()"
   ]
  },
  {
   "cell_type": "markdown",
   "metadata": {},
   "source": [
    "## 2.1 建立公式"
   ]
  },
  {
   "cell_type": "code",
   "execution_count": 4,
   "metadata": {
    "collapsed": false
   },
   "outputs": [],
   "source": [
    "#依照countplot建立公式\n",
    "accidentSeverity = data['直接财产损失']/1000 + np.power(3,data['死亡人数']+data['抢救死亡人数Q']) + np.power(2,data['失踪人数'])\\\n",
    "                                            + np.log2(data['重伤人数']+2) + np.log(data['轻伤人数']+2)\\\n",
    "                                            + np.power(2,data['损坏机动车数']) + np.log2(data['损坏非机动车数']+2)\n",
    "if '事故损失值' in data.columns:\n",
    "    data.drop('事故损失值',inplace=True,axis=1)\n",
    "data.insert(5,'事故损失值',accidentSeverity)\n",
    "del accidentSeverity"
   ]
  },
  {
   "cell_type": "code",
   "execution_count": 5,
   "metadata": {
    "collapsed": false
   },
   "outputs": [
    {
     "data": {
      "text/html": [
       "<div>\n",
       "<table border=\"1\" class=\"dataframe\">\n",
       "  <thead>\n",
       "    <tr style=\"text-align: right;\">\n",
       "      <th></th>\n",
       "      <th>事故编号</th>\n",
       "      <th>周几</th>\n",
       "      <th>时段</th>\n",
       "      <th>星期</th>\n",
       "      <th>事故发生时间</th>\n",
       "      <th>事故损失值</th>\n",
       "      <th>总死亡人数</th>\n",
       "      <th>总受伤人数</th>\n",
       "      <th>死亡人数</th>\n",
       "      <th>抢救死亡人数Q</th>\n",
       "      <th>失踪人数</th>\n",
       "      <th>重伤人数</th>\n",
       "      <th>轻伤人数</th>\n",
       "      <th>损坏机动车数</th>\n",
       "      <th>损坏非机动车数</th>\n",
       "      <th>直接财产损失</th>\n",
       "    </tr>\n",
       "  </thead>\n",
       "  <tbody>\n",
       "    <tr>\n",
       "      <th>121850</th>\n",
       "      <td>440380201500053</td>\n",
       "      <td>6</td>\n",
       "      <td>8</td>\n",
       "      <td>0</td>\n",
       "      <td>2015-03-01 15:30:00</td>\n",
       "      <td>6579.676005</td>\n",
       "      <td>8</td>\n",
       "      <td>24</td>\n",
       "      <td>4</td>\n",
       "      <td>4</td>\n",
       "      <td>0</td>\n",
       "      <td>4</td>\n",
       "      <td>20</td>\n",
       "      <td>0</td>\n",
       "      <td>0</td>\n",
       "      <td>10000</td>\n",
       "    </tr>\n",
       "    <tr>\n",
       "      <th>85303</th>\n",
       "      <td>440380201500053</td>\n",
       "      <td>6</td>\n",
       "      <td>8</td>\n",
       "      <td>0</td>\n",
       "      <td>2015-03-01 15:30:00</td>\n",
       "      <td>6579.676005</td>\n",
       "      <td>8</td>\n",
       "      <td>24</td>\n",
       "      <td>4</td>\n",
       "      <td>4</td>\n",
       "      <td>0</td>\n",
       "      <td>4</td>\n",
       "      <td>20</td>\n",
       "      <td>0</td>\n",
       "      <td>0</td>\n",
       "      <td>10000</td>\n",
       "    </tr>\n",
       "    <tr>\n",
       "      <th>0</th>\n",
       "      <td>440303201402052</td>\n",
       "      <td>5</td>\n",
       "      <td>1</td>\n",
       "      <td>6</td>\n",
       "      <td>2014-06-21 00:51:00</td>\n",
       "      <td>783.693147</td>\n",
       "      <td>6</td>\n",
       "      <td>0</td>\n",
       "      <td>6</td>\n",
       "      <td>0</td>\n",
       "      <td>0</td>\n",
       "      <td>0</td>\n",
       "      <td>0</td>\n",
       "      <td>0</td>\n",
       "      <td>0</td>\n",
       "      <td>50000</td>\n",
       "    </tr>\n",
       "    <tr>\n",
       "      <th>108930</th>\n",
       "      <td>440311201501338</td>\n",
       "      <td>5</td>\n",
       "      <td>5</td>\n",
       "      <td>6</td>\n",
       "      <td>2015-06-20 08:05:00</td>\n",
       "      <td>608.609438</td>\n",
       "      <td>1</td>\n",
       "      <td>3</td>\n",
       "      <td>0</td>\n",
       "      <td>1</td>\n",
       "      <td>0</td>\n",
       "      <td>0</td>\n",
       "      <td>3</td>\n",
       "      <td>0</td>\n",
       "      <td>0</td>\n",
       "      <td>600000</td>\n",
       "    </tr>\n",
       "    <tr>\n",
       "      <th>145477</th>\n",
       "      <td>440311201501338</td>\n",
       "      <td>5</td>\n",
       "      <td>5</td>\n",
       "      <td>6</td>\n",
       "      <td>2015-06-20 08:05:00</td>\n",
       "      <td>608.609438</td>\n",
       "      <td>1</td>\n",
       "      <td>3</td>\n",
       "      <td>0</td>\n",
       "      <td>1</td>\n",
       "      <td>0</td>\n",
       "      <td>0</td>\n",
       "      <td>3</td>\n",
       "      <td>0</td>\n",
       "      <td>0</td>\n",
       "      <td>600000</td>\n",
       "    </tr>\n",
       "  </tbody>\n",
       "</table>\n",
       "</div>"
      ],
      "text/plain": [
       "                   事故编号  周几  时段  星期              事故发生时间        事故损失值  总死亡人数  \\\n",
       "121850  440380201500053   6   8   0 2015-03-01 15:30:00  6579.676005      8   \n",
       "85303   440380201500053   6   8   0 2015-03-01 15:30:00  6579.676005      8   \n",
       "0       440303201402052   5   1   6 2014-06-21 00:51:00   783.693147      6   \n",
       "108930  440311201501338   5   5   6 2015-06-20 08:05:00   608.609438      1   \n",
       "145477  440311201501338   5   5   6 2015-06-20 08:05:00   608.609438      1   \n",
       "\n",
       "        总受伤人数  死亡人数  抢救死亡人数Q  失踪人数  重伤人数  轻伤人数  损坏机动车数  损坏非机动车数  直接财产损失  \n",
       "121850     24     4        4     0     4    20       0        0   10000  \n",
       "85303      24     4        4     0     4    20       0        0   10000  \n",
       "0           0     6        0     0     0     0       0        0   50000  \n",
       "108930      3     0        1     0     0     3       0        0  600000  \n",
       "145477      3     0        1     0     0     3       0        0  600000  "
      ]
     },
     "execution_count": 5,
     "metadata": {},
     "output_type": "execute_result"
    }
   ],
   "source": [
    "data = data.sort_values(by='事故损失值',ascending=False)\n",
    "data.head()"
   ]
  },
  {
   "cell_type": "code",
   "execution_count": 6,
   "metadata": {
    "collapsed": false
   },
   "outputs": [
    {
     "data": {
      "text/plain": [
       "<matplotlib.axes._subplots.AxesSubplot at 0x2733ad17cc0>"
      ]
     },
     "execution_count": 6,
     "metadata": {},
     "output_type": "execute_result"
    },
    {
     "data": {
      "image/png": "[encoded data removed]",
      "text/plain": [
       "<matplotlib.figure.Figure at 0x2733a112400>"
      ]
     },
     "metadata": {},
     "output_type": "display_data"
    }
   ],
   "source": [
    "# sns.kdeplot(data['事故损失值'])\n",
    "sns.countplot(data['事故损失值'])"
   ]
  },
  {
   "cell_type": "code",
   "execution_count": 7,
   "metadata": {
    "collapsed": false
   },
   "outputs": [
    {
     "data": {
      "text/plain": [
       "<matplotlib.axes._subplots.AxesSubplot at 0x27345bcdc50>"
      ]
     },
     "execution_count": 7,
     "metadata": {},
     "output_type": "execute_result"
    },
    {
     "data": {
      "image/png": "[encoded data removed]",
      "text/plain": [
       "<matplotlib.figure.Figure at 0x27342359cc0>"
      ]
     },
     "metadata": {},
     "output_type": "display_data"
    }
   ],
   "source": [
    "sns.kdeplot(data['事故损失值'])"
   ]
  },
  {
   "cell_type": "code",
   "execution_count": 8,
   "metadata": {
    "collapsed": false
   },
   "outputs": [
    {
     "data": {
      "text/html": [
       "<div>\n",
       "<table border=\"1\" class=\"dataframe\">\n",
       "  <thead>\n",
       "    <tr style=\"text-align: right;\">\n",
       "      <th></th>\n",
       "      <th>事故编号</th>\n",
       "      <th>周几</th>\n",
       "      <th>时段</th>\n",
       "      <th>星期</th>\n",
       "      <th>事故发生时间</th>\n",
       "      <th>事故损失值</th>\n",
       "      <th>总死亡人数</th>\n",
       "      <th>总受伤人数</th>\n",
       "      <th>死亡人数</th>\n",
       "      <th>抢救死亡人数Q</th>\n",
       "      <th>失踪人数</th>\n",
       "      <th>重伤人数</th>\n",
       "      <th>轻伤人数</th>\n",
       "      <th>损坏机动车数</th>\n",
       "      <th>损坏非机动车数</th>\n",
       "      <th>直接财产损失</th>\n",
       "    </tr>\n",
       "  </thead>\n",
       "  <tbody>\n",
       "    <tr>\n",
       "      <th>42278</th>\n",
       "      <td>440307201407868</td>\n",
       "      <td>1</td>\n",
       "      <td>10</td>\n",
       "      <td>9</td>\n",
       "      <td>2014-09-02 18:32:00</td>\n",
       "      <td>5.693147</td>\n",
       "      <td>0</td>\n",
       "      <td>1</td>\n",
       "      <td>0</td>\n",
       "      <td>0</td>\n",
       "      <td>0</td>\n",
       "      <td>0</td>\n",
       "      <td>0</td>\n",
       "      <td>0</td>\n",
       "      <td>0</td>\n",
       "      <td>0</td>\n",
       "    </tr>\n",
       "    <tr>\n",
       "      <th>59420</th>\n",
       "      <td>440309201415264</td>\n",
       "      <td>5</td>\n",
       "      <td>11</td>\n",
       "      <td>9</td>\n",
       "      <td>2014-11-15 20:30:00</td>\n",
       "      <td>5.693147</td>\n",
       "      <td>0</td>\n",
       "      <td>0</td>\n",
       "      <td>0</td>\n",
       "      <td>0</td>\n",
       "      <td>0</td>\n",
       "      <td>0</td>\n",
       "      <td>0</td>\n",
       "      <td>0</td>\n",
       "      <td>0</td>\n",
       "      <td>0</td>\n",
       "    </tr>\n",
       "    <tr>\n",
       "      <th>68942</th>\n",
       "      <td>440302201404296</td>\n",
       "      <td>5</td>\n",
       "      <td>8</td>\n",
       "      <td>6</td>\n",
       "      <td>2014-11-29 14:30:00</td>\n",
       "      <td>5.693147</td>\n",
       "      <td>0</td>\n",
       "      <td>0</td>\n",
       "      <td>0</td>\n",
       "      <td>0</td>\n",
       "      <td>0</td>\n",
       "      <td>0</td>\n",
       "      <td>0</td>\n",
       "      <td>0</td>\n",
       "      <td>0</td>\n",
       "      <td>0</td>\n",
       "    </tr>\n",
       "    <tr>\n",
       "      <th>20459</th>\n",
       "      <td>440304201400429</td>\n",
       "      <td>2</td>\n",
       "      <td>10</td>\n",
       "      <td>9</td>\n",
       "      <td>2014-04-23 19:10:00</td>\n",
       "      <td>5.693147</td>\n",
       "      <td>0</td>\n",
       "      <td>0</td>\n",
       "      <td>0</td>\n",
       "      <td>0</td>\n",
       "      <td>0</td>\n",
       "      <td>0</td>\n",
       "      <td>0</td>\n",
       "      <td>0</td>\n",
       "      <td>0</td>\n",
       "      <td>0</td>\n",
       "    </tr>\n",
       "    <tr>\n",
       "      <th>59415</th>\n",
       "      <td>440307201409831</td>\n",
       "      <td>3</td>\n",
       "      <td>6</td>\n",
       "      <td>9</td>\n",
       "      <td>2014-10-30 11:46:00</td>\n",
       "      <td>5.693147</td>\n",
       "      <td>0</td>\n",
       "      <td>0</td>\n",
       "      <td>0</td>\n",
       "      <td>0</td>\n",
       "      <td>0</td>\n",
       "      <td>0</td>\n",
       "      <td>0</td>\n",
       "      <td>0</td>\n",
       "      <td>0</td>\n",
       "      <td>0</td>\n",
       "    </tr>\n",
       "  </tbody>\n",
       "</table>\n",
       "</div>"
      ],
      "text/plain": [
       "                  事故编号  周几  时段  星期              事故发生时间     事故损失值  总死亡人数  \\\n",
       "42278  440307201407868   1  10   9 2014-09-02 18:32:00  5.693147      0   \n",
       "59420  440309201415264   5  11   9 2014-11-15 20:30:00  5.693147      0   \n",
       "68942  440302201404296   5   8   6 2014-11-29 14:30:00  5.693147      0   \n",
       "20459  440304201400429   2  10   9 2014-04-23 19:10:00  5.693147      0   \n",
       "59415  440307201409831   3   6   9 2014-10-30 11:46:00  5.693147      0   \n",
       "\n",
       "       总受伤人数  死亡人数  抢救死亡人数Q  失踪人数  重伤人数  轻伤人数  损坏机动车数  损坏非机动车数  直接财产损失  \n",
       "42278      1     0        0     0     0     0       0        0       0  \n",
       "59420      0     0        0     0     0     0       0        0       0  \n",
       "68942      0     0        0     0     0     0       0        0       0  \n",
       "20459      0     0        0     0     0     0       0        0       0  \n",
       "59415      0     0        0     0     0     0       0        0       0  "
      ]
     },
     "execution_count": 8,
     "metadata": {},
     "output_type": "execute_result"
    }
   ],
   "source": [
    "data = data.sort_values(by='事故损失值',ascending=True)\n",
    "data.head()"
   ]
  },
  {
   "cell_type": "markdown",
   "metadata": {},
   "source": [
    "## 2.2 box-cox变换"
   ]
  },
  {
   "cell_type": "code",
   "execution_count": 9,
   "metadata": {
    "collapsed": false
   },
   "outputs": [
    {
     "data": {
      "image/png": "[encoded data removed]",
      "text/plain": [
       "<matplotlib.figure.Figure at 0x27340d03978>"
      ]
     },
     "metadata": {},
     "output_type": "display_data"
    },
    {
     "data": {
      "image/png": "[encoded data removed]",
      "text/plain": [
       "<matplotlib.figure.Figure at 0x27341a79160>"
      ]
     },
     "metadata": {},
     "output_type": "display_data"
    }
   ],
   "source": [
    "#box-cox变换\n",
    "fig = plt.figure()\n",
    "ax1 = fig.add_subplot(211)\n",
    "ax2 = fig.add_subplot(212)\n",
    "prob = stats.probplot(data['事故损失值'], dist=stats.norm,plot=ax1)\n",
    "xt, _ = stats.boxcox(data['事故损失值'])\n",
    "prob = stats.probplot(xt, dist=stats.norm,plot=ax2)\n",
    "\n",
    "fig2, (axis1,axis2) = plt.subplots(1,2,figsize=(10,5))\n",
    "axis1.set_title('before Box-Cox transformation')\n",
    "axis2.set_title('after Box-Cox transformation')\n",
    "sns.kdeplot(data['事故损失值'], shade=True,ax=axis1)\n",
    "sns.kdeplot(xt,shade=True,ax=axis2)\n",
    "\n",
    "data['事故损失值'] = xt"
   ]
  },
  {
   "cell_type": "code",
   "execution_count": 10,
   "metadata": {
    "collapsed": false
   },
   "outputs": [
    {
     "data": {
      "text/html": [
       "<div>\n",
       "<table border=\"1\" class=\"dataframe\">\n",
       "  <thead>\n",
       "    <tr style=\"text-align: right;\">\n",
       "      <th></th>\n",
       "      <th>事故编号</th>\n",
       "      <th>周几</th>\n",
       "      <th>时段</th>\n",
       "      <th>星期</th>\n",
       "      <th>事故发生时间</th>\n",
       "      <th>事故损失值</th>\n",
       "      <th>总死亡人数</th>\n",
       "      <th>总受伤人数</th>\n",
       "      <th>死亡人数</th>\n",
       "      <th>抢救死亡人数Q</th>\n",
       "      <th>失踪人数</th>\n",
       "      <th>重伤人数</th>\n",
       "      <th>轻伤人数</th>\n",
       "      <th>损坏机动车数</th>\n",
       "      <th>损坏非机动车数</th>\n",
       "      <th>直接财产损失</th>\n",
       "    </tr>\n",
       "  </thead>\n",
       "  <tbody>\n",
       "    <tr>\n",
       "      <th>121850</th>\n",
       "      <td>440380201500053</td>\n",
       "      <td>6</td>\n",
       "      <td>8</td>\n",
       "      <td>0</td>\n",
       "      <td>2015-03-01 15:30:00</td>\n",
       "      <td>0.271813</td>\n",
       "      <td>8</td>\n",
       "      <td>24</td>\n",
       "      <td>4</td>\n",
       "      <td>4</td>\n",
       "      <td>0</td>\n",
       "      <td>4</td>\n",
       "      <td>20</td>\n",
       "      <td>0</td>\n",
       "      <td>0</td>\n",
       "      <td>10000</td>\n",
       "    </tr>\n",
       "    <tr>\n",
       "      <th>85303</th>\n",
       "      <td>440380201500053</td>\n",
       "      <td>6</td>\n",
       "      <td>8</td>\n",
       "      <td>0</td>\n",
       "      <td>2015-03-01 15:30:00</td>\n",
       "      <td>0.271813</td>\n",
       "      <td>8</td>\n",
       "      <td>24</td>\n",
       "      <td>4</td>\n",
       "      <td>4</td>\n",
       "      <td>0</td>\n",
       "      <td>4</td>\n",
       "      <td>20</td>\n",
       "      <td>0</td>\n",
       "      <td>0</td>\n",
       "      <td>10000</td>\n",
       "    </tr>\n",
       "    <tr>\n",
       "      <th>0</th>\n",
       "      <td>440303201402052</td>\n",
       "      <td>5</td>\n",
       "      <td>1</td>\n",
       "      <td>6</td>\n",
       "      <td>2014-06-21 00:51:00</td>\n",
       "      <td>0.271813</td>\n",
       "      <td>6</td>\n",
       "      <td>0</td>\n",
       "      <td>6</td>\n",
       "      <td>0</td>\n",
       "      <td>0</td>\n",
       "      <td>0</td>\n",
       "      <td>0</td>\n",
       "      <td>0</td>\n",
       "      <td>0</td>\n",
       "      <td>50000</td>\n",
       "    </tr>\n",
       "    <tr>\n",
       "      <th>108930</th>\n",
       "      <td>440311201501338</td>\n",
       "      <td>5</td>\n",
       "      <td>5</td>\n",
       "      <td>6</td>\n",
       "      <td>2015-06-20 08:05:00</td>\n",
       "      <td>0.271813</td>\n",
       "      <td>1</td>\n",
       "      <td>3</td>\n",
       "      <td>0</td>\n",
       "      <td>1</td>\n",
       "      <td>0</td>\n",
       "      <td>0</td>\n",
       "      <td>3</td>\n",
       "      <td>0</td>\n",
       "      <td>0</td>\n",
       "      <td>600000</td>\n",
       "    </tr>\n",
       "    <tr>\n",
       "      <th>145477</th>\n",
       "      <td>440311201501338</td>\n",
       "      <td>5</td>\n",
       "      <td>5</td>\n",
       "      <td>6</td>\n",
       "      <td>2015-06-20 08:05:00</td>\n",
       "      <td>0.271813</td>\n",
       "      <td>1</td>\n",
       "      <td>3</td>\n",
       "      <td>0</td>\n",
       "      <td>1</td>\n",
       "      <td>0</td>\n",
       "      <td>0</td>\n",
       "      <td>3</td>\n",
       "      <td>0</td>\n",
       "      <td>0</td>\n",
       "      <td>600000</td>\n",
       "    </tr>\n",
       "  </tbody>\n",
       "</table>\n",
       "</div>"
      ],
      "text/plain": [
       "                   事故编号  周几  时段  星期              事故发生时间     事故损失值  总死亡人数  \\\n",
       "121850  440380201500053   6   8   0 2015-03-01 15:30:00  0.271813      8   \n",
       "85303   440380201500053   6   8   0 2015-03-01 15:30:00  0.271813      8   \n",
       "0       440303201402052   5   1   6 2014-06-21 00:51:00  0.271813      6   \n",
       "108930  440311201501338   5   5   6 2015-06-20 08:05:00  0.271813      1   \n",
       "145477  440311201501338   5   5   6 2015-06-20 08:05:00  0.271813      1   \n",
       "\n",
       "        总受伤人数  死亡人数  抢救死亡人数Q  失踪人数  重伤人数  轻伤人数  损坏机动车数  损坏非机动车数  直接财产损失  \n",
       "121850     24     4        4     0     4    20       0        0   10000  \n",
       "85303      24     4        4     0     4    20       0        0   10000  \n",
       "0           0     6        0     0     0     0       0        0   50000  \n",
       "108930      3     0        1     0     0     3       0        0  600000  \n",
       "145477      3     0        1     0     0     3       0        0  600000  "
      ]
     },
     "execution_count": 10,
     "metadata": {},
     "output_type": "execute_result"
    }
   ],
   "source": [
    "#print\n",
    "data = data.sort_values(by='事故损失值',ascending=False)\n",
    "data.head()"
   ]
  },
  {
   "cell_type": "code",
   "execution_count": 11,
   "metadata": {
    "collapsed": false
   },
   "outputs": [
    {
     "data": {
      "text/html": [
       "<div>\n",
       "<table border=\"1\" class=\"dataframe\">\n",
       "  <thead>\n",
       "    <tr style=\"text-align: right;\">\n",
       "      <th></th>\n",
       "      <th>事故编号</th>\n",
       "      <th>周几</th>\n",
       "      <th>时段</th>\n",
       "      <th>星期</th>\n",
       "      <th>事故发生时间</th>\n",
       "      <th>事故损失值</th>\n",
       "      <th>总死亡人数</th>\n",
       "      <th>总受伤人数</th>\n",
       "      <th>死亡人数</th>\n",
       "      <th>抢救死亡人数Q</th>\n",
       "      <th>失踪人数</th>\n",
       "      <th>重伤人数</th>\n",
       "      <th>轻伤人数</th>\n",
       "      <th>损坏机动车数</th>\n",
       "      <th>损坏非机动车数</th>\n",
       "      <th>直接财产损失</th>\n",
       "    </tr>\n",
       "  </thead>\n",
       "  <tbody>\n",
       "    <tr>\n",
       "      <th>42278</th>\n",
       "      <td>440307201407868</td>\n",
       "      <td>1</td>\n",
       "      <td>10</td>\n",
       "      <td>9</td>\n",
       "      <td>2014-09-02 18:32:00</td>\n",
       "      <td>0.27136</td>\n",
       "      <td>0</td>\n",
       "      <td>1</td>\n",
       "      <td>0</td>\n",
       "      <td>0</td>\n",
       "      <td>0</td>\n",
       "      <td>0</td>\n",
       "      <td>0</td>\n",
       "      <td>0</td>\n",
       "      <td>0</td>\n",
       "      <td>0</td>\n",
       "    </tr>\n",
       "    <tr>\n",
       "      <th>59413</th>\n",
       "      <td>440307201410541</td>\n",
       "      <td>2</td>\n",
       "      <td>4</td>\n",
       "      <td>9</td>\n",
       "      <td>2014-11-19 06:20:00</td>\n",
       "      <td>0.27136</td>\n",
       "      <td>0</td>\n",
       "      <td>0</td>\n",
       "      <td>0</td>\n",
       "      <td>0</td>\n",
       "      <td>0</td>\n",
       "      <td>0</td>\n",
       "      <td>0</td>\n",
       "      <td>0</td>\n",
       "      <td>0</td>\n",
       "      <td>0</td>\n",
       "    </tr>\n",
       "    <tr>\n",
       "      <th>20455</th>\n",
       "      <td>440302201401499</td>\n",
       "      <td>2</td>\n",
       "      <td>10</td>\n",
       "      <td>3</td>\n",
       "      <td>2014-04-23 18:50:00</td>\n",
       "      <td>0.27136</td>\n",
       "      <td>0</td>\n",
       "      <td>0</td>\n",
       "      <td>0</td>\n",
       "      <td>0</td>\n",
       "      <td>0</td>\n",
       "      <td>0</td>\n",
       "      <td>0</td>\n",
       "      <td>0</td>\n",
       "      <td>0</td>\n",
       "      <td>0</td>\n",
       "    </tr>\n",
       "    <tr>\n",
       "      <th>59409</th>\n",
       "      <td>440307201408717</td>\n",
       "      <td>4</td>\n",
       "      <td>9</td>\n",
       "      <td>9</td>\n",
       "      <td>2014-09-26 16:58:00</td>\n",
       "      <td>0.27136</td>\n",
       "      <td>0</td>\n",
       "      <td>0</td>\n",
       "      <td>0</td>\n",
       "      <td>0</td>\n",
       "      <td>0</td>\n",
       "      <td>0</td>\n",
       "      <td>0</td>\n",
       "      <td>0</td>\n",
       "      <td>0</td>\n",
       "      <td>0</td>\n",
       "    </tr>\n",
       "    <tr>\n",
       "      <th>215833</th>\n",
       "      <td>440307201612659</td>\n",
       "      <td>2</td>\n",
       "      <td>5</td>\n",
       "      <td>9</td>\n",
       "      <td>2016-10-26 08:56:00</td>\n",
       "      <td>0.27136</td>\n",
       "      <td>0</td>\n",
       "      <td>1</td>\n",
       "      <td>0</td>\n",
       "      <td>0</td>\n",
       "      <td>0</td>\n",
       "      <td>0</td>\n",
       "      <td>0</td>\n",
       "      <td>0</td>\n",
       "      <td>0</td>\n",
       "      <td>0</td>\n",
       "    </tr>\n",
       "  </tbody>\n",
       "</table>\n",
       "</div>"
      ],
      "text/plain": [
       "                   事故编号  周几  时段  星期              事故发生时间    事故损失值  总死亡人数  \\\n",
       "42278   440307201407868   1  10   9 2014-09-02 18:32:00  0.27136      0   \n",
       "59413   440307201410541   2   4   9 2014-11-19 06:20:00  0.27136      0   \n",
       "20455   440302201401499   2  10   3 2014-04-23 18:50:00  0.27136      0   \n",
       "59409   440307201408717   4   9   9 2014-09-26 16:58:00  0.27136      0   \n",
       "215833  440307201612659   2   5   9 2016-10-26 08:56:00  0.27136      0   \n",
       "\n",
       "        总受伤人数  死亡人数  抢救死亡人数Q  失踪人数  重伤人数  轻伤人数  损坏机动车数  损坏非机动车数  直接财产损失  \n",
       "42278       1     0        0     0     0     0       0        0       0  \n",
       "59413       0     0        0     0     0     0       0        0       0  \n",
       "20455       0     0        0     0     0     0       0        0       0  \n",
       "59409       0     0        0     0     0     0       0        0       0  \n",
       "215833      1     0        0     0     0     0       0        0       0  "
      ]
     },
     "execution_count": 11,
     "metadata": {},
     "output_type": "execute_result"
    }
   ],
   "source": [
    "#print\n",
    "data = data.sort_values(by='事故损失值',ascending=True)\n",
    "data.head()"
   ]
  },
  {
   "cell_type": "code",
   "execution_count": 12,
   "metadata": {
    "collapsed": false
   },
   "outputs": [
    {
     "data": {
      "image/png": "[encoded data removed]",
      "text/plain": [
       "<matplotlib.figure.Figure at 0x2733f76e048>"
      ]
     },
     "metadata": {},
     "output_type": "display_data"
    }
   ],
   "source": [
    "plt.plot(data['事故损失值'])\n",
    "plt.show()"
   ]
  },
  {
   "cell_type": "markdown",
   "metadata": {},
   "source": [
    "## 2.3 开始关联分析"
   ]
  },
  {
   "cell_type": "code",
   "execution_count": 16,
   "metadata": {
    "collapsed": false
   },
   "outputs": [],
   "source": [
    "# nan_columns = {}\n",
    "# length_data = data.index[-1]+1\n",
    "# for i in range(len(data.columns)): \n",
    "#     odds = sum(data[data.columns[i]].isnull())/length_data\n",
    "#     nan_columns[data.columns[i]] = odds\n",
    "    \n",
    "# # print(nan_columns)\n",
    "# #删除缺失率大于0.5的列\n",
    "# for i in nan_columns:\n",
    "#         print(str(i)+': '+str(nan_columns[i]))"
   ]
  },
  {
   "cell_type": "code",
   "execution_count": 17,
   "metadata": {
    "collapsed": false
   },
   "outputs": [
    {
     "data": {
      "text/plain": [
       "Index(['事故编号', '周几', '时段', '星期', '事故发生时间', '事故损失值', '总死亡人数', '总受伤人数', '死亡人数',\n",
       "       '抢救死亡人数Q', '失踪人数', '重伤人数', '轻伤人数', '损坏机动车数', '损坏非机动车数', '直接财产损失'],\n",
       "      dtype='object')"
      ]
     },
     "execution_count": 17,
     "metadata": {},
     "output_type": "execute_result"
    }
   ],
   "source": [
    "data.columns"
   ]
  },
  {
   "cell_type": "code",
   "execution_count": 19,
   "metadata": {
    "collapsed": false
   },
   "outputs": [],
   "source": [
    "# data_heatMap = data[['周几', '时段', '星期', '事故发生时间', '事故损失值']]\n",
    "# data_heatMap.to_excel('data_heatMap_17.9.25.xlsx')\n",
    "# sns.heatmap(data=data_heatMap)\n",
    "# plt.show()\n",
    "\n",
    "# sns.heatmap(data[['周几', '事故损失值']])"
   ]
  },
  {
   "cell_type": "code",
   "execution_count": 20,
   "metadata": {
    "collapsed": false
   },
   "outputs": [
    {
     "data": {
      "image/png": "[encoded data removed]",
      "text/plain": [
       "<matplotlib.figure.Figure at 0x273440b8e48>"
      ]
     },
     "metadata": {},
     "output_type": "display_data"
    }
   ],
   "source": [
    "ax = sns.boxplot(x=\"周几\", y=\"事故损失值\", data=data[[\"周几\", \"事故损失值\"]], whis=np.inf)\n",
    "ax = sns.stripplot(x=\"周几\", y=\"事故损失值\", data=data[[\"周几\", \"事故损失值\"]],jitter=True, color=\".3\")"
   ]
  },
  {
   "cell_type": "code",
   "execution_count": 21,
   "metadata": {
    "collapsed": false
   },
   "outputs": [
    {
     "data": {
      "image/png": "[encoded data removed]",
      "text/plain": [
       "<matplotlib.figure.Figure at 0x27341967860>"
      ]
     },
     "metadata": {},
     "output_type": "display_data"
    }
   ],
   "source": [
    "#时段\n",
    "ax = sns.boxplot(x=\"时段\", y=\"事故损失值\", data=data[[\"时段\", \"事故损失值\"]], whis=np.inf)\n",
    "ax = sns.stripplot(x=\"时段\", y=\"事故损失值\", data=data[[\"时段\", \"事故损失值\"]],jitter=True, color=\".3\")\n",
    "plt.show()"
   ]
  },
  {
   "cell_type": "markdown",
   "metadata": {
    "collapsed": true
   },
   "source": [
    "## 2.4 数据合并"
   ]
  },
  {
   "cell_type": "code",
   "execution_count": 23,
   "metadata": {
    "collapsed": true
   },
   "outputs": [],
   "source": [
    "data = data[['事故编号', '周几', '时段','事故损失值']]\n",
    "data.to_excel('data_afterBoxCox_17.9.25.xlsx')"
   ]
  },
  {
   "cell_type": "code",
   "execution_count": 24,
   "metadata": {
    "collapsed": false
   },
   "outputs": [
    {
     "data": {
      "text/plain": [
       "Index(['事故编号', '周几', '时段', '事故损失值'], dtype='object')"
      ]
     },
     "execution_count": 24,
     "metadata": {},
     "output_type": "execute_result"
    }
   ],
   "source": [
    "data.columns"
   ]
  },
  {
   "cell_type": "markdown",
   "metadata": {},
   "source": [
    "# 3. 第三轮"
   ]
  },
  {
   "cell_type": "code",
   "execution_count": 4,
   "metadata": {
    "collapsed": false
   },
   "outputs": [],
   "source": [
    "data = pd.read_excel('data_afterBoxCox_17.9.25.xlsx')"
   ]
  },
  {
   "cell_type": "code",
   "execution_count": 5,
   "metadata": {
    "collapsed": true
   },
   "outputs": [],
   "source": [
    "xls = pd.ExcelFile('2014年基本信息表.xls')\n",
    "data_upperHalf = xls.parse('基本信息表2014上半年')\n",
    "data_lowerHalf = xls.parse('基本信息表2014下半年')\n",
    "data_all = pd.DataFrame()\n",
    "data_all = pd.concat([data_upperHalf,data_lowerHalf],ignore_index=True)\n",
    "\n",
    "xls = pd.ExcelFile('2015年基本信息表.xls')\n",
    "data_upperHalf = xls.parse('基本信息表2015年上半年')\n",
    "data_lowerHalf = xls.parse('基本信息表2015年上半年')\n",
    "data_all = pd.concat([data_all,data_upperHalf,data_lowerHalf],ignore_index=True)\n",
    "\n",
    "xls = pd.ExcelFile('2016年基本信息表.xls')\n",
    "data_upperHalf = xls.parse('2016年上半年基本信息表')\n",
    "data_lowerHalf = xls.parse('2016年下半年基本信息表')\n",
    "data_all = pd.concat([data_all,data_upperHalf,data_lowerHalf],ignore_index=True)\n",
    "xls.close()\n",
    "\n",
    "del data_upperHalf\n",
    "del data_lowerHalf"
   ]
  },
  {
   "cell_type": "code",
   "execution_count": 6,
   "metadata": {
    "collapsed": false
   },
   "outputs": [
    {
     "data": {
      "text/plain": [
       "Index(['中央隔离设施', '事故初查原因', '事故初查原因分类', '事故发生时间', '事故地点', '事故多发点段', '事故形态',\n",
       "       '事故类型', '事故编号', '事故认定原因', '事故认定原因分类小类', '交通信号方式（控制）', '交通标志标线完善',\n",
       "       '公安部事故编号', '公路行政等级', '公里数', '其他交通安全设施不全', '单向路宽', '单车事故', '双向路宽',\n",
       "       '受伤人数', '在道路横断面位置', '地形', '天气', '失踪人数', '当事人总数', '所属中队', '所辖乡镇',\n",
       "       '抢救死亡人数Q', '损坏机动车数', '损坏非机动车数', '文书状态', '星期', '是否简易程序', '是否运载危险物品',\n",
       "       '是否逃逸', '机动车数量', '死亡人数', '涉外事故', '照明条件', '现场', '直接财产损失', '米数', '能见度',\n",
       "       '行人数量', '行政区划', '调解人1', '调解人2', '路侧防护设施类型', '路口路段类型', '路号', '路名',\n",
       "       '路外事故类型', '路表情况', '路面状况', '路面结构', '路面附着系数', '车辆间事故', '车辆间事故.1', '轻伤人数',\n",
       "       '运载危险品事故后果', '逃逸事故侦破', '道路安全属性', '道路安全隐患督办等级', '道路物理隔离', '道路类型', '道路线型',\n",
       "       '重伤人数', '长下坡路段', '非机动车数量'],\n",
       "      dtype='object')"
      ]
     },
     "execution_count": 6,
     "metadata": {},
     "output_type": "execute_result"
    }
   ],
   "source": [
    "data_all.columns"
   ]
  },
  {
   "cell_type": "code",
   "execution_count": 7,
   "metadata": {
    "collapsed": false
   },
   "outputs": [],
   "source": [
    "data = pd.merge(left=data,right=data_all,on='事故编号')\n",
    "del data_all"
   ]
  },
  {
   "cell_type": "code",
   "execution_count": 8,
   "metadata": {
    "collapsed": false
   },
   "outputs": [
    {
     "data": {
      "text/plain": [
       "Index(['事故编号', '周几', '时段', '事故损失值', '中央隔离设施', '事故初查原因', '事故初查原因分类', '事故发生时间',\n",
       "       '事故地点', '事故多发点段', '事故形态', '事故类型', '事故认定原因', '事故认定原因分类小类', '交通信号方式（控制）',\n",
       "       '交通标志标线完善', '公安部事故编号', '公路行政等级', '公里数', '其他交通安全设施不全', '单向路宽', '单车事故',\n",
       "       '双向路宽', '受伤人数', '在道路横断面位置', '地形', '天气', '失踪人数', '当事人总数', '所属中队', '所辖乡镇',\n",
       "       '抢救死亡人数Q', '损坏机动车数', '损坏非机动车数', '文书状态', '星期', '是否简易程序', '是否运载危险物品',\n",
       "       '是否逃逸', '机动车数量', '死亡人数', '涉外事故', '照明条件', '现场', '直接财产损失', '米数', '能见度',\n",
       "       '行人数量', '行政区划', '调解人1', '调解人2', '路侧防护设施类型', '路口路段类型', '路号', '路名',\n",
       "       '路外事故类型', '路表情况', '路面状况', '路面结构', '路面附着系数', '车辆间事故', '车辆间事故.1', '轻伤人数',\n",
       "       '运载危险品事故后果', '逃逸事故侦破', '道路安全属性', '道路安全隐患督办等级', '道路物理隔离', '道路类型', '道路线型',\n",
       "       '重伤人数', '长下坡路段', '非机动车数量'],\n",
       "      dtype='object')"
      ]
     },
     "execution_count": 8,
     "metadata": {},
     "output_type": "execute_result"
    }
   ],
   "source": [
    "data.columns"
   ]
  },
  {
   "cell_type": "markdown",
   "metadata": {},
   "source": [
    "## 3.1 删除缺失值过多特征"
   ]
  },
  {
   "cell_type": "code",
   "execution_count": 9,
   "metadata": {
    "collapsed": false
   },
   "outputs": [
    {
     "name": "stdout",
     "output_type": "stream",
     "text": [
      "{'事故编号': 0.0, '周几': 0.0, '时段': 0.0, '事故损失值': 0.0, '中央隔离设施': 0.9699590424750747, '事故初查原因': 0.90623827162508364, '事故初查原因分类': 0.90624806226849208, '事故发生时间': 0.0, '事故地点': 0.0, '事故多发点段': 0.088347502570043895, '事故形态': 0.09226049638562081, '事故类型': 0.0, '事故认定原因': 0.010799079679519605, '事故认定原因分类小类': 0.094668994664099337, '交通信号方式（控制）': 0.96422498898552611, '交通标志标线完善': 0.0, '公安部事故编号': 0.99945172396912685, '公路行政等级': 0.68940489205815647, '公里数': 0.091447872982719516, '其他交通安全设施不全': 0.088203906466719967, '单向路宽': 0.99257216520078972, '单车事故': 0.90071308519491544, '双向路宽': 0.99726841048904269, '受伤人数': 0.0, '在道路横断面位置': 0.96422498898552611, '地形': 0.96425109736794867, '天气': 0.0, '失踪人数': 0.0, '当事人总数': 0.96428046929817401, '所属中队': 0.7261002235530245, '所辖乡镇': 0.010361764273942203, '抢救死亡人数Q': 0.0, '损坏机动车数': 0.0, '损坏非机动车数': 0.0, '文书状态': 1.0, '星期': 0.0, '是否简易程序': 0.0, '是否运载危险物品': 0.0, '是否逃逸': 1.0, '机动车数量': 0.96428046929817401, '死亡人数': 0.0, '涉外事故': 0.0, '照明条件': 0.96422498898552611, '现场': 0.96422498898552611, '直接财产损失': 0.0, '米数': 0.66623696620596251, '能见度': 0.96466556793890634, '行人数量': 0.96428046929817401, '行政区划': 0.0, '调解人1': 1.0, '调解人2': 1.0, '路侧防护设施类型': 0.96443711959270928, '路口路段类型': 0.96426088801135712, '路号': 0.091444609434916696, '路名': 0.091483772008550499, '路外事故类型': 0.99981071422743661, '路表情况': 0.96422498898552611, '路面状况': 0.96422498898552611, '路面结构': 0.96425436091575156, '路面附着系数': 0.99932118205701415, '车辆间事故': 1.0, '车辆间事故.1': 0.24141768516554346, '轻伤人数': 0.0, '运载危险品事故后果': 1.0, '逃逸事故侦破': 0.99594993717670477, '道路安全属性': 0.96723398005972294, '道路安全隐患督办等级': 0.97504364995186266, '道路物理隔离': 0.96426741510696279, '道路类型': 0.091467454269536411, '道路线型': 0.96425109736794867, '重伤人数': 0.0, '长下坡路段': 0.0, '非机动车数量': 0.96428046929817401}\n",
      "----------删除的特征----------------------------\n",
      "中央隔离设施\n",
      "事故初查原因\n",
      "事故初查原因分类\n",
      "交通信号方式（控制）\n",
      "公安部事故编号\n",
      "公路行政等级\n",
      "单向路宽\n",
      "单车事故\n",
      "双向路宽\n",
      "在道路横断面位置\n",
      "地形\n",
      "当事人总数\n",
      "所属中队\n",
      "文书状态\n",
      "是否逃逸\n",
      "机动车数量\n",
      "照明条件\n",
      "现场\n",
      "米数\n",
      "能见度\n",
      "行人数量\n",
      "调解人1\n",
      "调解人2\n",
      "路侧防护设施类型\n",
      "路口路段类型\n",
      "路外事故类型\n",
      "路表情况\n",
      "路面状况\n",
      "路面结构\n",
      "路面附着系数\n",
      "车辆间事故\n",
      "运载危险品事故后果\n",
      "逃逸事故侦破\n",
      "道路安全属性\n",
      "道路安全隐患督办等级\n",
      "道路物理隔离\n",
      "道路线型\n",
      "非机动车数量\n",
      "----------after delete----------------------------\n",
      "{'事故编号': 0.0, '周几': 0.0, '时段': 0.0, '事故损失值': 0.0, '事故发生时间': 0.0, '事故地点': 0.0, '事故多发点段': 0.088347502570043895, '事故形态': 0.09226049638562081, '事故类型': 0.0, '事故认定原因': 0.010799079679519605, '事故认定原因分类小类': 0.094668994664099337, '交通标志标线完善': 0.0, '公里数': 0.091447872982719516, '其他交通安全设施不全': 0.088203906466719967, '受伤人数': 0.0, '天气': 0.0, '失踪人数': 0.0, '所辖乡镇': 0.010361764273942203, '抢救死亡人数Q': 0.0, '损坏机动车数': 0.0, '损坏非机动车数': 0.0, '星期': 0.0, '是否简易程序': 0.0, '是否运载危险物品': 0.0, '死亡人数': 0.0, '涉外事故': 0.0, '直接财产损失': 0.0, '行政区划': 0.0, '路号': 0.091444609434916696, '路名': 0.091483772008550499, '车辆间事故.1': 0.24141768516554346, '轻伤人数': 0.0, '道路类型': 0.091467454269536411, '重伤人数': 0.0, '长下坡路段': 0.0}\n"
     ]
    }
   ],
   "source": [
    "nan_columns = {}\n",
    "length_data = data.index[-1]+1\n",
    "for i in range(len(data.columns)): \n",
    "    odds = sum(data[data.columns[i]].isnull())/length_data\n",
    "    nan_columns[data.columns[i]] = odds\n",
    "\n",
    "print(nan_columns)\n",
    "    \n",
    "# print(nan_columns)\n",
    "#删除缺失率大于0.5的列\n",
    "print('----------删除的特征----------------------------')\n",
    "nan_columns_rep = nan_columns.copy()\n",
    "for i in nan_columns:\n",
    "    if nan_columns[i]>0.5:\n",
    "        data.drop(str(i),inplace=True,axis=1)\n",
    "        print(i)\n",
    "        del nan_columns_rep[i]\n",
    "\n",
    "del nan_columns\n",
    "\n",
    "print('----------after delete----------------------------')\n",
    "print(nan_columns_rep)\n"
   ]
  },
  {
   "cell_type": "code",
   "execution_count": 11,
   "metadata": {
    "collapsed": false
   },
   "outputs": [
    {
     "name": "stdout",
     "output_type": "stream",
     "text": [
      "事故编号\n",
      "周几\n",
      "时段\n",
      "事故损失值\n",
      "事故发生时间\n",
      "事故地点\n",
      "事故多发点段\n",
      "事故形态\n",
      "事故类型\n",
      "事故认定原因\n",
      "事故认定原因分类小类\n",
      "交通标志标线完善\n",
      "公里数\n",
      "其他交通安全设施不全\n",
      "受伤人数\n",
      "天气\n",
      "失踪人数\n",
      "所辖乡镇\n",
      "抢救死亡人数Q\n",
      "损坏机动车数\n",
      "损坏非机动车数\n",
      "星期\n",
      "是否简易程序\n",
      "是否运载危险物品\n",
      "死亡人数\n",
      "涉外事故\n",
      "直接财产损失\n",
      "行政区划\n",
      "路号\n",
      "路名\n",
      "车辆间事故.1\n",
      "轻伤人数\n",
      "道路类型\n",
      "重伤人数\n",
      "长下坡路段\n"
     ]
    }
   ],
   "source": [
    "for i in data.columns:\n",
    "    print(i)"
   ]
  },
  {
   "cell_type": "code",
   "execution_count": 65,
   "metadata": {
    "collapsed": false
   },
   "outputs": [
    {
     "name": "stdout",
     "output_type": "stream",
     "text": [
      "事故编号: 0.0\n",
      "周几: 0.0\n",
      "时段: 0.0\n",
      "事故损失值: 0.0\n",
      "事故发生时间: 0.0\n",
      "事故地点: 0.0\n",
      "事故多发点段: 0.08834750257\n",
      "事故形态: 0.0922604963856\n",
      "事故类型: 0.0\n",
      "事故认定原因: 0.0107990796795\n",
      "事故认定原因分类小类: 0.0946689946641\n",
      "交通标志标线完善: 0.0\n",
      "公里数: 0.0914478729827\n",
      "其他交通安全设施不全: 0.0882039064667\n",
      "受伤人数: 0.0\n",
      "天气: 0.0\n",
      "失踪人数: 0.0\n",
      "所辖乡镇: 0.0103617642739\n",
      "抢救死亡人数Q: 0.0\n",
      "损坏机动车数: 0.0\n",
      "损坏非机动车数: 0.0\n",
      "星期: 0.0\n",
      "是否简易程序: 0.0\n",
      "是否运载危险物品: 0.0\n",
      "死亡人数: 0.0\n",
      "涉外事故: 0.0\n",
      "直接财产损失: 0.0\n",
      "行政区划: 0.0\n",
      "路号: 0.0914446094349\n",
      "路名: 0.0914837720086\n",
      "车辆间事故.1: 0.241417685166\n",
      "轻伤人数: 0.0\n",
      "道路类型: 0.0914674542695\n",
      "重伤人数: 0.0\n",
      "长下坡路段: 0.0\n",
      "35\n"
     ]
    }
   ],
   "source": [
    "for i in nan_columns_rep:\n",
    "    print(i+': '+str(nan_columns_rep[i]))\n",
    "print(len(nan_columns_rep))\n",
    "\n",
    "del nan_columns_rep"
   ]
  },
  {
   "cell_type": "code",
   "execution_count": 62,
   "metadata": {
    "collapsed": true
   },
   "outputs": [],
   "source": [
    "data.to_excel('data_第三轮_17.9.25.xlsx')"
   ]
  },
  {
   "cell_type": "markdown",
   "metadata": {},
   "source": [
    "# 4. 第四轮"
   ]
  },
  {
   "cell_type": "code",
   "execution_count": 125,
   "metadata": {
    "collapsed": true
   },
   "outputs": [],
   "source": [
    "data = pd.read_excel('data_第三轮_17.9.25.xlsx')"
   ]
  },
  {
   "cell_type": "markdown",
   "metadata": {},
   "source": [
    "## 4.1 处理缺失值"
   ]
  },
  {
   "cell_type": "code",
   "execution_count": 126,
   "metadata": {
    "collapsed": false,
    "scrolled": true
   },
   "outputs": [
    {
     "name": "stdout",
     "output_type": "stream",
     "text": [
      "事故多发点段 : 0.08834750257\n",
      "事故形态 : 0.0922604963856\n",
      "事故认定原因 : 0.0107990796795\n",
      "事故认定原因分类小类 : 0.0946689946641\n",
      "公里数 : 0.0914478729827\n",
      "其他交通安全设施不全 : 0.0882039064667\n",
      "所辖乡镇 : 0.0103617642739\n",
      "路号 : 0.0914446094349\n",
      "路名 : 0.0914837720086\n",
      "车辆间事故.1 : 0.241417685166\n",
      "道路类型 : 0.0914674542695\n"
     ]
    }
   ],
   "source": [
    "nan_columns = {}\n",
    "length_data = data.index[-1]+1\n",
    "for i in range(len(data.columns)): \n",
    "    odds = sum(data[data.columns[i]].isnull())/length_data\n",
    "    nan_columns[data.columns[i]] = odds\n",
    "\n",
    "for i in nan_columns:\n",
    "    if nan_columns[i]>0:\n",
    "        print(i+' : '+str(nan_columns[i]))"
   ]
  },
  {
   "cell_type": "code",
   "execution_count": 127,
   "metadata": {
    "collapsed": false
   },
   "outputs": [
    {
     "data": {
      "text/plain": [
       "Index(['事故编号', '周几', '时段', '事故损失值', '事故发生时间', '事故地点', '事故多发点段', '事故形态', '事故类型',\n",
       "       '事故认定原因', '事故认定原因分类小类', '交通标志标线完善', '公里数', '其他交通安全设施不全', '受伤人数', '天气',\n",
       "       '失踪人数', '所辖乡镇', '抢救死亡人数Q', '损坏机动车数', '损坏非机动车数', '星期', '是否简易程序',\n",
       "       '是否运载危险物品', '死亡人数', '涉外事故', '直接财产损失', '行政区划', '路号', '路名', '车辆间事故.1',\n",
       "       '轻伤人数', '道路类型', '重伤人数', '长下坡路段'],\n",
       "      dtype='object')"
      ]
     },
     "execution_count": 127,
     "metadata": {},
     "output_type": "execute_result"
    }
   ],
   "source": [
    "data.columns"
   ]
  },
  {
   "cell_type": "code",
   "execution_count": 128,
   "metadata": {
    "collapsed": false
   },
   "outputs": [
    {
     "data": {
      "image/png": "[encoded data removed]",
      "text/plain": [
       "<matplotlib.figure.Figure at 0x1c3ee61f400>"
      ]
     },
     "metadata": {},
     "output_type": "display_data"
    }
   ],
   "source": [
    "#事故多发点段全为2，删除\n",
    "sns.countplot(data['事故多发点段'])\n",
    "data.drop('事故多发点段',inplace=True,axis=1)"
   ]
  },
  {
   "cell_type": "code",
   "execution_count": 129,
   "metadata": {
    "collapsed": false
   },
   "outputs": [
    {
     "name": "stdout",
     "output_type": "stream",
     "text": [
      "事故形态\n",
      "11           24776\n",
      "12             315\n",
      "13              59\n",
      "19            2711\n",
      "21            2579\n",
      "22              53\n",
      "23              35\n",
      "29              67\n",
      "30              14\n",
      "31             108\n",
      "32               3\n",
      "33               6\n",
      "34              15\n",
      "35            3159\n",
      "36             155\n",
      "37               9\n",
      "38              56\n",
      "40              68\n",
      "50              33\n",
      "60               1\n",
      "70             662\n",
      "80               7\n",
      "99             186\n",
      "乘员跌落或抛出        292\n",
      "侧翻             794\n",
      "其他车辆与人事故       418\n",
      "其他车辆间事故      22008\n",
      "刮撞行人         18209\n",
      "坠车              48\n",
      "失火              58\n",
      "撞固定物         21353\n",
      "撞非固定物          951\n",
      "滚翻              17\n",
      "碰撞后碾压行人        201\n",
      "碰撞运动车辆      175790\n",
      "碰撞静止车辆        2551\n",
      "碾压行人           322\n",
      "自身摺叠            56\n",
      "dtype: int64\n",
      "38\n"
     ]
    }
   ],
   "source": [
    "#事故形态 ,不能理解，删除\n",
    "# sns.countplot(data['事故形态'])\n",
    "a = data.groupby(by='事故形态')\n",
    "print(a.size())\n",
    "print(len(a.size()))\n",
    "if '事故形态' in data.columns:\n",
    "    data.drop(labels='事故形态',inplace=True,axis=1)"
   ]
  },
  {
   "cell_type": "code",
   "execution_count": 130,
   "metadata": {
    "collapsed": false
   },
   "outputs": [
    {
     "data": {
      "image/png": "[encoded data removed]",
      "text/plain": [
       "<matplotlib.figure.Figure at 0x1c3ee8a6630>"
      ]
     },
     "metadata": {},
     "output_type": "display_data"
    },
    {
     "name": "stdout",
     "output_type": "stream",
     "text": [
      "----------处理后缺失率----------------------\n",
      "0.0\n"
     ]
    },
    {
     "data": {
      "image/png": "[encoded data removed]",
      "text/plain": [
       "<matplotlib.figure.Figure at 0x1c3efe3cb00>"
      ]
     },
     "metadata": {},
     "output_type": "display_data"
    }
   ],
   "source": [
    "#事故认定原因 \n",
    "plt.plot(data['事故认定原因'])\n",
    "plt.title('处理前')\n",
    "plt.show()\n",
    "a = data.groupby(by='事故认定原因').count()['事故编号'].sort_values(ascending=False)\n",
    "# print(a)\n",
    "#用最多值替代Nan\n",
    "data['事故认定原因'].fillna(1225.0,inplace=True)\n",
    "\n",
    "print('----------处理后缺失率----------------------')\n",
    "print(sum(data['事故认定原因'].isnull())/len(data))\n",
    "\n",
    "plt.plot(data['事故认定原因'])\n",
    "plt.title('处理后')\n",
    "plt.show()"
   ]
  },
  {
   "cell_type": "code",
   "execution_count": 131,
   "metadata": {
    "collapsed": false
   },
   "outputs": [
    {
     "name": "stdout",
     "output_type": "stream",
     "text": [
      "----------------处理后缺失率-----------------------\n",
      "0.0\n"
     ]
    },
    {
     "data": {
      "text/plain": [
       "<matplotlib.text.Text at 0x1c3f1cd3b38>"
      ]
     },
     "execution_count": 131,
     "metadata": {},
     "output_type": "execute_result"
    },
    {
     "data": {
      "image/png": "[encoded data removed]",
      "text/plain": [
       "<matplotlib.figure.Figure at 0x1c3ed937630>"
      ]
     },
     "metadata": {},
     "output_type": "display_data"
    }
   ],
   "source": [
    "#事故认定原因分类小类 \n",
    "fig,(ax1,ax2) = plt.subplots(1,2,figsize=(10,5))\n",
    "sns.countplot(data['事故认定原因分类小类'],ax=ax1)\n",
    "ax1.set_title('处理前')\n",
    "data['事故认定原因分类小类'].fillna(1.0,inplace=True)\n",
    "\n",
    "print('----------------处理后缺失率-----------------------')\n",
    "print(sum(data['事故认定原因分类小类'].isnull())/len(data))\n",
    "sns.countplot(data['事故认定原因分类小类'],ax=ax2)\n",
    "ax2.set_title('处理后')"
   ]
  },
  {
   "cell_type": "code",
   "execution_count": 132,
   "metadata": {
    "collapsed": false
   },
   "outputs": [
    {
     "data": {
      "image/png": "[encoded data removed]",
      "text/plain": [
       "<matplotlib.figure.Figure at 0x1c3e4151cc0>"
      ]
     },
     "metadata": {},
     "output_type": "display_data"
    },
    {
     "name": "stdout",
     "output_type": "stream",
     "text": [
      "1882\n",
      "----------公里数平均值，最小值，最大值----------------------\n",
      "2812.7124111870226\n",
      "0.0\n",
      "97959.0\n",
      "----------处理后缺失率----------------------\n",
      "0.0\n"
     ]
    },
    {
     "data": {
      "image/png": "[encoded data removed]",
      "text/plain": [
       "<matplotlib.figure.Figure at 0x1c3b8dc5668>"
      ]
     },
     "metadata": {},
     "output_type": "display_data"
    }
   ],
   "source": [
    "#公里数\n",
    "\n",
    "data['公里数'].plot()\n",
    "plt.title('处理前')\n",
    "plt.show()\n",
    "\n",
    "a = data.groupby(by='公里数').count()['事故编号'].sort_values(ascending=False)\n",
    "print(len(a))\n",
    "\n",
    "print('----------公里数平均值，最小值，最大值----------------------')\n",
    "print(data['公里数'].mean())\n",
    "print(data['公里数'].min())\n",
    "print(data['公里数'].max())\n",
    "\n",
    "data['公里数'].fillna(data['公里数'].mean(),inplace=True)\n",
    "\n",
    "print('----------处理后缺失率----------------------')\n",
    "print(sum(data['公里数'].isnull())/len(data))\n",
    "\n",
    "data['公里数'].plot()\n",
    "plt.title('处理后')\n",
    "plt.show()"
   ]
  },
  {
   "cell_type": "code",
   "execution_count": 133,
   "metadata": {
    "collapsed": false,
    "scrolled": false
   },
   "outputs": [
    {
     "name": "stdout",
     "output_type": "stream",
     "text": [
      "----------处理后缺失率----------------------\n",
      "0.0\n"
     ]
    },
    {
     "data": {
      "text/plain": [
       "<matplotlib.axes._subplots.AxesSubplot at 0x1c3e4685668>"
      ]
     },
     "execution_count": 133,
     "metadata": {},
     "output_type": "execute_result"
    },
    {
     "data": {
      "image/png": "[encoded data removed]",
      "text/plain": [
       "<matplotlib.figure.Figure at 0x1c3eda24358>"
      ]
     },
     "metadata": {},
     "output_type": "display_data"
    }
   ],
   "source": [
    "#其他交通安全设施不全 \n",
    "fig, (axis1,axis2) = plt.subplots(1,2,figsize=(10,5))\n",
    "axis1.set_title('处理前')\n",
    "sns.countplot(data['其他交通安全设施不全'],ax=axis1)\n",
    "\n",
    "data.groupby('其他交通安全设施不全').count()['事故编号'].sort_values(ascending=False)\n",
    "\n",
    "data['其他交通安全设施不全'].fillna('否',inplace=True)\n",
    "\n",
    "print('----------处理后缺失率----------------------')\n",
    "print(sum(data['其他交通安全设施不全'].isnull())/len(data))\n",
    "\n",
    "axis2.set_title('处理后')\n",
    "sns.countplot(data['其他交通安全设施不全'],ax=axis2)"
   ]
  },
  {
   "cell_type": "code",
   "execution_count": 134,
   "metadata": {
    "collapsed": false
   },
   "outputs": [],
   "source": [
    "#所辖乡镇，路号，路名暂时没有实际意义，删除\n",
    "data.drop(labels=['所辖乡镇','路号','路名'],axis=1,inplace=True)"
   ]
  },
  {
   "cell_type": "code",
   "execution_count": 135,
   "metadata": {
    "collapsed": false
   },
   "outputs": [
    {
     "name": "stdout",
     "output_type": "stream",
     "text": [
      "----------------处理后缺失率------------------------\n",
      "0.0\n"
     ]
    },
    {
     "data": {
      "text/plain": [
       "<matplotlib.text.Text at 0x1c3f0fd9dd8>"
      ]
     },
     "execution_count": 135,
     "metadata": {},
     "output_type": "execute_result"
    },
    {
     "data": {
      "image/png": "[encoded data removed]",
      "text/plain": [
       "<matplotlib.figure.Figure at 0x1c3e7508828>"
      ]
     },
     "metadata": {},
     "output_type": "display_data"
    }
   ],
   "source": [
    "#车辆间事故.1\n",
    "fig,(ax1,ax2) = plt.subplots(1,2,figsize=(10,5))\n",
    "sns.countplot(data['车辆间事故.1'],ax=ax1)\n",
    "ax1.set_title('处理前')\n",
    "\n",
    "data['车辆间事故.1'].fillna(3.0,inplace=True)\n",
    "\n",
    "print('----------------处理后缺失率------------------------')\n",
    "print(sum(data['车辆间事故.1'].isnull())/len(data))\n",
    "sns.countplot(data['车辆间事故.1'],ax=ax2)\n",
    "ax2.set_title('处理后')"
   ]
  },
  {
   "cell_type": "code",
   "execution_count": 136,
   "metadata": {
    "collapsed": false
   },
   "outputs": [
    {
     "name": "stdout",
     "output_type": "stream",
     "text": [
      "道路类型\n",
      "一般城市道路     164101\n",
      "高速          45985\n",
      "22          20852\n",
      "其他路         17507\n",
      "城市快速路        9298\n",
      "10           6202\n",
      "一级           5196\n",
      "29           4253\n",
      "21           1648\n",
      "11            900\n",
      "公共停车场         786\n",
      "单位小区自建路       739\n",
      "公共广场          255\n",
      "二级            243\n",
      "25            119\n",
      "27             82\n",
      "三级             63\n",
      "26             54\n",
      "等外             34\n",
      "12             28\n",
      "四级             18\n",
      "13             16\n",
      "14              7\n",
      "19              2\n",
      "Name: 事故编号, dtype: int64\n"
     ]
    }
   ],
   "source": [
    "#道路类型\n",
    "# sns.countplot(data['道路类型'])\n",
    "# data['道路类型'].plot()\n",
    "# plt.plot(data['道路类型'])\n",
    "# plt.set_title('处理前')\n",
    "# plt.show()\n",
    "\n",
    "print(data.groupby('道路类型').count()['事故编号'].sort_values(ascending=False))\n",
    "#搞不懂，删除\n",
    "if '道路类型' in data.columns:\n",
    "    data.drop('道路类型',axis=1,inplace=True)\n",
    "\n"
   ]
  },
  {
   "cell_type": "code",
   "execution_count": 137,
   "metadata": {
    "collapsed": true
   },
   "outputs": [],
   "source": [
    "data.to_excel('data_after第三轮_17.9.26.xlsx')"
   ]
  },
  {
   "cell_type": "markdown",
   "metadata": {},
   "source": [
    "# 4. 第四轮"
   ]
  },
  {
   "cell_type": "code",
   "execution_count": 171,
   "metadata": {
    "collapsed": true
   },
   "outputs": [],
   "source": [
    "data = pd.read_excel('data_after第三轮_17.9.26.xlsx')"
   ]
  },
  {
   "cell_type": "code",
   "execution_count": 172,
   "metadata": {
    "collapsed": false
   },
   "outputs": [],
   "source": [
    "# data.head()"
   ]
  },
  {
   "cell_type": "code",
   "execution_count": 173,
   "metadata": {
    "collapsed": false
   },
   "outputs": [
    {
     "data": {
      "text/plain": [
       "Index(['事故编号', '周几', '时段', '事故损失值', '事故发生时间', '事故地点', '事故类型', '事故认定原因',\n",
       "       '事故认定原因分类小类', '交通标志标线完善', '公里数', '其他交通安全设施不全', '受伤人数', '天气', '失踪人数',\n",
       "       '抢救死亡人数Q', '损坏机动车数', '损坏非机动车数', '星期', '是否简易程序', '是否运载危险物品', '死亡人数',\n",
       "       '涉外事故', '直接财产损失', '行政区划', '车辆间事故.1', '轻伤人数', '重伤人数', '长下坡路段'],\n",
       "      dtype='object')"
      ]
     },
     "execution_count": 173,
     "metadata": {},
     "output_type": "execute_result"
    }
   ],
   "source": [
    "data.columns"
   ]
  },
  {
   "cell_type": "markdown",
   "metadata": {},
   "source": [
    "## 4.1 特征分析"
   ]
  },
  {
   "cell_type": "code",
   "execution_count": 174,
   "metadata": {
    "collapsed": false
   },
   "outputs": [],
   "source": [
    "# data.head()"
   ]
  },
  {
   "cell_type": "code",
   "execution_count": 175,
   "metadata": {
    "collapsed": false
   },
   "outputs": [
    {
     "name": "stdout",
     "output_type": "stream",
     "text": [
      "数据长度： 306415\n",
      "处理后数据长度： 268531\n"
     ]
    },
    {
     "data": {
      "image/png": "[encoded data removed]",
      "text/plain": [
       "<matplotlib.figure.Figure at 0x1c3ef651668>"
      ]
     },
     "metadata": {},
     "output_type": "display_data"
    }
   ],
   "source": [
    "#事故类型分析\n",
    "# print(type(data['事故类型'][1]))\n",
    "\n",
    "print('数据长度： '+str(len(data)))\n",
    "fig,(ax1,ax2) = plt.subplots(1,2,figsize=(10,5))\n",
    "sns.countplot(data['事故类型'],ax=ax1)\n",
    "ax1.set_title('处理前')\n",
    "\n",
    "data = data[data.事故类型.isin(['简易程序事故','伤人事故','死亡事故','财产损失事故'])]\n",
    "\n",
    "sns.countplot(data['事故类型'],ax=ax2)\n",
    "ax2.set_title('处理后')\n",
    "print('处理后数据长度： '+str(len(data)))"
   ]
  },
  {
   "cell_type": "code",
   "execution_count": 176,
   "metadata": {
    "collapsed": false
   },
   "outputs": [],
   "source": [
    "#事故认定原因\n",
    "# data.groupby('事故认定原因').count()['事故编号'].sort_values(ascending=False)"
   ]
  },
  {
   "cell_type": "code",
   "execution_count": 177,
   "metadata": {
    "collapsed": false
   },
   "outputs": [
    {
     "data": {
      "text/plain": [
       "事故认定原因分类小类\n",
       "1     240572\n",
       "6      16939\n",
       "2       8407\n",
       "9       1392\n",
       "3       1024\n",
       "5        140\n",
       "7         25\n",
       "4         19\n",
       "49        12\n",
       "93         1\n",
       "Name: 事故编号, dtype: int64"
      ]
     },
     "execution_count": 177,
     "metadata": {},
     "output_type": "execute_result"
    }
   ],
   "source": [
    "#事故认定原因分类小类\n",
    "data.groupby('事故认定原因分类小类').count()['事故编号'].sort_values(ascending=False)"
   ]
  },
  {
   "cell_type": "code",
   "execution_count": 178,
   "metadata": {
    "collapsed": false
   },
   "outputs": [
    {
     "data": {
      "text/plain": [
       "交通标志标线完善\n",
       "否    268185\n",
       "是       346\n",
       "Name: 事故编号, dtype: int64"
      ]
     },
     "execution_count": 178,
     "metadata": {},
     "output_type": "execute_result"
    }
   ],
   "source": [
    "#交通标志标线完善\n",
    "data.groupby('交通标志标线完善').count()['事故编号'].sort_values(ascending=False)"
   ]
  },
  {
   "cell_type": "code",
   "execution_count": 179,
   "metadata": {
    "collapsed": false
   },
   "outputs": [
    {
     "data": {
      "text/plain": [
       "其他交通安全设施不全\n",
       "否    268510\n",
       "是        21\n",
       "Name: 事故编号, dtype: int64"
      ]
     },
     "execution_count": 179,
     "metadata": {},
     "output_type": "execute_result"
    }
   ],
   "source": [
    "#其他交通安全设施不全\n",
    "data.groupby('其他交通安全设施不全').count()['事故编号'].sort_values(ascending=False)"
   ]
  },
  {
   "cell_type": "code",
   "execution_count": 180,
   "metadata": {
    "collapsed": false
   },
   "outputs": [
    {
     "data": {
      "text/plain": [
       "天气\n",
       "1    224425\n",
       "3     29689\n",
       "2     14263\n",
       "4        55\n",
       "5        48\n",
       "9        39\n",
       "6         8\n",
       "8         4\n",
       "Name: 事故编号, dtype: int64"
      ]
     },
     "execution_count": 180,
     "metadata": {},
     "output_type": "execute_result"
    }
   ],
   "source": [
    "#天气\n",
    "data.groupby('天气').count()['事故编号'].sort_values(ascending=False)"
   ]
  },
  {
   "cell_type": "code",
   "execution_count": 182,
   "metadata": {
    "collapsed": false
   },
   "outputs": [
    {
     "data": {
      "text/plain": [
       "是否简易程序\n",
       "是    264811\n",
       "否      3720\n",
       "Name: 事故编号, dtype: int64"
      ]
     },
     "execution_count": 182,
     "metadata": {},
     "output_type": "execute_result"
    }
   ],
   "source": [
    "#是否简易程序\n",
    "data.groupby('是否简易程序').count()['事故编号'].sort_values(ascending=False)"
   ]
  },
  {
   "cell_type": "code",
   "execution_count": 185,
   "metadata": {
    "collapsed": false
   },
   "outputs": [
    {
     "name": "stdout",
     "output_type": "stream",
     "text": [
      "-----------全为否，删除----------------\n"
     ]
    }
   ],
   "source": [
    "#是否运载危险物品\n",
    "data.groupby('是否运载危险物品').count()['事故编号'].sort_values(ascending=False)\n",
    "print('-----------全为否，删除----------------')\n",
    "data.drop('是否运载危险物品',axis=1,inplace=True)"
   ]
  },
  {
   "cell_type": "code",
   "execution_count": 183,
   "metadata": {
    "collapsed": false
   },
   "outputs": [
    {
     "data": {
      "text/plain": [
       "Index(['事故编号', '周几', '时段', '事故损失值', '事故发生时间', '事故地点', '事故类型', '事故认定原因',\n",
       "       '事故认定原因分类小类', '交通标志标线完善', '公里数', '其他交通安全设施不全', '受伤人数', '天气', '失踪人数',\n",
       "       '抢救死亡人数Q', '损坏机动车数', '损坏非机动车数', '星期', '是否简易程序', '是否运载危险物品', '死亡人数',\n",
       "       '涉外事故', '直接财产损失', '行政区划', '车辆间事故.1', '轻伤人数', '重伤人数', '长下坡路段'],\n",
       "      dtype='object')"
      ]
     },
     "execution_count": 183,
     "metadata": {},
     "output_type": "execute_result"
    }
   ],
   "source": [
    "data.columns"
   ]
  },
  {
   "cell_type": "code",
   "execution_count": 186,
   "metadata": {
    "collapsed": false
   },
   "outputs": [
    {
     "data": {
      "text/plain": [
       "涉外事故\n",
       "否    268457\n",
       "是        74\n",
       "Name: 事故编号, dtype: int64"
      ]
     },
     "execution_count": 186,
     "metadata": {},
     "output_type": "execute_result"
    }
   ],
   "source": [
    "#涉外事故\n",
    "data.groupby('涉外事故').count()['事故编号'].sort_values(ascending=False)"
   ]
  },
  {
   "cell_type": "code",
   "execution_count": 187,
   "metadata": {
    "collapsed": false
   },
   "outputs": [
    {
     "data": {
      "text/plain": [
       "行政区划\n",
       "440306    82609\n",
       "440307    64512\n",
       "440319    30174\n",
       "440305    24251\n",
       "440304    20664\n",
       "440317    17547\n",
       "440318    11038\n",
       "440303     8638\n",
       "440308     6309\n",
       "440320     2789\n",
       "Name: 事故编号, dtype: int64"
      ]
     },
     "execution_count": 187,
     "metadata": {},
     "output_type": "execute_result"
    }
   ],
   "source": [
    "#行政区划\n",
    "data.groupby('行政区划').count()['事故编号'].sort_values(ascending=False)"
   ]
  },
  {
   "cell_type": "code",
   "execution_count": 188,
   "metadata": {
    "collapsed": false
   },
   "outputs": [
    {
     "data": {
      "text/plain": [
       "车辆间事故.1\n",
       "3    145795\n",
       "9     48885\n",
       "1     44652\n",
       "6     10851\n",
       "2      6535\n",
       "4      5114\n",
       "5      4018\n",
       "7      2365\n",
       "8       316\n",
       "Name: 事故编号, dtype: int64"
      ]
     },
     "execution_count": 188,
     "metadata": {},
     "output_type": "execute_result"
    }
   ],
   "source": [
    "#车辆间事故.1\n",
    "data.groupby('车辆间事故.1').count()['事故编号'].sort_values(ascending=False)"
   ]
  },
  {
   "cell_type": "code",
   "execution_count": 189,
   "metadata": {
    "collapsed": false
   },
   "outputs": [
    {
     "data": {
      "text/plain": [
       "长下坡路段\n",
       "否    268506\n",
       "是        25\n",
       "Name: 事故编号, dtype: int64"
      ]
     },
     "execution_count": 189,
     "metadata": {},
     "output_type": "execute_result"
    }
   ],
   "source": [
    "#长下坡路段\n",
    "data.groupby('长下坡路段').count()['事故编号'].sort_values(ascending=False)"
   ]
  },
  {
   "cell_type": "markdown",
   "metadata": {},
   "source": [
    "## 4.2 数据存储，此时数据清洗已基本完成"
   ]
  },
  {
   "cell_type": "code",
   "execution_count": 190,
   "metadata": {
    "collapsed": true
   },
   "outputs": [],
   "source": [
    "data.to_excel('data_after第四轮_17.9.26.xlsx')"
   ]
  },
  {
   "cell_type": "markdown",
   "metadata": {},
   "source": [
    "# 5. 第五轮---新第一轮"
   ]
  },
  {
   "cell_type": "code",
   "execution_count": 3,
   "metadata": {
    "collapsed": false
   },
   "outputs": [],
   "source": [
    "xls = pd.ExcelFile('2014年基本信息表.xls')\n",
    "data_upperHalf = xls.parse('基本信息表2014上半年')\n",
    "data_lowerHalf = xls.parse('基本信息表2014下半年')\n",
    "data = pd.DataFrame()\n",
    "data = pd.concat([data_upperHalf,data_lowerHalf],ignore_index=True)\n",
    "\n",
    "xls = pd.ExcelFile('2015年基本信息表.xls')\n",
    "data_upperHalf = xls.parse('基本信息表2015年上半年')\n",
    "data_lowerHalf = xls.parse('基本信息表2015年上半年')\n",
    "data = pd.concat([data,data_upperHalf,data_lowerHalf],ignore_index=True)\n",
    "\n",
    "xls = pd.ExcelFile('2016年基本信息表.xls')\n",
    "data_upperHalf = xls.parse('2016年上半年基本信息表')\n",
    "data_lowerHalf = xls.parse('2016年下半年基本信息表')\n",
    "data = pd.concat([data,data_upperHalf,data_lowerHalf],ignore_index=True)\n",
    "xls.close()\n",
    "\n",
    "del data_upperHalf\n",
    "del data_lowerHalf"
   ]
  },
  {
   "cell_type": "code",
   "execution_count": 9,
   "metadata": {
    "collapsed": false
   },
   "outputs": [
    {
     "name": "stdout",
     "output_type": "stream",
     "text": [
      "1: 中央隔离设施\n",
      "2: 事故初查原因\n",
      "3: 事故初查原因分类\n",
      "4: 事故发生时间\n",
      "5: 事故地点\n",
      "6: 事故多发点段\n",
      "7: 事故形态\n",
      "8: 事故类型\n",
      "9: 事故编号\n",
      "10: 事故认定原因\n",
      "11: 事故认定原因分类小类\n",
      "12: 交通信号方式（控制）\n",
      "13: 交通标志标线完善\n",
      "14: 公安部事故编号\n",
      "15: 公路行政等级\n",
      "16: 公里数\n",
      "17: 其他交通安全设施不全\n",
      "18: 单向路宽\n",
      "19: 单车事故\n",
      "20: 双向路宽\n",
      "21: 受伤人数\n",
      "22: 在道路横断面位置\n",
      "23: 地形\n",
      "24: 天气\n",
      "25: 失踪人数\n",
      "26: 当事人总数\n",
      "27: 所属中队\n",
      "28: 所辖乡镇\n",
      "29: 抢救死亡人数Q\n",
      "30: 损坏机动车数\n",
      "31: 损坏非机动车数\n",
      "32: 文书状态\n",
      "33: 星期\n",
      "34: 是否简易程序\n",
      "35: 是否运载危险物品\n",
      "36: 是否逃逸\n",
      "37: 机动车数量\n",
      "38: 死亡人数\n",
      "39: 涉外事故\n",
      "40: 照明条件\n",
      "41: 现场\n",
      "42: 直接财产损失\n",
      "43: 米数\n",
      "44: 能见度\n",
      "45: 行人数量\n",
      "46: 行政区划\n",
      "47: 调解人1\n",
      "48: 调解人2\n",
      "49: 路侧防护设施类型\n",
      "50: 路口路段类型\n",
      "51: 路号\n",
      "52: 路名\n",
      "53: 路外事故类型\n",
      "54: 路表情况\n",
      "55: 路面状况\n",
      "56: 路面结构\n",
      "57: 路面附着系数\n",
      "58: 车辆间事故\n",
      "59: 车辆间事故.1\n",
      "60: 轻伤人数\n",
      "61: 运载危险品事故后果\n",
      "62: 逃逸事故侦破\n",
      "63: 道路安全属性\n",
      "64: 道路安全隐患督办等级\n",
      "65: 道路物理隔离\n",
      "66: 道路类型\n",
      "67: 道路线型\n",
      "68: 重伤人数\n",
      "69: 长下坡路段\n",
      "70: 非机动车数量\n"
     ]
    }
   ],
   "source": [
    "for i in range(len(data.columns)):\n",
    "    print('%s: %s'%(i+1,data.columns[i]))"
   ]
  },
  {
   "cell_type": "markdown",
   "metadata": {},
   "source": [
    "## 5.1道路"
   ]
  },
  {
   "cell_type": "markdown",
   "metadata": {},
   "source": [
    "### 5.1.1公路行政等级"
   ]
  },
  {
   "cell_type": "code",
   "execution_count": 5,
   "metadata": {
    "collapsed": false
   },
   "outputs": [
    {
     "name": "stdout",
     "output_type": "stream",
     "text": [
      "0.689865035723\n"
     ]
    },
    {
     "data": {
      "text/plain": [
       "<matplotlib.axes._subplots.AxesSubplot at 0x1a28db9c940>"
      ]
     },
     "execution_count": 5,
     "metadata": {},
     "output_type": "execute_result"
    },
    {
     "data": {
      "image/png": "[encoded data removed]",
      "text/plain": [
       "<matplotlib.figure.Figure at 0x1a28d9fb908>"
      ]
     },
     "metadata": {},
     "output_type": "display_data"
    }
   ],
   "source": [
    "print(sum(data['公路行政等级'].isnull())/len(data))\n",
    "for i in range(0,len(data)):\n",
    "    if  data['公路行政等级'][i] == 1.0:\n",
    "        data['公路行政等级'][i]\n",
    "sns.countplot(data['公路行政等级'])"
   ]
  },
  {
   "cell_type": "code",
   "execution_count": 9,
   "metadata": {
    "collapsed": false
   },
   "outputs": [],
   "source": [
    "data[\"公路行政等级\"].replace(1.0,'国道',inplace=True)\n",
    "data[\"公路行政等级\"].replace(2.0,'省道',inplace=True)\n",
    "data[\"公路行政等级\"].replace(3.0,'县道',inplace=True)\n",
    "data[\"公路行政等级\"].replace(4.0,'乡道',inplace=True)\n",
    "data[\"公路行政等级\"].replace(9.0,'其他',inplace=True)"
   ]
  },
  {
   "cell_type": "code",
   "execution_count": 10,
   "metadata": {
    "collapsed": false
   },
   "outputs": [
    {
     "data": {
      "text/plain": [
       "<matplotlib.axes._subplots.AxesSubplot at 0x1a298312ac8>"
      ]
     },
     "execution_count": 10,
     "metadata": {},
     "output_type": "execute_result"
    },
    {
     "data": {
      "image/png": "[encoded data removed]",
      "text/plain": [
       "<matplotlib.figure.Figure at 0x1a28de885c0>"
      ]
     },
     "metadata": {},
     "output_type": "display_data"
    }
   ],
   "source": [
    "sns.countplot(data['公路行政等级'])"
   ]
  },
  {
   "cell_type": "markdown",
   "metadata": {},
   "source": [
    "### 5.1.2 公里数"
   ]
  },
  {
   "cell_type": "code",
   "execution_count": 12,
   "metadata": {
    "collapsed": false
   },
   "outputs": [
    {
     "name": "stdout",
     "output_type": "stream",
     "text": [
      "0.0882260919506\n"
     ]
    }
   ],
   "source": [
    "print(sum(data['公里数'].isnull())/len(data))"
   ]
  },
  {
   "cell_type": "code",
   "execution_count": 13,
   "metadata": {
    "collapsed": false
   },
   "outputs": [
    {
     "data": {
      "text/plain": [
       "[<matplotlib.lines.Line2D at 0x1a28088b048>]"
      ]
     },
     "execution_count": 13,
     "metadata": {},
     "output_type": "execute_result"
    },
    {
     "data": {
      "image/png": "[encoded data removed]",
      "text/plain": [
       "<matplotlib.figure.Figure at 0x1a28003a198>"
      ]
     },
     "metadata": {},
     "output_type": "display_data"
    }
   ],
   "source": [
    "plt.plot(data['公里数'])"
   ]
  },
  {
   "cell_type": "code",
   "execution_count": null,
   "metadata": {
    "collapsed": true
   },
   "outputs": [],
   "source": [
    "#中位数取代"
   ]
  },
  {
   "cell_type": "markdown",
   "metadata": {},
   "source": [
    "### 5.1.3 单向路宽"
   ]
  },
  {
   "cell_type": "code",
   "execution_count": 14,
   "metadata": {
    "collapsed": false
   },
   "outputs": [
    {
     "name": "stdout",
     "output_type": "stream",
     "text": [
      "0.992525319195\n"
     ]
    }
   ],
   "source": [
    "print(sum(data['单向路宽'].isnull())/len(data))"
   ]
  },
  {
   "cell_type": "code",
   "execution_count": 15,
   "metadata": {
    "collapsed": false
   },
   "outputs": [
    {
     "data": {
      "text/plain": [
       "<matplotlib.axes._subplots.AxesSubplot at 0x1a28e076780>"
      ]
     },
     "execution_count": 15,
     "metadata": {},
     "output_type": "execute_result"
    },
    {
     "data": {
      "image/png": "[encoded data removed]",
      "text/plain": [
       "<matplotlib.figure.Figure at 0x1a280014828>"
      ]
     },
     "metadata": {},
     "output_type": "display_data"
    }
   ],
   "source": [
    "sns.countplot(data['单向路宽'])"
   ]
  },
  {
   "cell_type": "markdown",
   "metadata": {},
   "source": [
    "### 5.1.4 双向路宽"
   ]
  },
  {
   "cell_type": "code",
   "execution_count": 16,
   "metadata": {
    "collapsed": false
   },
   "outputs": [
    {
     "name": "stdout",
     "output_type": "stream",
     "text": [
      "0.997321286982\n"
     ]
    }
   ],
   "source": [
    "print(sum(data['双向路宽'].isnull())/len(data))"
   ]
  },
  {
   "cell_type": "markdown",
   "metadata": {},
   "source": [
    "### 5.1.5 路面结构"
   ]
  },
  {
   "cell_type": "code",
   "execution_count": 17,
   "metadata": {
    "collapsed": false
   },
   "outputs": [
    {
     "name": "stdout",
     "output_type": "stream",
     "text": [
      "0.963436638794\n"
     ]
    }
   ],
   "source": [
    "print(sum(data['路面结构'].isnull())/len(data))"
   ]
  },
  {
   "cell_type": "markdown",
   "metadata": {},
   "source": [
    "### 5.1.6 路面附着系数"
   ]
  },
  {
   "cell_type": "code",
   "execution_count": 18,
   "metadata": {
    "collapsed": false
   },
   "outputs": [
    {
     "name": "stdout",
     "output_type": "stream",
     "text": [
      "0.999374252639\n"
     ]
    }
   ],
   "source": [
    "print(sum(data['路面附着系数'].isnull())/len(data))"
   ]
  },
  {
   "cell_type": "markdown",
   "metadata": {},
   "source": [
    "### 5.1.7 道路类型"
   ]
  },
  {
   "cell_type": "code",
   "execution_count": 19,
   "metadata": {
    "collapsed": false
   },
   "outputs": [
    {
     "name": "stdout",
     "output_type": "stream",
     "text": [
      "0.0882432357139\n"
     ]
    }
   ],
   "source": [
    "print(sum(data['道路类型'].isnull())/len(data))"
   ]
  },
  {
   "cell_type": "markdown",
   "metadata": {},
   "source": [
    "### 5.1.8 道路线型"
   ]
  },
  {
   "cell_type": "code",
   "execution_count": 20,
   "metadata": {
    "collapsed": false
   },
   "outputs": [
    {
     "name": "stdout",
     "output_type": "stream",
     "text": [
      "0.963432352853\n"
     ]
    }
   ],
   "source": [
    "print(sum(data['道路线型'].isnull())/len(data))"
   ]
  },
  {
   "cell_type": "markdown",
   "metadata": {},
   "source": [
    "### 5.1.9 长下坡路段"
   ]
  },
  {
   "cell_type": "code",
   "execution_count": 21,
   "metadata": {
    "collapsed": false
   },
   "outputs": [
    {
     "name": "stdout",
     "output_type": "stream",
     "text": [
      "0.0\n"
     ]
    }
   ],
   "source": [
    "print(sum(data['长下坡路段'].isnull())/len(data))"
   ]
  },
  {
   "cell_type": "code",
   "execution_count": null,
   "metadata": {
    "collapsed": true
   },
   "outputs": [],
   "source": []
  }
 ],
 "metadata": {
  "kernelspec": {
   "display_name": "Python 3",
   "language": "python",
   "name": "python3"
  },
  "language_info": {
   "codemirror_mode": {
    "name": "ipython",
    "version": 3
   },
   "file_extension": ".py",
   "mimetype": "text/x-python",
   "name": "python",
   "nbconvert_exporter": "python",
   "pygments_lexer": "ipython3",
   "version": "3.6.0"
  }
 },
 "nbformat": 4,
 "nbformat_minor": 2
}
