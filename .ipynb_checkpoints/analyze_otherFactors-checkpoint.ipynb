{
 "cells": [
  {
   "cell_type": "code",
   "execution_count": 1,
   "metadata": {
    "collapsed": true
   },
   "outputs": [],
   "source": [
    "import pandas as pd\n",
    "import numpy as np\n",
    "from pandas.tseries.holiday import USFederalHolidayCalendar as calendar\n",
    "\n",
    "%matplotlib inline\n",
    "import numpy as np\n",
    "import matplotlib.pyplot as plt\n",
    "import seaborn as sns\n",
    "import pandas as pd\n",
    "from pandas.tools.plotting import parallel_coordinates\n",
    "\n",
    "import matplotlib as mpl\n",
    "from matplotlib.font_manager import FontProperties\n",
    "import matplotlib.pyplot as plt\n",
    "import seaborn as sns\n",
    "sns.set_style(\"darkgrid\",{\"font.sans-serif\":['simhei', 'Arial']})\n",
    "\n",
    "from scipy import stats\n",
    "import math"
   ]
  },
  {
   "cell_type": "code",
   "execution_count": 2,
   "metadata": {
    "collapsed": true
   },
   "outputs": [],
   "source": [
    "xls = pd.ExcelFile('2014年基本信息表.xls')\n",
    "data_upperHalf = xls.parse('基本信息表2014上半年')\n",
    "data_lowerHalf = xls.parse('基本信息表2014下半年')\n",
    "data = pd.DataFrame()\n",
    "data = pd.concat([data_upperHalf,data_lowerHalf],ignore_index=True)\n",
    "\n",
    "xls = pd.ExcelFile('2015年基本信息表.xls')\n",
    "data_upperHalf = xls.parse('基本信息表2015年上半年')\n",
    "data_lowerHalf = xls.parse('基本信息表2015年上半年')\n",
    "data = pd.concat([data,data_upperHalf,data_lowerHalf],ignore_index=True)\n",
    "\n",
    "xls = pd.ExcelFile('2016年基本信息表.xls')\n",
    "data_upperHalf = xls.parse('2016年上半年基本信息表')\n",
    "data_lowerHalf = xls.parse('2016年下半年基本信息表')\n",
    "data = pd.concat([data,data_upperHalf,data_lowerHalf],ignore_index=True)\n",
    "xls.close()\n",
    "\n",
    "del data_upperHalf\n",
    "del data_lowerHalf"
   ]
  },
  {
   "cell_type": "code",
   "execution_count": null,
   "metadata": {
    "collapsed": true
   },
   "outputs": [],
   "source": [
    "#"
   ]
  }
 ],
 "metadata": {
  "kernelspec": {
   "display_name": "Python 3",
   "language": "python",
   "name": "python3"
  },
  "language_info": {
   "codemirror_mode": {
    "name": "ipython",
    "version": 3
   },
   "file_extension": ".py",
   "mimetype": "text/x-python",
   "name": "python",
   "nbconvert_exporter": "python",
   "pygments_lexer": "ipython3",
   "version": "3.6.0"
  }
 },
 "nbformat": 4,
 "nbformat_minor": 2
}
