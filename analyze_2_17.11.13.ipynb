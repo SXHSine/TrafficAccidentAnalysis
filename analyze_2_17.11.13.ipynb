{
 "cells": [
  {
   "cell_type": "code",
   "execution_count": 1,
   "metadata": {
    "collapsed": false
   },
   "outputs": [
    {
     "name": "stderr",
     "output_type": "stream",
     "text": [
      "D:\\ProgramFiles\\Anaconda3\\lib\\site-packages\\sklearn\\cross_validation.py:44: DeprecationWarning: This module was deprecated in version 0.18 in favor of the model_selection module into which all the refactored classes and functions are moved. Also note that the interface of the new CV iterators are different from that of this module. This module will be removed in 0.20.\n",
      "  \"This module will be removed in 0.20.\", DeprecationWarning)\n",
      "D:\\ProgramFiles\\Anaconda3\\lib\\site-packages\\sklearn\\grid_search.py:43: DeprecationWarning: This module was deprecated in version 0.18 in favor of the model_selection module into which all the refactored classes and functions are moved. This module will be removed in 0.20.\n",
      "  DeprecationWarning)\n"
     ]
    }
   ],
   "source": [
    "import pandas as pd\n",
    "import numpy as np\n",
    "from pandas.tseries.holiday import USFederalHolidayCalendar as calendar\n",
    "\n",
    "%matplotlib inline\n",
    "import numpy as np\n",
    "import matplotlib.pyplot as plt\n",
    "import seaborn as sns\n",
    "import pandas as pd\n",
    "from pandas.tools.plotting import parallel_coordinates\n",
    "\n",
    "import matplotlib as mpl\n",
    "from matplotlib.font_manager import FontProperties\n",
    "import matplotlib.pyplot as plt\n",
    "from matplotlib.pylab import rcParams\n",
    "import seaborn as sns\n",
    "sns.set_style(\"darkgrid\",{\"font.sans-serif\":['simhei', 'Arial']})\n",
    "# rcParams['figure.figsize'] = 12, 4\n",
    "from scipy import stats\n",
    "import math\n",
    "\n",
    "\n",
    "import xgboost as xgb\n",
    "from xgboost.sklearn import XGBClassifier\n",
    "from sklearn import cross_validation, metrics   #Additional scklearn functions\n",
    "from sklearn.grid_search import GridSearchCV   #Perforing grid search\n",
    "\n",
    "from sklearn import preprocessing"
   ]
  },
  {
   "cell_type": "code",
   "execution_count": 2,
   "metadata": {
    "collapsed": false
   },
   "outputs": [],
   "source": [
    "data = pd.read_excel('data_accidentForPapaer_17.11.13.xlsx')"
   ]
  },
  {
   "cell_type": "code",
   "execution_count": 3,
   "metadata": {
    "collapsed": false
   },
   "outputs": [
    {
     "name": "stdout",
     "output_type": "stream",
     "text": [
      "196169\n"
     ]
    }
   ],
   "source": [
    "data = data[data['路面附着系数'].isnull()]\n",
    "print(len(data))"
   ]
  },
  {
   "cell_type": "code",
   "execution_count": 50,
   "metadata": {
    "collapsed": false,
    "scrolled": true
   },
   "outputs": [
    {
     "name": "stdout",
     "output_type": "stream",
     "text": [
      "中央隔离设施 : 0.968287547982  是否节假日 : 0.187420030688  是否白天 : 0.187420030688  事故地点 : 0.0  \n",
      "事故多发点段 : 0.0688946775484  事故类型 : 0.0  交通信号方式（控制） : 0.962675040399  交通标志标线完善 : 0.0  \n",
      "公路行政等级 : 0.706105449893  公里数 : 0.0903710576085  其他交通安全设施不全 : 0.0686754787963  单向路宽 : 0.99287858938  \n",
      "双向路宽 : 0.997522544337  在道路横断面位置 : 0.962675040399  地形 : 0.962705626271  天气 : 0.0  \n",
      "所辖乡镇 : 5.60740993735e-05  星期 : 0.0  是否运载危险物品 : 0.0  照明条件 : 0.962675040399  \n",
      "能见度 : 0.963159316712  行政区划 : 0.0  路侧防护设施类型 : 0.962914629733  路口路段类型 : 0.962720919207  \n",
      "路号 : 0.0903659599631  路表情况 : 0.962675040399  路面状况 : 0.962675040399  路面结构 : 0.962710723917  \n",
      "路面附着系数 : 1.0  道路安全属性 : 0.965840678191  道路安全隐患督办等级 : 0.97537837273  道路物理隔离 : 0.962715821562  \n",
      "道路类型 : 0.0903914481901  道路线型 : 0.962705626271  长下坡路段 : 0.0  "
     ]
    }
   ],
   "source": [
    "nan_columns = {}\n",
    "length_data = len(data)\n",
    "for i in range(len(data.columns)): \n",
    "    odds = sum(data[data.columns[i]].isnull())/length_data\n",
    "    nan_columns[data.columns[i]] = odds\n",
    "\n",
    "j = 0\n",
    "for i in nan_columns:\n",
    "    print(i+' : '+str(nan_columns[i]),end='  ')\n",
    "    j+=1\n",
    "    if j==4:\n",
    "        j=0\n",
    "        print()"
   ]
  },
  {
   "cell_type": "code",
   "execution_count": 4,
   "metadata": {
    "collapsed": false
   },
   "outputs": [
    {
     "name": "stdout",
     "output_type": "stream",
     "text": [
      "159403\n"
     ]
    }
   ],
   "source": [
    "data = data[data['是否节假日'].notnull()]\n",
    "print(len(data))"
   ]
  },
  {
   "cell_type": "code",
   "execution_count": 52,
   "metadata": {
    "collapsed": false
   },
   "outputs": [
    {
     "name": "stdout",
     "output_type": "stream",
     "text": [
      "中央隔离设施 : 0.972516201075  是否节假日 : 0.0  是否白天 : 0.0  事故地点 : 0.0  \n",
      "事故多发点段 : 0.0775644122131  事故类型 : 0.0  交通信号方式（控制） : 0.966989328934  交通标志标线完善 : 0.0  \n",
      "公路行政等级 : 0.690827650672  公里数 : 0.0865479319712  其他交通安全设施不全 : 0.0775393185825  单向路宽 : 0.9927855812  \n",
      "双向路宽 : 0.997578464646  在道路横断面位置 : 0.966989328934  地形 : 0.967014422564  天气 : 0.0  \n",
      "所辖乡镇 : 5.64606688707e-05  星期 : 0.0  是否运载危险物品 : 0.0  照明条件 : 0.966989328934  \n",
      "能见度 : 0.967428467469  行政区划 : 0.0  路侧防护设施类型 : 0.967177531163  路口路段类型 : 0.967020695972  \n",
      "路号 : 0.0865416585635  路表情况 : 0.966989328934  路面状况 : 0.966989328934  路面结构 : 0.967020695972  \n",
      "路面附着系数 : 1.0  道路安全属性 : 0.969944103938  道路安全隐患督办等级 : 0.976932680062  道路物理隔离 : 0.967026969379  \n",
      "道路类型 : 0.0865730256018  道路线型 : 0.967014422564  长下坡路段 : 0.0  "
     ]
    }
   ],
   "source": [
    "nan_columns = {}\n",
    "length_data = len(data)\n",
    "for i in range(len(data.columns)): \n",
    "    odds = sum(data[data.columns[i]].isnull())/length_data\n",
    "    nan_columns[data.columns[i]] = odds\n",
    "\n",
    "j = 0\n",
    "for i in nan_columns:\n",
    "    print(i+' : '+str(nan_columns[i]),end='  ')\n",
    "    j+=1\n",
    "    if j==4:\n",
    "        j=0\n",
    "        print()"
   ]
  },
  {
   "cell_type": "code",
   "execution_count": 5,
   "metadata": {
    "collapsed": true
   },
   "outputs": [],
   "source": [
    "data = data[data['事故多发点段'].notnull()&data['公里数'].notnull()&data['其他交通安全设施不全'].notnull()\\\n",
    "           &data['所辖乡镇'].notnull()&data['路号'].notnull()&data['道路类型'].notnull()]"
   ]
  },
  {
   "cell_type": "code",
   "execution_count": 6,
   "metadata": {
    "collapsed": true
   },
   "outputs": [],
   "source": [
    "data.drop(['中央隔离设施','交通信号方式（控制）','在道路横断面位置','地形','照明条件','能见度',\\\n",
    "           '路表情况','路面状况','路面结构','路面附着系数','道路安全属性','道路安全隐患督办等级','道路物理隔离',\\\n",
    "          '道路线型'], axis=1,inplace=True)\n",
    "data.drop(['星期','单向路宽','双向路宽'], axis=1,inplace=True)\n",
    "data.drop(['路侧防护设施类型','路口路段类型'], axis=1,inplace=True)"
   ]
  },
  {
   "cell_type": "code",
   "execution_count": 7,
   "metadata": {
    "collapsed": false
   },
   "outputs": [
    {
     "name": "stdout",
     "output_type": "stream",
     "text": [
      "是否节假日 : 0.0  是否白天 : 0.0  事故地点 : 0.0  事故多发点段 : 0.0  \n",
      "事故类型 : 0.0  交通标志标线完善 : 0.0  公路行政等级 : 0.666701694864  公里数 : 0.0  \n",
      "其他交通安全设施不全 : 0.0  天气 : 0.0  所辖乡镇 : 0.0  是否运载危险物品 : 0.0  \n",
      "行政区划 : 0.0  路号 : 0.0  道路类型 : 0.0  长下坡路段 : 0.0  \n"
     ]
    }
   ],
   "source": [
    "nan_columns = {}\n",
    "length_data = len(data)\n",
    "for i in range(len(data.columns)): \n",
    "    odds = sum(data[data.columns[i]].isnull())/length_data\n",
    "    nan_columns[data.columns[i]] = odds\n",
    "\n",
    "j = 0\n",
    "for i in nan_columns:\n",
    "    print(i+' : '+str(nan_columns[i]),end='  ')\n",
    "    j+=1\n",
    "    if j==4:\n",
    "        j=0\n",
    "        print()"
   ]
  },
  {
   "cell_type": "code",
   "execution_count": 16,
   "metadata": {
    "collapsed": false
   },
   "outputs": [
    {
     "data": {
      "text/plain": [
       "<matplotlib.axes._subplots.AxesSubplot at 0x18cb1cc6748>"
      ]
     },
     "execution_count": 16,
     "metadata": {},
     "output_type": "execute_result"
    },
    {
     "data": {
      "image/png": "[encoded data removed]",
      "text/plain": [
       "<matplotlib.figure.Figure at 0x18cb32e1908>"
      ]
     },
     "metadata": {},
     "output_type": "display_data"
    }
   ],
   "source": [
    "sns.countplot(data['公路行政等级'])"
   ]
  },
  {
   "cell_type": "markdown",
   "metadata": {},
   "source": [
    "# 1.删除公路行政等级为空的行"
   ]
  },
  {
   "cell_type": "code",
   "execution_count": 8,
   "metadata": {
    "collapsed": false
   },
   "outputs": [
    {
     "name": "stdout",
     "output_type": "stream",
     "text": [
      "44404\n"
     ]
    }
   ],
   "source": [
    "data_roadGrade_notNull = data[data['公路行政等级'].notnull()]\n",
    "print(len(data_roadGrade_notNull))"
   ]
  },
  {
   "cell_type": "code",
   "execution_count": 14,
   "metadata": {
    "collapsed": true
   },
   "outputs": [
    {
     "name": "stdout",
     "output_type": "stream",
     "text": [
      "35165                   南坪快速东行坂雪岗入口路段\n",
      "35167                      机荷荷坳收费站往龙岗\n",
      "35196                           横岗坳背路\n",
      "35198                        爱联B区十巷十号\n",
      "35199                    平湖街道白泥坑宝利路3号\n",
      "35206                 布吉街道布龙路中海怡翠花园路段\n",
      "35207                    布吉甘坑同富裕工业园路段\n",
      "35208                   布吉街道吉华路中兴路口路段\n",
      "35209                          西乡华侨新村\n",
      "35210                         湖北工业区路口\n",
      "35214                         机荷东行盐排段\n",
      "35215              大浪街道三合股份合作公司大楼门口路段\n",
      "35217            光明新区公明街道田寮村塘口第七工业区路口\n",
      "35218                     107国道西城工业区段\n",
      "35219               光明新区公明街道松白路交通执法路口\n",
      "35241                       梅观高速北行观澜段\n",
      "35243                    南坪快线坂雪岗段东行匝道\n",
      "35244                     龙大高速松岗收费站出口\n",
      "35246                            机荷高速\n",
      "35247                    龙大高速松罗田往松岗路段\n",
      "35248                      机荷高速东行排榜立交\n",
      "35252                        南坪西行塘朗山段\n",
      "35256               光明新区光明街道光侨路与八号路路口\n",
      "35262                 光明新区凤新路新健兴工业园路段\n",
      "35275                   布吉街道布龙路丽湖花园路段\n",
      "35278                        龙岗大道布吉海关\n",
      "35279                    西乡107国道西乡大门段\n",
      "35280                   南湾布澜路第三人民医院路段\n",
      "35284                     布吉街道下水径东区路段\n",
      "35289                     机荷高速西行黄鹤收费站\n",
      "                     ...             \n",
      "196182                  布吉龙岗大道康达尔花园路段\n",
      "196186               民治大道民治梅花山庄梅花中路路口\n",
      "196189                      长深高速K3661\n",
      "196195                 京港澳高速北行鹤洲收费站匝道\n",
      "196196                    沈海高速西行福民收费站\n",
      "196198                  沈海高速西行龙华西出口路段\n",
      "196200                      新区大道金龙路路段\n",
      "196202                   机荷高速东行清平立交路段\n",
      "196203          深圳市龙岗区龙岗街道深汕公路同乐高速路口段\n",
      "196205                    京港澳高速南行南头出口\n",
      "196212                长深高速3656km往盐田方向\n",
      "196214                     沈海高速2860公里\n",
      "196229                       龙岗大道东站路段\n",
      "196240                    惠深沿海高速75K路段\n",
      "196241                       民治大道民乐路口\n",
      "196242                   龙大高速南行公明出口匝道\n",
      "196247                    博深高速凤岗收费站出口\n",
      "196250                  坪山新区新横坪公路汤坑路段\n",
      "196261             光明新区光明街道华夏路群众体育馆路段\n",
      "196262                     沈海高速华南城往清湖\n",
      "196265                   惠深沿海高速75KM东行\n",
      "196267                     布吉第二人民医院门口\n",
      "196276                  南坪快速东行布龙路出口路段\n",
      "196278                     水官高速西行布龙路段\n",
      "196280                  南光高速北行白芒收费站匝道\n",
      "196281                    京港澳高速北行72KM\n",
      "196283                   水官高速东行横坪出口路段\n",
      "196284                     布吉木棉湾地铁站路段\n",
      "196285                   机荷高速公路东行华南城段\n",
      "196290    惠深沿海高速75KM路段（大梅沙隧道入口路段）东往西向\n",
      "Name: 事故地点, dtype: object\n"
     ]
    },
    {
     "name": "stderr",
     "output_type": "stream",
     "text": [
      "D:\\ProgramFiles\\Anaconda3\\lib\\site-packages\\ipykernel\\__main__.py:2: SettingWithCopyWarning: \n",
      "A value is trying to be set on a copy of a slice from a DataFrame\n",
      "\n",
      "See the caveats in the documentation: http://pandas.pydata.org/pandas-docs/stable/indexing.html#indexing-view-versus-copy\n",
      "  from ipykernel import kernelapp as app\n"
     ]
    }
   ],
   "source": [
    "print(data_roadGrade_notNull['事故地点'])\n",
    "data_roadGrade_notNull.drop(['事故地点'],axis=1,inplace=True)"
   ]
  },
  {
   "cell_type": "markdown",
   "metadata": {},
   "source": [
    "## 1.1 预测"
   ]
  },
  {
   "cell_type": "code",
   "execution_count": 20,
   "metadata": {
    "collapsed": false
   },
   "outputs": [],
   "source": [
    "#生成训练集和测试集\n",
    "columnsToNum = list(data_roadGrade_notNull.columns)\n",
    "\n",
    "data_roadGrade_notNull_toNum = pd.DataFrame()\n",
    "for i in columnsToNum:\n",
    "    data_roadGrade_notNull_toNum[i] = preprocessing.LabelEncoder().fit_transform(data_roadGrade_notNull[i])\n",
    "\n"
   ]
  },
  {
   "cell_type": "code",
   "execution_count": 12,
   "metadata": {
    "collapsed": true
   },
   "outputs": [
    {
     "data": {
      "text/html": [
       "<div>\n",
       "<table border=\"1\" class=\"dataframe\">\n",
       "  <thead>\n",
       "    <tr style=\"text-align: right;\">\n",
       "      <th></th>\n",
       "      <th>是否节假日</th>\n",
       "      <th>是否白天</th>\n",
       "      <th>事故地点</th>\n",
       "      <th>事故多发点段</th>\n",
       "      <th>事故类型</th>\n",
       "      <th>交通标志标线完善</th>\n",
       "      <th>公路行政等级</th>\n",
       "      <th>公里数</th>\n",
       "      <th>其他交通安全设施不全</th>\n",
       "      <th>天气</th>\n",
       "      <th>所辖乡镇</th>\n",
       "      <th>是否运载危险物品</th>\n",
       "      <th>行政区划</th>\n",
       "      <th>路号</th>\n",
       "      <th>道路类型</th>\n",
       "      <th>长下坡路段</th>\n",
       "    </tr>\n",
       "  </thead>\n",
       "  <tbody>\n",
       "    <tr>\n",
       "      <th>35165</th>\n",
       "      <td>0.0</td>\n",
       "      <td>白天</td>\n",
       "      <td>南坪快速东行坂雪岗入口路段</td>\n",
       "      <td>2.0</td>\n",
       "      <td>简易程序事故</td>\n",
       "      <td>否</td>\n",
       "      <td>省道</td>\n",
       "      <td>6.0</td>\n",
       "      <td>否</td>\n",
       "      <td>1</td>\n",
       "      <td>440306014.0</td>\n",
       "      <td>否</td>\n",
       "      <td>440306</td>\n",
       "      <td>50076.0</td>\n",
       "      <td>城市快速路</td>\n",
       "      <td>否</td>\n",
       "    </tr>\n",
       "    <tr>\n",
       "      <th>35167</th>\n",
       "      <td>0.0</td>\n",
       "      <td>白天</td>\n",
       "      <td>机荷荷坳收费站往龙岗</td>\n",
       "      <td>2.0</td>\n",
       "      <td>简易程序事故</td>\n",
       "      <td>否</td>\n",
       "      <td>国道</td>\n",
       "      <td>370.0</td>\n",
       "      <td>否</td>\n",
       "      <td>3</td>\n",
       "      <td>440307001.0</td>\n",
       "      <td>否</td>\n",
       "      <td>440307</td>\n",
       "      <td>15.0</td>\n",
       "      <td>高速</td>\n",
       "      <td>否</td>\n",
       "    </tr>\n",
       "    <tr>\n",
       "      <th>35196</th>\n",
       "      <td>1.0</td>\n",
       "      <td>夜晚</td>\n",
       "      <td>横岗坳背路</td>\n",
       "      <td>2.0</td>\n",
       "      <td>简易程序事故</td>\n",
       "      <td>否</td>\n",
       "      <td>县道</td>\n",
       "      <td>1.0</td>\n",
       "      <td>否</td>\n",
       "      <td>1</td>\n",
       "      <td>440307004.0</td>\n",
       "      <td>否</td>\n",
       "      <td>440307</td>\n",
       "      <td>77012.0</td>\n",
       "      <td>一般城市道路</td>\n",
       "      <td>否</td>\n",
       "    </tr>\n",
       "    <tr>\n",
       "      <th>35198</th>\n",
       "      <td>1.0</td>\n",
       "      <td>夜晚</td>\n",
       "      <td>爱联B区十巷十号</td>\n",
       "      <td>2.0</td>\n",
       "      <td>简易程序事故</td>\n",
       "      <td>否</td>\n",
       "      <td>县道</td>\n",
       "      <td>1000.0</td>\n",
       "      <td>否</td>\n",
       "      <td>2</td>\n",
       "      <td>440307002.0</td>\n",
       "      <td>否</td>\n",
       "      <td>440307</td>\n",
       "      <td>88025.0</td>\n",
       "      <td>一般城市道路</td>\n",
       "      <td>否</td>\n",
       "    </tr>\n",
       "    <tr>\n",
       "      <th>35199</th>\n",
       "      <td>1.0</td>\n",
       "      <td>白天</td>\n",
       "      <td>平湖街道白泥坑宝利路3号</td>\n",
       "      <td>2.0</td>\n",
       "      <td>简易程序事故</td>\n",
       "      <td>否</td>\n",
       "      <td>其他</td>\n",
       "      <td>1001.0</td>\n",
       "      <td>否</td>\n",
       "      <td>1</td>\n",
       "      <td>440307003.0</td>\n",
       "      <td>否</td>\n",
       "      <td>440307</td>\n",
       "      <td>87506.0</td>\n",
       "      <td>其他路</td>\n",
       "      <td>否</td>\n",
       "    </tr>\n",
       "  </tbody>\n",
       "</table>\n",
       "</div>"
      ],
      "text/plain": [
       "       是否节假日 是否白天           事故地点  事故多发点段    事故类型 交通标志标线完善 公路行政等级     公里数  \\\n",
       "35165    0.0   白天  南坪快速东行坂雪岗入口路段     2.0  简易程序事故        否     省道     6.0   \n",
       "35167    0.0   白天     机荷荷坳收费站往龙岗     2.0  简易程序事故        否     国道   370.0   \n",
       "35196    1.0   夜晚          横岗坳背路     2.0  简易程序事故        否     县道     1.0   \n",
       "35198    1.0   夜晚       爱联B区十巷十号     2.0  简易程序事故        否     县道  1000.0   \n",
       "35199    1.0   白天   平湖街道白泥坑宝利路3号     2.0  简易程序事故        否     其他  1001.0   \n",
       "\n",
       "      其他交通安全设施不全  天气         所辖乡镇 是否运载危险物品    行政区划       路号    道路类型 长下坡路段  \n",
       "35165          否   1  440306014.0        否  440306  50076.0   城市快速路     否  \n",
       "35167          否   3  440307001.0        否  440307     15.0      高速     否  \n",
       "35196          否   1  440307004.0        否  440307  77012.0  一般城市道路     否  \n",
       "35198          否   2  440307002.0        否  440307  88025.0  一般城市道路     否  \n",
       "35199          否   1  440307003.0        否  440307  87506.0     其他路     否  "
      ]
     },
     "execution_count": 12,
     "metadata": {},
     "output_type": "execute_result"
    }
   ],
   "source": [
    "data_roadGrade_notNull.head()"
   ]
  },
  {
   "cell_type": "code",
   "execution_count": 17,
   "metadata": {
    "collapsed": true
   },
   "outputs": [],
   "source": [
    "target = '公路行政等级'"
   ]
  },
  {
   "cell_type": "code",
   "execution_count": 23,
   "metadata": {
    "collapsed": false
   },
   "outputs": [],
   "source": [
    "def modelfit(alg, dtrain, predictors,useTrainCV=True, cv_folds=5, early_stopping_rounds=50):  \n",
    "    if useTrainCV:\n",
    "        xgb_param = alg.get_xgb_params()\n",
    "        xgb_param['num_class'] = 4\n",
    "        xgtrain = xgb.DMatrix(dtrain[predictors].values, label=dtrain[target].values)\n",
    "        cvresult = xgb.cv(xgb_param, xgtrain, num_boost_round=alg.get_params()['n_estimators'], nfold=cv_folds,\n",
    "            metrics='merror', early_stopping_rounds=early_stopping_rounds)#, show_progress=False，多分类metrics使用merror\n",
    "        alg.set_params(n_estimators=cvresult.shape[0])\n",
    "    \n",
    "    #Fit the algorithm on the data\n",
    "    alg.fit(dtrain[predictors],dtrain['Label'],eval_metric='merror')    \n",
    "    #Predict training set:\n",
    "    dtrain_predictions = alg.predict(dtrain[predictors])\n",
    "    dtrain_predprob = alg.predict_proba(dtrain[predictors])[:,1]\n",
    "        \n",
    "    #Print model report:\n",
    "    print(\"\\nModel Report\")\n",
    "    print(\"Accuracy(Predict compare Label) : %.4g\" % metrics.accuracy_score(dtrain['Label'].values, dtrain_predictions))\n",
    "#     print(\"AUC Score (Train): %f\" % metrics.roc_auc_score(dtrain['Label'], dtrain_predprob))\n",
    "    cvresult = pd.DataFrame(cvresult)\n",
    "    print(\"Accuracy : %.4g\" % (1-cvresult.iloc[-1][0]))\n",
    "    print('test-auc-mean and test-auc-std and train-auc-mean and train-auc-std:')\n",
    "    print(cvresult.iloc[-1][0:2])\n",
    "    feat_imp = pd.Series(alg.booster().get_fscore()).sort_values(ascending=False)\n",
    "    feat_imp.plot(kind='bar', title='Feature Importances')\n",
    "    plt.ylabel('Feature Importance Score')\n",
    "    return alg"
   ]
  },
  {
   "cell_type": "code",
   "execution_count": null,
   "metadata": {
    "collapsed": false
   },
   "outputs": [],
   "source": [
    "#Choose all predictors except target & IDcols\n",
    "predictors = [x for x in data_roadGrade_notNull_toNum.columns if x not in [target]]\n",
    "xgb1 = XGBClassifier(\n",
    "    learning_rate =0.1,\n",
    "    n_estimators=1000,\n",
    "    max_depth=4,\n",
    "    min_child_weight=0,\n",
    "    gamma=0,\n",
    "    subsample=0.6,\n",
    "    colsample_bytree=0.7,\n",
    "    #  reg_alpha=0.005,\n",
    "    objective= 'multi:softmax',\n",
    "    nthread=4,\n",
    "    scale_pos_weight=1,\n",
    "    seed=27)\n",
    "alg = modelfit(xgb1, data_roadGrade_notNull_toNum, predictors)"
   ]
  },
  {
   "cell_type": "code",
   "execution_count": null,
   "metadata": {
    "collapsed": true
   },
   "outputs": [],
   "source": []
  },
  {
   "cell_type": "markdown",
   "metadata": {},
   "source": [
    "# 2.删除公路行政等级特征"
   ]
  },
  {
   "cell_type": "code",
   "execution_count": null,
   "metadata": {
    "collapsed": true
   },
   "outputs": [],
   "source": []
  }
 ],
 "metadata": {
  "kernelspec": {
   "display_name": "Python 3",
   "language": "python",
   "name": "python3"
  },
  "language_info": {
   "codemirror_mode": {
    "name": "ipython",
    "version": 3
   },
   "file_extension": ".py",
   "mimetype": "text/x-python",
   "name": "python",
   "nbconvert_exporter": "python",
   "pygments_lexer": "ipython3",
   "version": "3.6.0"
  }
 },
 "nbformat": 4,
 "nbformat_minor": 2
}
