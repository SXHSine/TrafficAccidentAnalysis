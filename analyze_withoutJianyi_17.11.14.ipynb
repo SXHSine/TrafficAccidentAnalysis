{
 "cells": [
  {
   "cell_type": "code",
   "execution_count": 1,
   "metadata": {
    "collapsed": false
   },
   "outputs": [
    {
     "name": "stderr",
     "output_type": "stream",
     "text": [
      "D:\\ProgramFiles\\Anaconda3\\lib\\site-packages\\sklearn\\cross_validation.py:44: DeprecationWarning: This module was deprecated in version 0.18 in favor of the model_selection module into which all the refactored classes and functions are moved. Also note that the interface of the new CV iterators are different from that of this module. This module will be removed in 0.20.\n",
      "  \"This module will be removed in 0.20.\", DeprecationWarning)\n",
      "D:\\ProgramFiles\\Anaconda3\\lib\\site-packages\\sklearn\\grid_search.py:43: DeprecationWarning: This module was deprecated in version 0.18 in favor of the model_selection module into which all the refactored classes and functions are moved. This module will be removed in 0.20.\n",
      "  DeprecationWarning)\n"
     ]
    }
   ],
   "source": [
    "import pandas as pd\n",
    "import numpy as np\n",
    "from pandas.tseries.holiday import USFederalHolidayCalendar as calendar\n",
    "\n",
    "%matplotlib inline\n",
    "import numpy as np\n",
    "import matplotlib.pyplot as plt\n",
    "import seaborn as sns\n",
    "import pandas as pd\n",
    "from pandas.tools.plotting import parallel_coordinates\n",
    "\n",
    "import matplotlib as mpl\n",
    "from matplotlib.font_manager import FontProperties\n",
    "import matplotlib.pyplot as plt\n",
    "from matplotlib.pylab import rcParams\n",
    "import seaborn as sns\n",
    "sns.set_style(\"darkgrid\",{\"font.sans-serif\":['simhei', 'Arial']})\n",
    "# rcParams['figure.figsize'] = 12, 4\n",
    "from scipy import stats\n",
    "import math\n",
    "\n",
    "\n",
    "import xgboost as xgb\n",
    "from xgboost.sklearn import XGBClassifier\n",
    "from sklearn import cross_validation, metrics   #Additional scklearn functions\n",
    "from sklearn.grid_search import GridSearchCV   #Perforing grid search\n",
    "\n",
    "from sklearn import preprocessing"
   ]
  },
  {
   "cell_type": "code",
   "execution_count": 17,
   "metadata": {
    "collapsed": true
   },
   "outputs": [
    {
     "name": "stdout",
     "output_type": "stream",
     "text": [
      "路号\n",
      "4.0         4470\n",
      "15.0       16019\n",
      "25.0        2239\n",
      "94.0         260\n",
      "10107.0     7798\n",
      "10205.0      422\n",
      "20300.0      638\n",
      "22090.0     1361\n",
      "22700.0      345\n",
      "22800.0     3914\n",
      "23000.0     2294\n",
      "23100.0     2742\n",
      "23300.0     1200\n",
      "30019.0        1\n",
      "30025.0        1\n",
      "30089.0       91\n",
      "30090.0        4\n",
      "30094.0        3\n",
      "50001.0      542\n",
      "50002.0     1597\n",
      "50003.0        8\n",
      "50004.0      508\n",
      "50012.0        4\n",
      "50076.0     5227\n",
      "50096.0       50\n",
      "50125.0      283\n",
      "50139.0        4\n",
      "50510.0       10\n",
      "50511.0        1\n",
      "50515.0        3\n",
      "           ...  \n",
      "98074.0        1\n",
      "98101.0        2\n",
      "98104.0       27\n",
      "98105.0       22\n",
      "98106.0       52\n",
      "98107.0      139\n",
      "98201.0        2\n",
      "98202.0       31\n",
      "98203.0       55\n",
      "98204.0       74\n",
      "98205.0        3\n",
      "98206.0        6\n",
      "98207.0        8\n",
      "98209.0        2\n",
      "98212.0        2\n",
      "98213.0        6\n",
      "98214.0       38\n",
      "98216.0       10\n",
      "98218.0        5\n",
      "98220.0        1\n",
      "98222.0        1\n",
      "98337.0        6\n",
      "98576.0        1\n",
      "98589.0        1\n",
      "98592.0        1\n",
      "98662.0        2\n",
      "98685.0        2\n",
      "98854.0        1\n",
      "98856.0        1\n",
      "99329.0        2\n",
      "dtype: int64\n"
     ]
    }
   ],
   "source": [
    "#test\n",
    "xls = pd.ExcelFile('2014年基本信息表.xls')\n",
    "data_upperHalf = xls.parse('基本信息表2014上半年')\n",
    "data_lowerHalf = xls.parse('基本信息表2014下半年')\n",
    "data_orig = pd.DataFrame()\n",
    "data_orig = pd.concat([data_upperHalf,data_lowerHalf],ignore_index=True)\n",
    "\n",
    "xls = pd.ExcelFile('2015年基本信息表.xls')\n",
    "data_upperHalf = xls.parse('基本信息表2015年上半年')\n",
    "data_lowerHalf = xls.parse('基本信息表2015年上半年')\n",
    "data_orig = pd.concat([data_orig,data_upperHalf,data_lowerHalf],ignore_index=True)\n",
    "\n",
    "xls = pd.ExcelFile('2016年基本信息表.xls')\n",
    "data_upperHalf = xls.parse('2016年上半年基本信息表')\n",
    "data_lowerHalf = xls.parse('2016年下半年基本信息表')\n",
    "data_orig = pd.concat([data_orig,data_upperHalf,data_lowerHalf],ignore_index=True)\n",
    "xls.close()\n",
    "\n",
    "del data_upperHalf\n",
    "del data_lowerHalf\n",
    "\n",
    "print(data_orig.groupby(['路号']).size())"
   ]
  },
  {
   "cell_type": "code",
   "execution_count": 2,
   "metadata": {
    "collapsed": false
   },
   "outputs": [
    {
     "name": "stdout",
     "output_type": "stream",
     "text": [
      "196169\n",
      "3052\n"
     ]
    }
   ],
   "source": [
    "data = pd.read_excel('data_accidentForPapaer_17.11.13.xlsx')\n",
    "data = data[data['路面附着系数'].isnull()]\n",
    "print(len(data))\n",
    "data_roadGrade_withoutJianyi = data[~data['事故类型'].isin(['简易程序事故'])]\n",
    "print(len(data_roadGrade_withoutJianyi))"
   ]
  },
  {
   "cell_type": "code",
   "execution_count": 3,
   "metadata": {
    "collapsed": true
   },
   "outputs": [
    {
     "name": "stdout",
     "output_type": "stream",
     "text": [
      "中央隔离设施: 0.35878112713  是否节假日: 0.211336828309  是否白天: 0.211336828309  事故地点: 0.0  \n",
      "事故多发点段: 0.00819134993447  事故类型: 0.0  交通信号方式（控制）: 0.000655307994758  交通标志标线完善: 0.0  \n",
      "公路行政等级: 0.424311926606  公里数: 0.000327653997379  其他交通安全设施不全: 0.00819134993447  单向路宽: 0.543577981651  \n",
      "双向路宽: 0.841415465269  在道路横断面位置: 0.000655307994758  地形: 0.00229357798165  天气: 0.0  \n",
      "所辖乡镇: 0.00360419397117  星期: 0.0  是否运载危险物品: 0.0  照明条件: 0.000655307994758  \n",
      "能见度: 0.0314547837484  行政区划: 0.0  路侧防护设施类型: 0.0157273918742  路口路段类型: 0.00327653997379  \n",
      "路号: 0.0  路表情况: 0.000655307994758  路面状况: 0.000655307994758  路面结构: 0.00262123197903  \n",
      "路面附着系数: 1.0  道路安全属性: 0.199213630406  道路安全隐患督办等级: 0.397116644823  道路物理隔离: 0.00294888597641  \n",
      "道路类型: 0.00163826998689  道路线型: 0.00229357798165  长下坡路段: 0.0  "
     ]
    }
   ],
   "source": [
    "# nan_columns = {}\n",
    "# length_data = len(data_roadGrade_withoutJianyi)\n",
    "# for i in range(len(data_roadGrade_withoutJianyi.columns)): \n",
    "#     odds = sum(data_roadGrade_withoutJianyi[data_roadGrade_withoutJianyi.columns[i]].isnull())/length_data\n",
    "#     nan_columns[data_roadGrade_withoutJianyi.columns[i]] = odds\n",
    "\n",
    "# j = 0\n",
    "# for i in nan_columns:\n",
    "#     print(i+': '+str(nan_columns[i]),end='  ')\n",
    "#     j+=1\n",
    "#     if j==4:\n",
    "#         j=0\n",
    "#         print()"
   ]
  },
  {
   "cell_type": "code",
   "execution_count": 8,
   "metadata": {
    "collapsed": false
   },
   "outputs": [],
   "source": [
    "# data_roadGrade_withoutJianyi.drop(['路面附着系数'],axis=1,inplace=True)\n",
    "data_roadGrade_withoutJianyi \\\n",
    "                        = data_roadGrade_withoutJianyi[data_roadGrade_withoutJianyi['是否节假日'].notnull()\\\n",
    "                        &data_roadGrade_withoutJianyi['事故多发点段'].notnull()\\\n",
    "                        &data_roadGrade_withoutJianyi['交通信号方式（控制）'].notnull()\\\n",
    "                        &data_roadGrade_withoutJianyi['公里数'].notnull()\\\n",
    "                        &data_roadGrade_withoutJianyi['其他交通安全设施不全'].notnull()\\\n",
    "                        &data_roadGrade_withoutJianyi['在道路横断面位置'].notnull()\\\n",
    "                        &data_roadGrade_withoutJianyi['地形'].notnull()\\\n",
    "                        &data_roadGrade_withoutJianyi['所辖乡镇'].notnull()\\\n",
    "                        &data_roadGrade_withoutJianyi['照明条件'].notnull()\\\n",
    "                        &data_roadGrade_withoutJianyi['能见度'].notnull()\\\n",
    "                        &data_roadGrade_withoutJianyi['路侧防护设施类型'].notnull()\\\n",
    "                        &data_roadGrade_withoutJianyi['路口路段类型'].notnull()\\\n",
    "                        &data_roadGrade_withoutJianyi['路表情况'].notnull()\\\n",
    "                        &data_roadGrade_withoutJianyi['路面状况'].notnull()\\\n",
    "                        &data_roadGrade_withoutJianyi['路面结构'].notnull()\\\n",
    "                        &data_roadGrade_withoutJianyi['道路安全属性'].notnull()\\\n",
    "                        &data_roadGrade_withoutJianyi['道路安全隐患督办等级'].notnull()\\\n",
    "                        &data_roadGrade_withoutJianyi['道路物理隔离'].notnull()\\\n",
    "                        &data_roadGrade_withoutJianyi['道路类型'].notnull()\\\n",
    "                        &data_roadGrade_withoutJianyi['道路线型'].notnull()]"
   ]
  },
  {
   "cell_type": "code",
   "execution_count": 10,
   "metadata": {
    "collapsed": false
   },
   "outputs": [
    {
     "data": {
      "text/plain": [
       "Index(['中央隔离设施', '是否节假日', '是否白天', '是否双道', '路宽', '事故地点', '事故多发点段', '事故类型',\n",
       "       '交通信号方式（控制）', '交通标志标线完善', '公路行政等级', '公里数', '其他交通安全设施不全', '在道路横断面位置',\n",
       "       '地形', '天气', '所辖乡镇', '星期', '是否运载危险物品', '照明条件', '能见度', '行政区划', '路侧防护设施类型',\n",
       "       '路口路段类型', '路号', '路表情况', '路面状况', '路面结构', '道路安全属性', '道路安全隐患督办等级',\n",
       "       '道路物理隔离', '道路类型', '道路线型', '长下坡路段'],\n",
       "      dtype='object')"
      ]
     },
     "execution_count": 10,
     "metadata": {},
     "output_type": "execute_result"
    }
   ],
   "source": [
    "# nan_columns = {}\n",
    "# length_data = len(data_roadGrade_withoutJianyi)\n",
    "# for i in range(len(data_roadGrade_withoutJianyi.columns)): \n",
    "#     odds = sum(data_roadGrade_withoutJianyi[data_roadGrade_withoutJianyi.columns[i]].isnull())/length_data\n",
    "#     nan_columns[data_roadGrade_withoutJianyi.columns[i]] = odds\n",
    "\n",
    "# j = 0\n",
    "# for i in nan_columns:\n",
    "#     print(i+': '+str(nan_columns[i]),end='  ')\n",
    "#     j+=1\n",
    "#     if j==4:\n",
    "#         j=0\n",
    "#         print()\n",
    "data_roadGrade_withoutJianyi.columns"
   ]
  },
  {
   "cell_type": "markdown",
   "metadata": {},
   "source": [
    "# 整合路宽"
   ]
  },
  {
   "cell_type": "code",
   "execution_count": 11,
   "metadata": {
    "collapsed": false
   },
   "outputs": [],
   "source": [
    "data_way = data_roadGrade_withoutJianyi[['单向路宽','双向路宽']]\n",
    "data_way.columns=['oneWay','twoWay']\n",
    "\n",
    "#填充空值为-1\n",
    "data_way.fillna(-1,inplace=True)\n",
    "\n",
    "def isTwowayRoad(row,oneWay,twoWay):\n",
    "    if row[oneWay] == -1 and row[twoWay] == -1:\n",
    "        return np.nan\n",
    "    elif row[oneWay] == -1:\n",
    "        return '是'\n",
    "    elif  row[twoWay] == -1:\n",
    "        return  '否'\n",
    "\n",
    "def getRoadWidth(row,oneWay,twoWay):\n",
    "    if row[oneWay] == -1 and row[twoWay] == -1:\n",
    "        return np.nan\n",
    "    elif row[oneWay] == -1:\n",
    "        return row[twoWay]\n",
    "    elif  row[twoWay] == -1:\n",
    "        return  row[oneWay]\n",
    "\n",
    "data_isTwoWay = pd.DataFrame(data_way.apply(isTwowayRoad, axis=1, oneWay='oneWay', twoWay='twoWay'),\\\n",
    "                             columns=['isTwoWay'])\n",
    "data_roadWidth = pd.DataFrame(data_way.apply(getRoadWidth, axis=1, oneWay='oneWay', twoWay='twoWay'),\\\n",
    "                             columns=['roadWidth'])\n",
    "\n",
    "data_roadGrade_withoutJianyi.insert(value=data_isTwoWay,column='是否双道',loc=3)\n",
    "data_roadGrade_withoutJianyi.insert(value=data_roadWidth,column='路宽',loc=4)\n",
    "\n",
    "# pd.DataFrame(data_attach_notnull[(data_attach_notnull['路宽']==-1)])[['是否双道','路宽','单向路宽','双向路宽']]\n",
    "data_roadGrade_withoutJianyi.drop(['单向路宽','双向路宽'],axis=1,inplace=True)\n",
    "del data_way,data_isTwoWay,data_roadWidth\n",
    "\n",
    "nan_columns = {}\n",
    "length_data = len(data_roadGrade_withoutJianyi)\n",
    "for i in range(len(data_roadGrade_withoutJianyi.columns)): \n",
    "    odds = sum(data_roadGrade_withoutJianyi[data_roadGrade_withoutJianyi.columns[i]].isnull())/length_data\n",
    "    nan_columns[data_roadGrade_withoutJianyi.columns[i]] = odds\n",
    "\n",
    "j = 0\n",
    "for i in nan_columns:\n",
    "    print(i+': '+str(nan_columns[i]),end='  ')\n",
    "    j+=1\n",
    "    if j==4:\n",
    "        j=0\n",
    "        print()"
   ]
  },
  {
   "cell_type": "code",
   "execution_count": 5,
   "metadata": {
    "collapsed": false
   },
   "outputs": [
    {
     "name": "stdout",
     "output_type": "stream",
     "text": [
      "1373\n"
     ]
    }
   ],
   "source": [
    "print(len(data_roadGrade_withoutJianyi))"
   ]
  },
  {
   "cell_type": "markdown",
   "metadata": {},
   "source": [
    "# 处理缺失特征"
   ]
  },
  {
   "cell_type": "code",
   "execution_count": 12,
   "metadata": {
    "collapsed": false
   },
   "outputs": [
    {
     "name": "stdout",
     "output_type": "stream",
     "text": [
      "774\n"
     ]
    },
    {
     "name": "stderr",
     "output_type": "stream",
     "text": [
      "D:\\ProgramFiles\\Anaconda3\\lib\\site-packages\\ipykernel\\__main__.py:3: SettingWithCopyWarning: \n",
      "A value is trying to be set on a copy of a slice from a DataFrame\n",
      "\n",
      "See the caveats in the documentation: http://pandas.pydata.org/pandas-docs/stable/indexing.html#indexing-view-versus-copy\n",
      "  app.launch_new_instance()\n"
     ]
    }
   ],
   "source": [
    "data_roadGrade_withoutJianyi = data_roadGrade_withoutJianyi[data_roadGrade_withoutJianyi['是否双道'].notnull()\\\n",
    "                                                        &data_roadGrade_withoutJianyi['中央隔离设施'].notnull()]\n",
    "print(len(data_roadGrade_withoutJianyi))\n",
    "data_roadGrade_withoutJianyi.drop(['公路行政等级'],axis=1,inplace=True)"
   ]
  },
  {
   "cell_type": "code",
   "execution_count": 15,
   "metadata": {
    "collapsed": false
   },
   "outputs": [],
   "source": [
    "data_roadGrade_withoutJianyi.to_excel('data_roadGrade_withoutJianyi_17.11.15.xlsx')"
   ]
  },
  {
   "cell_type": "code",
   "execution_count": 13,
   "metadata": {
    "collapsed": false
   },
   "outputs": [],
   "source": [
    "# nan_columns = {}\n",
    "# length_data = len(data_roadGrade_withoutJianyi)\n",
    "# for i in range(len(data_roadGrade_withoutJianyi.columns)): \n",
    "#     odds = sum(data_roadGrade_withoutJianyi[data_roadGrade_withoutJianyi.columns[i]].isnull())/length_data\n",
    "#     nan_columns[data_roadGrade_withoutJianyi.columns[i]] = odds\n",
    "# j = 0\n",
    "# for i in nan_columns:\n",
    "#     print(i+': '+str(nan_columns[i]),end='  ')\n",
    "#     j+=1\n",
    "#     if j==4:\n",
    "#         j=0\n",
    "#         print()\n",
    "        \n",
    "# print(len(data_roadGrade_withoutJianyi))"
   ]
  },
  {
   "cell_type": "markdown",
   "metadata": {},
   "source": [
    "# 获取某路号出现最多的道路相关属性"
   ]
  },
  {
   "cell_type": "code",
   "execution_count": 72,
   "metadata": {
    "collapsed": false,
    "scrolled": true
   },
   "outputs": [],
   "source": [
    "# len(data_roadGrade_withoutJianyi.groupby(['路号']))\n",
    "info = {}\n",
    "roadColumns = ['事故多发点段','交通信号方式','交通标志标线完善','其他交通安全设施不全','路侧防护设施类型',\\\n",
    "               '路口路段类型','路面状况','路面结构','交通信号方式（控制）',\\\n",
    "               '道路安全属性','道路安全隐患督办等级','道路物理隔离','道路类型','道路线型','长下坡路段']\n",
    "data_gbRoadNo = data_roadGrade_withoutJianyi.groupby(['路号'])\n",
    "for name,group in data_gbRoadNo:\n",
    "#     print(name)\n",
    "    group = pd.DataFrame(group)\n",
    "    for i in group.columns:\n",
    "        if i in roadColumns:\n",
    "            info[i] = group[i].value_counts().index[0]\n",
    "    break\n",
    "    \n",
    "# 事故多发点段,交通信号方式,交通标志标线完善,其他交通安全设施不全,路侧防护设施类型,路口路段类型,路面状况,路面结构,\n",
    "# 道路安全属性,道路安全隐患督办等级,道路物理隔离,道路类型,道路线型,长下坡路段"
   ]
  },
  {
   "cell_type": "code",
   "execution_count": 73,
   "metadata": {
    "collapsed": false
   },
   "outputs": [
    {
     "data": {
      "text/plain": [
       "{'事故多发点段': 2.0,\n",
       " '交通信号方式（控制）': 45,\n",
       " '交通标志标线完善': '否',\n",
       " '其他交通安全设施不全': '否',\n",
       " '路侧防护设施类型': '无防护',\n",
       " '路口路段类型': '普通路段',\n",
       " '路面状况': '路面完好',\n",
       " '路面结构': '沥青',\n",
       " '道路安全属性': '正常路段',\n",
       " '道路安全隐患督办等级': 4.0,\n",
       " '道路物理隔离': '中心隔离',\n",
       " '道路类型': '高速',\n",
       " '道路线型': '平直',\n",
       " '长下坡路段': '否'}"
      ]
     },
     "execution_count": 73,
     "metadata": {},
     "output_type": "execute_result"
    }
   ],
   "source": [
    "info"
   ]
  },
  {
   "cell_type": "markdown",
   "metadata": {},
   "source": [
    "# 测试三个缺省属性是否关联\n",
    "## 结果关联程度不大"
   ]
  },
  {
   "cell_type": "code",
   "execution_count": 15,
   "metadata": {
    "collapsed": false
   },
   "outputs": [
    {
     "name": "stdout",
     "output_type": "stream",
     "text": [
      "1373\n",
      "中央隔离设施: 0.206153846154  是否节假日: 0.0  是否白天: 0.0  是否双道: 0.0  \n",
      "路宽: 0.0  事故地点: 0.0  事故多发点段: 0.0  事故类型: 0.0  \n",
      "交通信号方式（控制）: 0.0  交通标志标线完善: 0.0  公路行政等级: 0.4  公里数: 0.0  \n",
      "其他交通安全设施不全: 0.0  在道路横断面位置: 0.0  地形: 0.0  天气: 0.0  \n",
      "所辖乡镇: 0.0  星期: 0.0  是否运载危险物品: 0.0  照明条件: 0.0  \n",
      "能见度: 0.0  行政区划: 0.0  路侧防护设施类型: 0.0  路口路段类型: 0.0  \n",
      "路号: 0.0  路表情况: 0.0  路面状况: 0.0  路面结构: 0.0  \n",
      "道路安全属性: 0.0  道路安全隐患督办等级: 0.0  道路物理隔离: 0.0  道路类型: 0.0  \n",
      "道路线型: 0.0  长下坡路段: 0.0  975\n"
     ]
    }
   ],
   "source": [
    "print(len(data_roadGrade_withoutJianyi))\n",
    "data_roadGrade_withoutJianyi_2 = data_roadGrade_withoutJianyi[data_roadGrade_withoutJianyi['是否双道'].notnull()]\n",
    "nan_columns = {}\n",
    "length_data = len(data_roadGrade_withoutJianyi_2)\n",
    "for i in range(len(data_roadGrade_withoutJianyi_2.columns)): \n",
    "    odds = sum(data_roadGrade_withoutJianyi_2[data_roadGrade_withoutJianyi_2.columns[i]].isnull())/length_data\n",
    "    nan_columns[data_roadGrade_withoutJianyi_2.columns[i]] = odds\n",
    "\n",
    "j = 0\n",
    "for i in nan_columns:\n",
    "    print(i+': '+str(nan_columns[i]),end='  ')\n",
    "    j+=1\n",
    "    if j==4:\n",
    "        j=0\n",
    "        print()\n",
    "        \n",
    "print(len(data_roadGrade_withoutJianyi_2))"
   ]
  },
  {
   "cell_type": "markdown",
   "metadata": {},
   "source": [
    "# 如何填充公路行政等级"
   ]
  },
  {
   "cell_type": "markdown",
   "metadata": {},
   "source": [
    "# 预测"
   ]
  },
  {
   "cell_type": "code",
   "execution_count": 26,
   "metadata": {
    "collapsed": false
   },
   "outputs": [
    {
     "data": {
      "text/plain": [
       "<matplotlib.axes._subplots.AxesSubplot at 0x249838577b8>"
      ]
     },
     "execution_count": 26,
     "metadata": {},
     "output_type": "execute_result"
    },
    {
     "data": {
      "image/png": "[encoded data removed]",
      "text/plain": [
       "<matplotlib.figure.Figure at 0x24984cd0d30>"
      ]
     },
     "metadata": {},
     "output_type": "display_data"
    }
   ],
   "source": [
    "#交通信号方式（控制）\n",
    "sns.countplot(data_roadGrade_withoutJianyi['交通信号方式（控制）'])\n",
    "data_roadGrade_withoutJianyi.loc[data_roadGrade_withoutJianyi['交通信号方式（控制）']==345,'交通信号方式（控制）']='方式1'\n",
    "data_roadGrade_withoutJianyi.loc[data_roadGrade_withoutJianyi['交通信号方式（控制）']==45,'交通信号方式（控制）']='方式2'\n",
    "data_roadGrade_withoutJianyi.loc[data_roadGrade_withoutJianyi['交通信号方式（控制）']==456,'交通信号方式（控制）']='方式3'\n",
    "data_roadGrade_withoutJianyi.loc[data_roadGrade_withoutJianyi['交通信号方式（控制）']==3456,'交通信号方式（控制）']='方式4'\n",
    "data_roadGrade_withoutJianyi.loc[data_roadGrade_withoutJianyi['交通信号方式（控制）']==16,'交通信号方式（控制）']='方式5'\n",
    "data_roadGrade_withoutJianyi.loc[data_roadGrade_withoutJianyi['交通信号方式（控制）']==34,'交通信号方式（控制）']='方式6'\n",
    "data_roadGrade_withoutJianyi.loc[data_roadGrade_withoutJianyi['交通信号方式（控制）']==56,'交通信号方式（控制）']='方式7'\n",
    "data_roadGrade_withoutJianyi.loc[data_roadGrade_withoutJianyi['交通信号方式（控制）']==356,'交通信号方式（控制）']='方式8'\n",
    "\n",
    "sns.countplot(data_roadGrade_withoutJianyi['交通信号方式（控制）'])\n",
    "#删除星期\n",
    "data_roadGrade_withoutJianyi.drop(['星期'],axis=1,inplace=True)"
   ]
  },
  {
   "cell_type": "code",
   "execution_count": 27,
   "metadata": {
    "collapsed": false
   },
   "outputs": [],
   "source": [
    "#生成训练集和测试集\n",
    "columnsToNum = list(data_roadGrade_withoutJianyi.columns)\n",
    "\n",
    "data_roadGrade_withoutJianyi_toNum = pd.DataFrame()\n",
    "for i in columnsToNum:\n",
    "    data_roadGrade_withoutJianyi_toNum[i] = preprocessing.LabelEncoder().fit_transform(data_roadGrade_withoutJianyi[i])\n",
    "\n"
   ]
  },
  {
   "cell_type": "code",
   "execution_count": 28,
   "metadata": {
    "collapsed": true
   },
   "outputs": [],
   "source": [
    "target = '事故类型'\n",
    "\n",
    "def modelfit(alg, dtrain, predictors,useTrainCV=True, cv_folds=5, early_stopping_rounds=50):  \n",
    "    if useTrainCV:\n",
    "        xgb_param = alg.get_xgb_params()\n",
    "        xgb_param['num_class'] = 3\n",
    "        xgtrain = xgb.DMatrix(dtrain[predictors].values, label=dtrain[target].values)\n",
    "        cvresult = xgb.cv(xgb_param, xgtrain, num_boost_round=alg.get_params()['n_estimators'], nfold=cv_folds,\n",
    "            metrics='merror', early_stopping_rounds=early_stopping_rounds)#, show_progress=False，多分类metrics使用merror\n",
    "        alg.set_params(n_estimators=cvresult.shape[0])\n",
    "    \n",
    "    #Fit the algorithm on the data\n",
    "    alg.fit(dtrain[predictors],dtrain[target],eval_metric='merror')    \n",
    "    #Predict training set:\n",
    "    dtrain_predictions = alg.predict(dtrain[predictors])\n",
    "    dtrain_predprob = alg.predict_proba(dtrain[predictors])[:,1]\n",
    "        \n",
    "\n",
    "\n",
    "\n",
    "    print (\"\\nModel Report\")\n",
    "    print (\"Accuracy : %.4g\" % metrics.accuracy_score(dtrain[target].values, dtrain_predictions))\n",
    "#     print (\"AUC Score (Train): %f\" % metrics.roc_auc_score(dtrain[target], dtrain_predprob))\n",
    "\n",
    "    cvresult = pd.DataFrame(cvresult)\n",
    "    print(\"Accuracy : %.4g\" % (1-cvresult.iloc[-1][0]))\n",
    "    print('test-auc-mean and test-auc-std and train-auc-mean and train-auc-std:')\n",
    "    print(cvresult.iloc[-1][:])#\n",
    "                    \n",
    "    feat_imp = pd.Series(alg.booster().get_fscore()).sort_values(ascending=False)\n",
    "    feat_imp.plot(kind='bar', title='Feature Importances')\n",
    "    plt.ylabel('Feature Importance Score')\n",
    "\n",
    "    return alg"
   ]
  },
  {
   "cell_type": "code",
   "execution_count": 29,
   "metadata": {
    "collapsed": false
   },
   "outputs": [
    {
     "name": "stdout",
     "output_type": "stream",
     "text": [
      "\n",
      "Model Report\n",
      "Accuracy : 0.9987\n",
      "Accuracy : 0.7273\n",
      "test-auc-mean and test-auc-std and train-auc-mean and train-auc-std:\n",
      "test-merror-mean     0.272727\n",
      "test-merror-std      0.028155\n",
      "train-merror-mean    0.000000\n",
      "train-merror-std     0.000000\n",
      "Name: 207, dtype: float64\n"
     ]
    },
    {
     "data": {
      "image/png": "[encoded data removed]",
      "text/plain": [
       "<matplotlib.figure.Figure at 0x249850ac550>"
      ]
     },
     "metadata": {},
     "output_type": "display_data"
    }
   ],
   "source": [
    "#Choose all predictors except target & IDcols\n",
    "predictors = [x for x in data_roadGrade_withoutJianyi_toNum.columns if x not in [target]]\n",
    "xgb1 = XGBClassifier(\n",
    "    learning_rate =0.1,\n",
    "    n_estimators=1000,\n",
    "    max_depth=4,\n",
    "    min_child_weight=0,\n",
    "    gamma=0,\n",
    "    subsample=0.6,\n",
    "    colsample_bytree=0.7,\n",
    "    #  reg_alpha=0.005,\n",
    "    objective= 'multi:softmax',\n",
    "    nthread=4,\n",
    "    scale_pos_weight=1,\n",
    "    seed=27)\n",
    "alg = modelfit(xgb1, data_roadGrade_withoutJianyi_toNum, predictors)"
   ]
  },
  {
   "cell_type": "markdown",
   "metadata": {},
   "source": [
    "### 1.2.1 调参"
   ]
  },
  {
   "cell_type": "code",
   "execution_count": null,
   "metadata": {
    "collapsed": true
   },
   "outputs": [],
   "source": [
    "param_test1 = {\n",
    " 'max_depth':list(range(3,10,1)),\n",
    " 'min_child_weight':list(range(1,10,1))\n",
    "}\n",
    "# learning_rate =0.1,\n",
    "#     n_estimators=1000,\n",
    "#     max_depth=4,\n",
    "#     min_child_weight=0,\n",
    "#     gamma=0,\n",
    "#     subsample=0.6,\n",
    "#     colsample_bytree=0.7,\n",
    "#     #  reg_alpha=0.005,\n",
    "#     objective= 'multi:softmax',\n",
    "#     nthread=4,\n",
    "#     scale_pos_weight=1,\n",
    "#     seed=27\n",
    "gsearch1 = GridSearchCV(estimator = XGBClassifier( learning_rate =0.1, n_estimators=140, max_depth=5,\n",
    " min_child_weight=1, gamma=0, subsample=0.8, colsample_bytree=0.8,reg_alpha=0.005,\n",
    " objective= 'multi:softmax', nthread=4, scale_pos_weight=1, seed=27), \n",
    " param_grid = param_test1, scoring='accuracy',n_jobs=4,iid=False, cv=5)\n",
    "\n",
    "gsearch1.fit(data_roadGrade_notNull_withoutJianyi_toNum[predictors],data_roadGrade_notNull_withoutJianyi_toNum[target])\n",
    "gsearch1.grid_scores_, gsearch1.best_params_, gsearch1.best_score_\n",
    "\n",
    "#{'max_depth': 9, 'min_child_weight': 2},\n",
    " #0.6770666217228164)"
   ]
  },
  {
   "cell_type": "code",
   "execution_count": null,
   "metadata": {
    "collapsed": true
   },
   "outputs": [],
   "source": [
    "param_test1b = {\n",
    " 'max_depth':[7,8,9,10,11]\n",
    "}\n",
    "gsearch1 = GridSearchCV(estimator = XGBClassifier( learning_rate =0.1, n_estimators=140, max_depth=9,\n",
    " min_child_weight=2, gamma=0, subsample=0.8, colsample_bytree=0.8,reg_alpha=0.005,\n",
    " objective= 'multi:softmax', nthread=4, scale_pos_weight=1, seed=27), \n",
    " param_grid = param_test1b, scoring='accuracy',n_jobs=4,iid=False, cv=5)\n",
    "\n",
    "gsearch1.fit(data_roadGrade_notNull_withoutJianyi_toNum[predictors],data_roadGrade_notNull_withoutJianyi_toNum[target])\n",
    "gsearch1.grid_scores_, gsearch1.best_params_, gsearch1.best_score_\n",
    "\n",
    "#max_depth=9"
   ]
  }
 ],
 "metadata": {
  "kernelspec": {
   "display_name": "Python 3",
   "language": "python",
   "name": "python3"
  },
  "language_info": {
   "codemirror_mode": {
    "name": "ipython",
    "version": 3
   },
   "file_extension": ".py",
   "mimetype": "text/x-python",
   "name": "python",
   "nbconvert_exporter": "python",
   "pygments_lexer": "ipython3",
   "version": "3.6.0"
  }
 },
 "nbformat": 4,
 "nbformat_minor": 2
}
