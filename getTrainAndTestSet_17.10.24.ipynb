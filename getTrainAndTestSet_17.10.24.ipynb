{
 "cells": [
  {
   "cell_type": "code",
   "execution_count": 9,
   "metadata": {
    "collapsed": false
   },
   "outputs": [],
   "source": [
    "import pandas as pd\n",
    "import seaborn as sns\n",
    "import tensorflow as tf\n",
    "from sklearn import preprocessing\n",
    "import numpy as np\n",
    "%matplotlib inline\n",
    "sns.set_style(\"darkgrid\",{\"font.sans-serif\":['simhei', 'Arial']})"
   ]
  },
  {
   "cell_type": "code",
   "execution_count": 2,
   "metadata": {
    "collapsed": true
   },
   "outputs": [],
   "source": [
    "data = pd.read_excel('data_accident_final_17.10.17.xlsx')\n",
    "data = data.drop(['事故编号','事故地点', '路名'],axis=1)"
   ]
  },
  {
   "cell_type": "code",
   "execution_count": 51,
   "metadata": {
    "collapsed": false
   },
   "outputs": [
    {
     "name": "stdout",
     "output_type": "stream",
     "text": [
      "简易程序事故长度:131510\n",
      "伤人事故长度:905\n",
      "死亡事故长度:675\n",
      "财产损失事故长度:255\n"
     ]
    }
   ],
   "source": [
    "print('%s长度:%s'%('简易程序事故',len(data[data.事故类型=='简易程序事故'])))\n",
    "print('%s长度:%s'%('伤人事故',len(data[data.事故类型=='伤人事故'])))\n",
    "print('%s长度:%s'%('死亡事故',len(data[data.事故类型=='死亡事故'])))\n",
    "print('%s长度:%s'%('财产损失事故',len(data[data.事故类型=='财产损失事故'])))"
   ]
  },
  {
   "cell_type": "code",
   "execution_count": 52,
   "metadata": {
    "collapsed": false
   },
   "outputs": [
    {
     "name": "stdout",
     "output_type": "stream",
     "text": [
      "133345\n"
     ]
    }
   ],
   "source": [
    "easyTraffic = pd.DataFrame(data[data.事故类型=='简易程序事故'])\n",
    "hurtTraffic = pd.DataFrame(data[data.事故类型=='伤人事故'])\n",
    "deadTraffic = pd.DataFrame(data[data.事故类型=='死亡事故'])\n",
    "assetTraffic = pd.DataFrame(data[data.事故类型=='财产损失事故'])\n",
    "print(len(easyTraffic)+len(hurtTraffic)+len(deadTraffic)+len(assetTraffic))"
   ]
  },
  {
   "cell_type": "code",
   "execution_count": 67,
   "metadata": {
    "collapsed": false,
    "scrolled": true
   },
   "outputs": [],
   "source": [
    "easyTraffic['index'] = range(len(easyTraffic))\n",
    "easyTraffic.set_index(easyTraffic['index'],inplace=True)\n",
    "hurtTraffic['index'] = range(len(hurtTraffic))\n",
    "hurtTraffic.set_index(hurtTraffic['index'],inplace=True)\n",
    "deadTraffic['index'] = range(len(deadTraffic))\n",
    "deadTraffic.set_index(deadTraffic['index'],inplace=True)\n",
    "assetTraffic['index'] = range(len(assetTraffic))\n",
    "assetTraffic.set_index(assetTraffic['index'],inplace=True)"
   ]
  },
  {
   "cell_type": "markdown",
   "metadata": {},
   "source": [
    "#### Dataframe.sample replace为True为有放回抽样，反之无放回抽样"
   ]
  },
  {
   "cell_type": "code",
   "execution_count": 94,
   "metadata": {
    "collapsed": false
   },
   "outputs": [],
   "source": [
    "# print(len(easyTraffic))\n",
    "easyTraffic_test = easyTraffic.sample(frac=0.15,replace=False)\n",
    "index = ~easyTraffic.index.isin(easyTraffic_test['index'])\n",
    "easyTraffic_train = easyTraffic[index]\n",
    "# print(len(easyTraffic_train)+len(easyTraffic_test))\n",
    "\n",
    "\n",
    "hurtTraffic_test = hurtTraffic.sample(frac=0.15,replace=False)\n",
    "index = ~hurtTraffic.index.isin(hurtTraffic_test['index'])\n",
    "hurtTraffic_train = hurtTraffic[index]\n",
    "\n",
    "\n",
    "deadTraffic_test = deadTraffic.sample(frac=0.15,replace=False)\n",
    "index = ~deadTraffic.index.isin(deadTraffic_test['index'])\n",
    "deadTraffic_train = deadTraffic[index]\n",
    "\n",
    "\n",
    "assetTraffic_test = assetTraffic.sample(frac=0.15,replace=False)\n",
    "index = ~assetTraffic.index.isin(assetTraffic_test['index'])\n",
    "assetTraffic_train = assetTraffic[index]"
   ]
  },
  {
   "cell_type": "code",
   "execution_count": 95,
   "metadata": {
    "collapsed": false
   },
   "outputs": [],
   "source": [
    "train_set = [easyTraffic_train,hurtTraffic_train,deadTraffic_train,assetTraffic_train]\n",
    "test_set = [easyTraffic_test,hurtTraffic_test,deadTraffic_test,assetTraffic_test]"
   ]
  },
  {
   "cell_type": "code",
   "execution_count": 96,
   "metadata": {
    "collapsed": false
   },
   "outputs": [],
   "source": [
    "result_trainSet = pd.concat(train_set)\n",
    "result_testSet = pd.concat(test_set)\n",
    "# print(len(result_trainSet))\n",
    "# print(len(result_testSet))\n",
    "# print(len(result_trainSet)+len(result_testSet))"
   ]
  },
  {
   "cell_type": "code",
   "execution_count": 97,
   "metadata": {
    "collapsed": true
   },
   "outputs": [],
   "source": [
    "result_trainSet.to_excel('trainSetFrom_data_accident_final_17.10.17_17.10.24.xlsx')\n",
    "result_testSet.to_excel('testSetFrom_data_accident_final_17.10.17_17.10.24.xlsx')"
   ]
  },
  {
   "cell_type": "code",
   "execution_count": 101,
   "metadata": {
    "collapsed": true
   },
   "outputs": [],
   "source": [
    "result_trainSet.to_csv('trainSetFrom_data_accident_final_17.10.17_17.10.24.csv')\n",
    "result_testSet.to_csv('testSetFrom_data_accident_final_17.10.17_17.10.24.csv')"
   ]
  },
  {
   "cell_type": "code",
   "execution_count": null,
   "metadata": {
    "collapsed": true
   },
   "outputs": [],
   "source": []
  }
 ],
 "metadata": {
  "kernelspec": {
   "display_name": "Python 3",
   "language": "python",
   "name": "python3"
  },
  "language_info": {
   "codemirror_mode": {
    "name": "ipython",
    "version": 3
   },
   "file_extension": ".py",
   "mimetype": "text/x-python",
   "name": "python",
   "nbconvert_exporter": "python",
   "pygments_lexer": "ipython3",
   "version": "3.6.0"
  }
 },
 "nbformat": 4,
 "nbformat_minor": 2
}
