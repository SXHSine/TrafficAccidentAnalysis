{
 "cells": [
  {
   "cell_type": "code",
   "execution_count": 3,
   "metadata": {
    "collapsed": false
   },
   "outputs": [],
   "source": [
    "import pandas as pd\n",
    "import numpy as np\n",
    "from pandas.tseries.holiday import USFederalHolidayCalendar as calendar\n",
    "\n",
    "%matplotlib inline\n",
    "import numpy as np\n",
    "import matplotlib.pyplot as plt\n",
    "import seaborn as sns\n",
    "import pandas as pd\n",
    "from pandas.tools.plotting import parallel_coordinates\n",
    "\n",
    "import matplotlib as mpl\n",
    "from matplotlib.font_manager import FontProperties\n",
    "import matplotlib.pyplot as plt\n",
    "import seaborn as sns\n",
    "sns.set_style(\"darkgrid\",{\"font.sans-serif\":['simhei', 'Arial']})\n",
    "\n",
    "from scipy import stats\n",
    "import math\n",
    "\n",
    "from sklearn import preprocessing\n",
    "\n",
    "from sklearn.ensemble import RandomForestClassifier\n",
    "from sklearn import cross_validation, metrics\n",
    "from sklearn.grid_search import GridSearchCV"
   ]
  },
  {
   "cell_type": "code",
   "execution_count": 11,
   "metadata": {
    "collapsed": false
   },
   "outputs": [],
   "source": [
    "data_attach_notnull = pd.read_excel('dataOtherFactors__attach_notnul_17.11.11.xlsx')\n",
    "data_attach_notnull.drop(['所辖乡镇','星期','涉外事故','现场','行政区划','现场','公里数'],axis=1,inplace=True)"
   ]
  },
  {
   "cell_type": "code",
   "execution_count": 14,
   "metadata": {
    "collapsed": false
   },
   "outputs": [
    {
     "name": "stdout",
     "output_type": "stream",
     "text": [
      "132\n"
     ]
    }
   ],
   "source": [
    "data_attach_notnull.columns\n",
    "print(len(data_attach_notnull))"
   ]
  },
  {
   "cell_type": "code",
   "execution_count": 12,
   "metadata": {
    "collapsed": false
   },
   "outputs": [
    {
     "data": {
      "text/plain": [
       "<matplotlib.axes._subplots.AxesSubplot at 0x1b291277320>"
      ]
     },
     "execution_count": 12,
     "metadata": {},
     "output_type": "execute_result"
    },
    {
     "data": {
      "image/png": "[encoded data removed]",
      "text/plain": [
       "<matplotlib.figure.Figure at 0x1b29127ddd8>"
      ]
     },
     "metadata": {},
     "output_type": "display_data"
    }
   ],
   "source": [
    "sns.countplot(data_attach_notnull['事故类型'])"
   ]
  },
  {
   "cell_type": "code",
   "execution_count": 5,
   "metadata": {
    "collapsed": false
   },
   "outputs": [
    {
     "name": "stderr",
     "output_type": "stream",
     "text": [
      "D:\\ProgramFiles\\Anaconda3\\lib\\site-packages\\ipykernel\\__main__.py:13: SettingWithCopyWarning: \n",
      "A value is trying to be set on a copy of a slice from a DataFrame\n",
      "\n",
      "See the caveats in the documentation: http://pandas.pydata.org/pandas-docs/stable/indexing.html#indexing-view-versus-copy\n"
     ]
    }
   ],
   "source": [
    "#生成训练集和测试集\n",
    "\n",
    "\n",
    "data_attach_notnull['index'] = range(len(data_attach_notnull))\n",
    "data_attach_notnull_test = data_attach_notnull.sample(frac=0.2,replace=False)\n",
    "#获取训练集\n",
    "index = ~data_attach_notnull.index.isin(data_attach_notnull_test['index'])\n",
    "data_attach_notnull_train = data_attach_notnull[index]\n",
    "\n",
    "\n",
    "#转换为数字\n",
    "data_attach_notnull.drop(['index'],axis=1,inplace=True)\n",
    "data_attach_notnull_train.drop(['index'],axis=1,inplace=True)\n",
    "data_attach_notnull_test.drop(['index'],axis=1,inplace=True)\n",
    "columnsToNum = list(data_attach_notnull_train.columns)\n",
    "\n",
    "set_toNum = pd.DataFrame()\n",
    "for i in columnsToNum:\n",
    "    set_toNum[i] = preprocessing.LabelEncoder().fit_transform(data_attach_notnull[i])\n",
    "\n",
    "\n",
    "trainSet_toNum = pd.DataFrame()\n",
    "for i in columnsToNum:\n",
    "    trainSet_toNum[i] = preprocessing.LabelEncoder().fit_transform(data_attach_notnull_train[i])\n",
    "\n",
    "# columnsToNum = list(data_attach_notnull_test.columns)\n",
    "testSet_toNum = pd.DataFrame()\n",
    "for i in columnsToNum:\n",
    "    testSet_toNum[i] = preprocessing.LabelEncoder().fit_transform(data_attach_notnull_test[i])\n",
    "\n",
    "del data_attach_notnull_train,data_attach_notnull_test,data_attach_notnull\n",
    "\n",
    "#统一训练集、测试集格式\n",
    "train_features = trainSet_toNum.drop(['事故类型'],axis=1).columns\n",
    "\n",
    "x_all =np.array(set_toNum.drop(['事故类型'],axis=1)) \n",
    "y_all = np.array(set_toNum['事故类型'])\n",
    "y = np.zeros((len(y_all),len(set_toNum.groupby('事故类型')) ))\n",
    "for i in range(len(y_all)):\n",
    "    y[i][y_all[i]] = 1\n",
    "y_all = np.mat(y)\n",
    "x_all = np.mat(x_all)\n",
    "# y_all = np.mat(y_all)\n",
    "\n",
    "x_train =np.array(trainSet_toNum.drop(['事故类型'],axis=1)) \n",
    "y_train = np.array(trainSet_toNum['事故类型'])\n",
    "y = np.zeros((len(y_train),len(trainSet_toNum.groupby('事故类型')) ))\n",
    "for i in range(len(y_train)):\n",
    "    y[i][y_train[i]] = 1\n",
    "y_train = np.mat(y)\n",
    "x_train = np.mat(x_train)\n",
    "# y_train = np.mat(y_train)\n",
    "\n",
    "\n",
    "x_test =np.array(testSet_toNum.drop(['事故类型'],axis=1)) \n",
    "y_test = np.array(testSet_toNum['事故类型'])\n",
    "y = np.zeros((len(y_test),len(testSet_toNum.groupby('事故类型')) ))\n",
    "for i in range(len(y_test)):\n",
    "    y[i][y_test[i]] = 1\n",
    "y_test = np.mat(y)\n",
    "x_test = np.mat(x_test)\n",
    "# y_test = np.mat(y_test)\n",
    "\n",
    "\n",
    "del y,trainSet_toNum,testSet_toNum"
   ]
  },
  {
   "cell_type": "code",
   "execution_count": 6,
   "metadata": {
    "collapsed": false
   },
   "outputs": [
    {
     "name": "stdout",
     "output_type": "stream",
     "text": [
      "0.79797979798\n"
     ]
    },
    {
     "name": "stderr",
     "output_type": "stream",
     "text": [
      "D:\\ProgramFiles\\Anaconda3\\lib\\site-packages\\sklearn\\ensemble\\forest.py:439: UserWarning: Some inputs do not have OOB scores. This probably means too few trees were used to compute any reliable oob estimates.\n",
      "  warn(\"Some inputs do not have OOB scores. \"\n",
      "D:\\ProgramFiles\\Anaconda3\\lib\\site-packages\\sklearn\\ensemble\\forest.py:444: RuntimeWarning: invalid value encountered in true_divide\n",
      "  predictions[k].sum(axis=1)[:, np.newaxis])\n"
     ]
    }
   ],
   "source": [
    "forest = RandomForestClassifier(max_features='sqrt',random_state=10,oob_score=True)\n",
    "forest.fit(x_all,y_all)\n",
    "print(forest.oob_score_)"
   ]
  },
  {
   "cell_type": "code",
   "execution_count": null,
   "metadata": {
    "collapsed": true
   },
   "outputs": [],
   "source": [
    "#turn n_estimator\n",
    "param_test1 = {'n_estimators':list(range(20,200,10))}\n",
    "\n",
    "forest = GridSearchCV(estimator=RandomForestClassifier(max_features='sqrt',random_state=10),\\\n",
    "                     param_grid=param_test1,scoring='roc_auc',cv=5)\n",
    "forest.fit(x_all,y_all)\n",
    "forest.grid_scores_,forest.best_params_,forest.best_score_#cv_results_\n",
    "\n",
    "# forest = RandomForestClassifier(n_estimators=115,)\n",
    "# forest.fit(x_train,y_train)\n",
    "# print (forest.oob_score_)\n",
    "# y_pred= forest.predict(x_test)\n",
    "# print (\"AUC Score (Train): %f\" % metrics.roc_auc_score(y_test, y_pred) )"
   ]
  },
  {
   "cell_type": "code",
   "execution_count": null,
   "metadata": {
    "collapsed": true
   },
   "outputs": [],
   "source": [
    "#n_estimators=20，\n",
    "#'max_depth':list(range(2,18,1))\n",
    "param_test2 = {'min_samples_split':list(range(2,30,2))}#, \n",
    "forest = GridSearchCV(estimator=RandomForestClassifier(n_estimators=180,\\\n",
    "                                                    max_features='sqrt',oob_score=True,\\\n",
    "                                                    random_state=10),\\\n",
    "                     param_grid = param_test2,scoring='roc_auc',cv=5,iid=False)\n",
    "forest.fit(x_all,y_all)\n",
    "forest.grid_scores_,forest.best_params_,forest.best_score_\n",
    "#max_depth,min_samples_split使用默认值"
   ]
  },
  {
   "cell_type": "code",
   "execution_count": null,
   "metadata": {
    "collapsed": true
   },
   "outputs": [],
   "source": [
    "#测试oob_score_\n",
    "rf1 = RandomForestClassifier(n_estimators= 180,max_features='sqrt' ,min_samples_split=2,oob_score=True, random_state=10)\n",
    "rf1.fit(x_all,y_all)\n",
    "print (rf1.oob_score_)"
   ]
  },
  {
   "cell_type": "code",
   "execution_count": null,
   "metadata": {
    "collapsed": true
   },
   "outputs": [],
   "source": [
    "param_test3 = {'min_samples_split':list(range(2,10,1)),\\\n",
    "               'min_samples_leaf':list(range(1,10,1))}\n",
    "gsearch3 = GridSearchCV(estimator = RandomForestClassifier(n_estimators= 180,\n",
    "                                  max_features='sqrt' ,oob_score=True, random_state=10),\n",
    "   param_grid = param_test3, scoring='roc_auc',iid=False, cv=5)\n",
    "gsearch3.fit(x_all,y_all)\n",
    "gsearch3.grid_scores_, gsearch3.best_params_, gsearch3.best_score_"
   ]
  },
  {
   "cell_type": "code",
   "execution_count": null,
   "metadata": {
    "collapsed": true
   },
   "outputs": [],
   "source": [
    "param_test4 = {'max_features':list(range(1,15,1))}\n",
    "gsearch4 = GridSearchCV(estimator = RandomForestClassifier(n_estimators= 180,\\\n",
    "                                    max_features='sqrt' ,min_samples_leaf=1, min_samples_split=2,oob_score=True, random_state=10),\n",
    "   param_grid = param_test4, scoring='roc_auc',iid=False, cv=5)\n",
    "gsearch4.fit(x_all,y_all)\n",
    "gsearch4.grid_scores_, gsearch4.best_params_, gsearch4.best_score_"
   ]
  },
  {
   "cell_type": "code",
   "execution_count": 7,
   "metadata": {
    "collapsed": false
   },
   "outputs": [
    {
     "name": "stdout",
     "output_type": "stream",
     "text": [
      "0.843434343434\n"
     ]
    }
   ],
   "source": [
    "#测试oob_score_\n",
    "rf1 = RandomForestClassifier(n_estimators= 100,\\\n",
    "                             max_features='sqrt' ,min_samples_leaf=1, min_samples_split=2,\\\n",
    "                             oob_score=True, random_state=10)\n",
    "rf1.fit(x_all,y_all)\n",
    "print (rf1.oob_score_)"
   ]
  },
  {
   "cell_type": "code",
   "execution_count": 8,
   "metadata": {
    "collapsed": false
   },
   "outputs": [
    {
     "name": "stdout",
     "output_type": "stream",
     "text": [
      "测试集准确率：0.984848484848\n"
     ]
    }
   ],
   "source": [
    "#test\n",
    "# np.argmax(rf1.predict(x_test),axis=1)\n",
    "# np.mat(testSet_toNum_y)\n",
    "# np.argmax(y_test,axis=1,).reshape( (1,len(np.argmax(y_test,axis=1,))) )\n",
    "\n",
    "\n",
    "corr_pre_test = np.equal(np.argmax(rf1.predict(x_all),axis=1),\\\n",
    "                    np.argmax(y_all,axis=1,).reshape( (1,len(np.argmax(y_all,axis=1,))) )\\\n",
    "                   )\n",
    "acc_test = np.mean(corr_pre_test)\n",
    "\n",
    "print('测试集准确率：%s'%acc_test)"
   ]
  },
  {
   "cell_type": "code",
   "execution_count": 9,
   "metadata": {
    "collapsed": false
   },
   "outputs": [
    {
     "name": "stdout",
     "output_type": "stream",
     "text": [
      " 1) 交通信号方式（控制）                     0.108561\n",
      " 2) 路侧防护设施类型                       0.095822\n",
      " 3) 中央隔离设施                         0.091041\n",
      " 4) 能见度                            0.080579\n",
      " 5) 道路物理隔离                         0.076298\n",
      " 6) 道路类型                           0.070012\n",
      " 7) 路面附着系数                         0.064648\n",
      " 8) 路口路段类型                         0.052682\n",
      " 9) 是否节假日                          0.049305\n",
      "10) 照明条件                           0.043221\n",
      "11) 是否白天                           0.037759\n",
      "12) 路面结构                           0.037153\n",
      "13) 在道路横断面位置                       0.030706\n",
      "14) 路表情况                           0.028962\n",
      "15) 天气                             0.028636\n",
      "16) 公路行政等级                         0.026475\n",
      "17) 交通标志标线完善                       0.022573\n",
      "18) 路面状况                           0.020812\n",
      "19) 地形                             0.013895\n",
      "20) 道路线型                           0.010466\n",
      "21) 事故多发点段                         0.003651\n",
      "22) 道路安全属性                         0.002687\n",
      "23) 长下坡路段                          0.001898\n",
      "24) 道路安全隐患督办等级                     0.001138\n",
      "25) 其他交通安全设施不全                     0.001020\n"
     ]
    },
    {
     "data": {
      "image/png": "[encoded data removed]",
      "text/plain": [
       "<matplotlib.figure.Figure at 0x1b28fb975c0>"
      ]
     },
     "metadata": {},
     "output_type": "display_data"
    }
   ],
   "source": [
    "importances = rf1.feature_importances_\n",
    "indice = np.argsort(importances)[::-1]#按照索引对应值的大小对索引排序\n",
    "for i in range(x_train.shape[1]):\n",
    "    print('%2d) %-*s %f'%(i+1, 30, train_features[indice[i]], importances[indice[i]]))\n",
    "    \n",
    "plt.title('Feature Importance')\n",
    "plt.bar(range(x_train.shape[1]),\n",
    "       importances[indice],\n",
    "       color='lightblue',\n",
    "       align='center')\n",
    "plt.xticks(range(x_train.shape[1]),\n",
    "          train_features[indice],\n",
    "           rotation=90)\n",
    "plt.xlim([-1,x_train.shape[1]])\n",
    "plt.tight_layout()\n",
    "plt.show()"
   ]
  },
  {
   "cell_type": "code",
   "execution_count": null,
   "metadata": {
    "collapsed": true
   },
   "outputs": [],
   "source": []
  }
 ],
 "metadata": {
  "kernelspec": {
   "display_name": "Python 3",
   "language": "python",
   "name": "python3"
  },
  "language_info": {
   "codemirror_mode": {
    "name": "ipython",
    "version": 3
   },
   "file_extension": ".py",
   "mimetype": "text/x-python",
   "name": "python",
   "nbconvert_exporter": "python",
   "pygments_lexer": "ipython3",
   "version": "3.6.0"
  }
 },
 "nbformat": 4,
 "nbformat_minor": 2
}
