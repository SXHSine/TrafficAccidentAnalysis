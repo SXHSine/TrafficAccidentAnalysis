{
 "cells": [
  {
   "cell_type": "code",
   "execution_count": 21,
   "metadata": {
    "collapsed": true
   },
   "outputs": [],
   "source": [
    "import pandas as pd\n",
    "import numpy as np\n",
    "from pandas.tseries.holiday import USFederalHolidayCalendar as calendar\n",
    "\n",
    "%matplotlib inline\n",
    "import numpy as np\n",
    "import matplotlib.pyplot as plt\n",
    "import seaborn as sns\n",
    "import pandas as pd\n",
    "from pandas.tools.plotting import parallel_coordinates\n",
    "\n",
    "import matplotlib as mpl\n",
    "from matplotlib.font_manager import FontProperties\n",
    "import matplotlib.pyplot as plt\n",
    "import seaborn as sns\n",
    "sns.set_style(\"darkgrid\",{\"font.sans-serif\":['simhei', 'Arial']})\n",
    "\n",
    "from scipy import stats\n",
    "import math\n",
    "\n",
    "from sklearn import preprocessing\n",
    "\n",
    "import xgboost as xgb\n",
    "from xgboost.sklearn import XGBClassifier\n",
    "from sklearn import cross_validation, metrics   #Additional scklearn functions\n",
    "from sklearn.grid_search import GridSearchCV "
   ]
  },
  {
   "cell_type": "markdown",
   "metadata": {},
   "source": [
    "# 随机森林"
   ]
  },
  {
   "cell_type": "code",
   "execution_count": 6,
   "metadata": {
    "collapsed": false
   },
   "outputs": [],
   "source": [
    "from sklearn.ensemble import RandomForestClassifier\n",
    "from sklearn import cross_validation, metrics\n",
    "from sklearn.grid_search import GridSearchCV\n"
   ]
  },
  {
   "cell_type": "code",
   "execution_count": 7,
   "metadata": {
    "collapsed": false
   },
   "outputs": [
    {
     "name": "stderr",
     "output_type": "stream",
     "text": [
      "D:\\ProgramFiles\\Anaconda3\\lib\\site-packages\\ipykernel\\__main__.py:16: SettingWithCopyWarning: \n",
      "A value is trying to be set on a copy of a slice from a DataFrame\n",
      "\n",
      "See the caveats in the documentation: http://pandas.pydata.org/pandas-docs/stable/indexing.html#indexing-view-versus-copy\n"
     ]
    }
   ],
   "source": [
    "data_attach_notnull = pd.read_excel('dataOtherFactors__attach_notnul_17.11.11.xlsx')\n",
    "data_attach_notnull.drop(['所辖乡镇','星期','涉外事故','现场','行政区划','现场','公里数'],axis=1,inplace=True)\n",
    "\n",
    "#生成训练集和测试集\n",
    "\n",
    "\n",
    "data_attach_notnull['index'] = range(len(data_attach_notnull))\n",
    "data_attach_notnull_test = data_attach_notnull.sample(frac=0.2,replace=False)\n",
    "#获取训练集\n",
    "index = ~data_attach_notnull.index.isin(data_attach_notnull_test['index'])\n",
    "data_attach_notnull_train = data_attach_notnull[index]\n",
    "\n",
    "\n",
    "#转换为数字\n",
    "data_attach_notnull.drop(['index'],axis=1,inplace=True)\n",
    "data_attach_notnull_train.drop(['index'],axis=1,inplace=True)\n",
    "data_attach_notnull_test.drop(['index'],axis=1,inplace=True)\n",
    "columnsToNum = list(data_attach_notnull_train.columns)\n",
    "\n",
    "set_toNum = pd.DataFrame()\n",
    "for i in columnsToNum:\n",
    "    set_toNum[i] = preprocessing.LabelEncoder().fit_transform(data_attach_notnull[i])\n",
    "\n",
    "\n",
    "trainSet_toNum = pd.DataFrame()\n",
    "for i in columnsToNum:\n",
    "    trainSet_toNum[i] = preprocessing.LabelEncoder().fit_transform(data_attach_notnull_train[i])\n",
    "\n",
    "# columnsToNum = list(data_attach_notnull_test.columns)\n",
    "testSet_toNum = pd.DataFrame()\n",
    "for i in columnsToNum:\n",
    "    testSet_toNum[i] = preprocessing.LabelEncoder().fit_transform(data_attach_notnull_test[i])\n",
    "\n",
    "del data_attach_notnull_train,data_attach_notnull_test\n",
    "\n",
    "#统一训练集、测试集格式\n",
    "train_features = trainSet_toNum.drop(['事故类型'],axis=1).columns\n",
    "\n",
    "x_all =np.array(set_toNum.drop(['事故类型'],axis=1)) \n",
    "y_all = np.array(set_toNum['事故类型'])\n",
    "y = np.zeros((len(y_all),len(set_toNum.groupby('事故类型')) ))\n",
    "for i in range(len(y_all)):\n",
    "    y[i][y_all[i]] = 1\n",
    "y_all = np.mat(y)\n",
    "x_all = np.mat(x_all)\n",
    "# y_all = np.mat(y_all)\n",
    "\n",
    "x_train =np.array(trainSet_toNum.drop(['事故类型'],axis=1)) \n",
    "y_train = np.array(trainSet_toNum['事故类型'])\n",
    "y = np.zeros((len(y_train),len(trainSet_toNum.groupby('事故类型')) ))\n",
    "for i in range(len(y_train)):\n",
    "    y[i][y_train[i]] = 1\n",
    "y_train = np.mat(y)\n",
    "x_train = np.mat(x_train)\n",
    "# y_train = np.mat(y_train)\n",
    "\n",
    "\n",
    "x_test =np.array(testSet_toNum.drop(['事故类型'],axis=1)) \n",
    "y_test = np.array(testSet_toNum['事故类型'])\n",
    "y = np.zeros((len(y_test),len(testSet_toNum.groupby('事故类型')) ))\n",
    "for i in range(len(y_test)):\n",
    "    y[i][y_test[i]] = 1\n",
    "y_test = np.mat(y)\n",
    "x_test = np.mat(x_test)\n",
    "# y_test = np.mat(y_test)\n",
    "\n",
    "\n",
    "del y,trainSet_toNum,testSet_toNum"
   ]
  },
  {
   "cell_type": "code",
   "execution_count": 9,
   "metadata": {
    "collapsed": false
   },
   "outputs": [
    {
     "name": "stdout",
     "output_type": "stream",
     "text": [
      "0.79797979798\n"
     ]
    },
    {
     "name": "stderr",
     "output_type": "stream",
     "text": [
      "D:\\ProgramFiles\\Anaconda3\\lib\\site-packages\\sklearn\\ensemble\\forest.py:439: UserWarning: Some inputs do not have OOB scores. This probably means too few trees were used to compute any reliable oob estimates.\n",
      "  warn(\"Some inputs do not have OOB scores. \"\n",
      "D:\\ProgramFiles\\Anaconda3\\lib\\site-packages\\sklearn\\ensemble\\forest.py:444: RuntimeWarning: invalid value encountered in true_divide\n",
      "  predictions[k].sum(axis=1)[:, np.newaxis])\n"
     ]
    }
   ],
   "source": [
    "forest = RandomForestClassifier(max_features='sqrt',random_state=10,oob_score=True)\n",
    "forest.fit(x_all,y_all)\n",
    "print(forest.oob_score_)"
   ]
  },
  {
   "cell_type": "code",
   "execution_count": 11,
   "metadata": {
    "collapsed": false
   },
   "outputs": [
    {
     "name": "stdout",
     "output_type": "stream",
     "text": [
      " 1) 交通信号方式（控制）                     0.125892\n",
      " 2) 路侧防护设施类型                       0.102299\n",
      " 3) 道路物理隔离                         0.095057\n",
      " 4) 道路类型                           0.082697\n",
      " 5) 路面附着系数                         0.081897\n",
      " 6) 能见度                            0.070655\n",
      " 7) 是否节假日                          0.054460\n",
      " 8) 照明条件                           0.050941\n",
      " 9) 路面结构                           0.044041\n",
      "10) 路口路段类型                         0.042547\n",
      "11) 中央隔离设施                         0.040577\n",
      "12) 路表情况                           0.032869\n",
      "13) 是否白天                           0.029379\n",
      "14) 在道路横断面位置                       0.026795\n",
      "15) 公路行政等级                         0.024954\n",
      "16) 天气                             0.023048\n",
      "17) 交通标志标线完善                       0.020723\n",
      "18) 地形                             0.020702\n",
      "19) 道路线型                           0.012109\n",
      "20) 路面状况                           0.008822\n",
      "21) 长下坡路段                          0.003757\n",
      "22) 道路安全隐患督办等级                     0.002328\n",
      "23) 事故多发点段                         0.002061\n",
      "24) 道路安全属性                         0.001390\n",
      "25) 其他交通安全设施不全                     0.000000\n"
     ]
    },
    {
     "data": {
      "image/png": "[encoded data removed]",
      "text/plain": [
       "<matplotlib.figure.Figure at 0x13272a9ee48>"
      ]
     },
     "metadata": {},
     "output_type": "display_data"
    }
   ],
   "source": [
    "importances = forest.feature_importances_\n",
    "indice = np.argsort(importances)[::-1]#按照索引对应值的大小对索引排序\n",
    "for i in range(x_train.shape[1]):\n",
    "    print('%2d) %-*s %f'%(i+1, 30, train_features[indice[i]], importances[indice[i]]))\n",
    "    \n",
    "plt.title('Feature Importance')\n",
    "plt.bar(range(x_train.shape[1]),\n",
    "       importances[indice],\n",
    "       color='lightblue',\n",
    "       align='center')\n",
    "plt.xticks(range(x_train.shape[1]),\n",
    "          train_features[indice],\n",
    "           rotation=90)\n",
    "plt.xlim([-1,x_train.shape[1]])\n",
    "plt.tight_layout()\n",
    "plt.show()"
   ]
  },
  {
   "cell_type": "code",
   "execution_count": 12,
   "metadata": {
    "collapsed": false
   },
   "outputs": [
    {
     "name": "stdout",
     "output_type": "stream",
     "text": [
      "196169\n",
      "3052\n"
     ]
    },
    {
     "name": "stderr",
     "output_type": "stream",
     "text": [
      "D:\\ProgramFiles\\Anaconda3\\lib\\site-packages\\ipykernel\\__main__.py:7: SettingWithCopyWarning: \n",
      "A value is trying to be set on a copy of a slice from a DataFrame\n",
      "\n",
      "See the caveats in the documentation: http://pandas.pydata.org/pandas-docs/stable/indexing.html#indexing-view-versus-copy\n",
      "D:\\ProgramFiles\\Anaconda3\\lib\\site-packages\\pandas\\core\\frame.py:2842: SettingWithCopyWarning: \n",
      "A value is trying to be set on a copy of a slice from a DataFrame\n",
      "\n",
      "See the caveats in the documentation: http://pandas.pydata.org/pandas-docs/stable/indexing.html#indexing-view-versus-copy\n",
      "  downcast=downcast, **kwargs)\n"
     ]
    },
    {
     "name": "stdout",
     "output_type": "stream",
     "text": [
      "中央隔离设施: 0.240349599417  是否节假日: 0.0  是否白天: 0.0  是否双道: 0.28987618354  \n",
      "路宽: 0.28987618354  事故地点: 0.0  事故多发点段: 0.0  事故类型: 0.0  \n",
      "交通信号方式（控制）: 0.0  交通标志标线完善: 0.0  公路行政等级: 0.402039329934  公里数: 0.0  \n",
      "其他交通安全设施不全: 0.0  在道路横断面位置: 0.0  地形: 0.0  天气: 0.0  \n",
      "所辖乡镇: 0.0  星期: 0.0  是否运载危险物品: 0.0  照明条件: 0.0  \n",
      "能见度: 0.0  行政区划: 0.0  路侧防护设施类型: 0.0  路口路段类型: 0.0  \n",
      "路号: 0.0  路表情况: 0.0  路面状况: 0.0  路面结构: 0.0  \n",
      "道路安全属性: 0.0  道路安全隐患督办等级: 0.0  道路物理隔离: 0.0  道路类型: 0.0  \n",
      "道路线型: 0.0  长下坡路段: 0.0  774\n"
     ]
    }
   ],
   "source": [
    "data = pd.read_excel('data_accidentForPapaer_17.11.13.xlsx')\n",
    "data = data[data['路面附着系数'].isnull()]\n",
    "print(len(data))\n",
    "data_roadGrade_withoutJianyi = data[~data['事故类型'].isin(['简易程序事故'])]\n",
    "print(len(data_roadGrade_withoutJianyi))\n",
    "\n",
    "data_roadGrade_withoutJianyi.drop(['路面附着系数'],axis=1,inplace=True)\n",
    "data_roadGrade_withoutJianyi \\\n",
    "                        = data_roadGrade_withoutJianyi[data_roadGrade_withoutJianyi['是否节假日'].notnull()\\\n",
    "                        &data_roadGrade_withoutJianyi['事故多发点段'].notnull()\\\n",
    "                        &data_roadGrade_withoutJianyi['交通信号方式（控制）'].notnull()\\\n",
    "                        &data_roadGrade_withoutJianyi['公里数'].notnull()\\\n",
    "                        &data_roadGrade_withoutJianyi['其他交通安全设施不全'].notnull()\\\n",
    "                        &data_roadGrade_withoutJianyi['在道路横断面位置'].notnull()\\\n",
    "                        &data_roadGrade_withoutJianyi['地形'].notnull()\\\n",
    "                        &data_roadGrade_withoutJianyi['所辖乡镇'].notnull()\\\n",
    "                        &data_roadGrade_withoutJianyi['照明条件'].notnull()\\\n",
    "                        &data_roadGrade_withoutJianyi['能见度'].notnull()\\\n",
    "                        &data_roadGrade_withoutJianyi['路侧防护设施类型'].notnull()\\\n",
    "                        &data_roadGrade_withoutJianyi['路口路段类型'].notnull()\\\n",
    "                        &data_roadGrade_withoutJianyi['路表情况'].notnull()\\\n",
    "                        &data_roadGrade_withoutJianyi['路面状况'].notnull()\\\n",
    "                        &data_roadGrade_withoutJianyi['路面结构'].notnull()\\\n",
    "                        &data_roadGrade_withoutJianyi['道路安全属性'].notnull()\\\n",
    "                        &data_roadGrade_withoutJianyi['道路安全隐患督办等级'].notnull()\\\n",
    "                        &data_roadGrade_withoutJianyi['道路物理隔离'].notnull()\\\n",
    "                        &data_roadGrade_withoutJianyi['道路类型'].notnull()\\\n",
    "                        &data_roadGrade_withoutJianyi['道路线型'].notnull()]\n",
    "\n",
    "#整合路宽\n",
    "data_way = data_roadGrade_withoutJianyi[['单向路宽','双向路宽']]\n",
    "data_way.columns=['oneWay','twoWay']\n",
    "\n",
    "#填充空值为-1\n",
    "data_way.fillna(-1,inplace=True)\n",
    "\n",
    "def isTwowayRoad(row,oneWay,twoWay):\n",
    "    if row[oneWay] == -1 and row[twoWay] == -1:\n",
    "        return np.nan\n",
    "    elif row[oneWay] == -1:\n",
    "        return '是'\n",
    "    elif  row[twoWay] == -1:\n",
    "        return  '否'\n",
    "\n",
    "def getRoadWidth(row,oneWay,twoWay):\n",
    "    if row[oneWay] == -1 and row[twoWay] == -1:\n",
    "        return np.nan\n",
    "    elif row[oneWay] == -1:\n",
    "        return row[twoWay]\n",
    "    elif  row[twoWay] == -1:\n",
    "        return  row[oneWay]\n",
    "\n",
    "data_isTwoWay = pd.DataFrame(data_way.apply(isTwowayRoad, axis=1, oneWay='oneWay', twoWay='twoWay'),\\\n",
    "                             columns=['isTwoWay'])\n",
    "data_roadWidth = pd.DataFrame(data_way.apply(getRoadWidth, axis=1, oneWay='oneWay', twoWay='twoWay'),\\\n",
    "                             columns=['roadWidth'])\n",
    "\n",
    "data_roadGrade_withoutJianyi.insert(value=data_isTwoWay,column='是否双道',loc=3)\n",
    "data_roadGrade_withoutJianyi.insert(value=data_roadWidth,column='路宽',loc=4)\n",
    "\n",
    "# pd.DataFrame(data_attach_notnull[(data_attach_notnull['路宽']==-1)])[['是否双道','路宽','单向路宽','双向路宽']]\n",
    "data_roadGrade_withoutJianyi.drop(['单向路宽','双向路宽'],axis=1,inplace=True)\n",
    "del data_way,data_isTwoWay,data_roadWidth\n",
    "       \n",
    "data_roadGrade_withoutJianyi = data_roadGrade_withoutJianyi[data_roadGrade_withoutJianyi['是否双道'].notnull()\\\n",
    "                                                        &data_roadGrade_withoutJianyi['中央隔离设施'].notnull()]\n",
    "data_roadGrade_withoutJianyi.drop(['公路行政等级'],axis=1,inplace=True)\n",
    "\n",
    "nan_columns = {}\n",
    "length_data = len(data_roadGrade_withoutJianyi)\n",
    "for i in range(len(data_roadGrade_withoutJianyi.columns)): \n",
    "    odds = sum(data_roadGrade_withoutJianyi[data_roadGrade_withoutJianyi.columns[i]].isnull())/length_data\n",
    "    nan_columns[data_roadGrade_withoutJianyi.columns[i]] = odds\n",
    "\n",
    "j = 0\n",
    "for i in nan_columns:\n",
    "    print(i+': '+str(nan_columns[i]),end='  ')\n",
    "    j+=1\n",
    "    if j==4:\n",
    "        j=0\n",
    "        print()\n",
    "print('数据长度：%s'%len(data_roadGrade_withoutJianyi))"
   ]
  },
  {
   "cell_type": "code",
   "execution_count": 17,
   "metadata": {
    "collapsed": true
   },
   "outputs": [],
   "source": [
    "data_roadGrade_withoutJianyi.loc[data_roadGrade_withoutJianyi['交通信号方式（控制）']==345,'交通信号方式（控制）']='方式1'\n",
    "data_roadGrade_withoutJianyi.loc[data_roadGrade_withoutJianyi['交通信号方式（控制）']==45,'交通信号方式（控制）']='方式2'\n",
    "data_roadGrade_withoutJianyi.loc[data_roadGrade_withoutJianyi['交通信号方式（控制）']==456,'交通信号方式（控制）']='方式3'\n",
    "data_roadGrade_withoutJianyi.loc[data_roadGrade_withoutJianyi['交通信号方式（控制）']==3456,'交通信号方式（控制）']='方式4'\n",
    "data_roadGrade_withoutJianyi.loc[data_roadGrade_withoutJianyi['交通信号方式（控制）']==16,'交通信号方式（控制）']='方式5'\n",
    "data_roadGrade_withoutJianyi.loc[data_roadGrade_withoutJianyi['交通信号方式（控制）']==34,'交通信号方式（控制）']='方式6'\n",
    "data_roadGrade_withoutJianyi.loc[data_roadGrade_withoutJianyi['交通信号方式（控制）']==56,'交通信号方式（控制）']='方式7'\n",
    "data_roadGrade_withoutJianyi.loc[data_roadGrade_withoutJianyi['交通信号方式（控制）']==356,'交通信号方式（控制）']='方式8'"
   ]
  },
  {
   "cell_type": "code",
   "execution_count": 18,
   "metadata": {
    "collapsed": false
   },
   "outputs": [],
   "source": [
    "data_roadGrade_withoutJianyi_toNum = pd.DataFrame()\n",
    "for i in data_roadGrade_withoutJianyi.columns:\n",
    "#     print(i)\n",
    "    data_roadGrade_withoutJianyi_toNum[i] = preprocessing.LabelEncoder().fit_transform(data_roadGrade_withoutJianyi[i])"
   ]
  },
  {
   "cell_type": "code",
   "execution_count": 19,
   "metadata": {
    "collapsed": false
   },
   "outputs": [
    {
     "name": "stdout",
     "output_type": "stream",
     "text": [
      "0.679586563307\n"
     ]
    },
    {
     "name": "stderr",
     "output_type": "stream",
     "text": [
      "D:\\ProgramFiles\\Anaconda3\\lib\\site-packages\\sklearn\\ensemble\\forest.py:439: UserWarning: Some inputs do not have OOB scores. This probably means too few trees were used to compute any reliable oob estimates.\n",
      "  warn(\"Some inputs do not have OOB scores. \"\n",
      "D:\\ProgramFiles\\Anaconda3\\lib\\site-packages\\sklearn\\ensemble\\forest.py:444: RuntimeWarning: invalid value encountered in true_divide\n",
      "  predictions[k].sum(axis=1)[:, np.newaxis])\n"
     ]
    }
   ],
   "source": [
    "forest = RandomForestClassifier(max_features='sqrt',random_state=10,oob_score=True)\n",
    "forest.fit(data_roadGrade_withoutJianyi_toNum[[x for x in data_roadGrade_withoutJianyi_toNum.columns if x not in ['事故类型']]],\\\n",
    "           data_roadGrade_withoutJianyi_toNum['事故类型'])\n",
    "print(forest.oob_score_)"
   ]
  },
  {
   "cell_type": "code",
   "execution_count": 33,
   "metadata": {
    "collapsed": false
   },
   "outputs": [
    {
     "data": {
      "text/plain": [
       "([mean: 0.72003, std: 0.16534, params: {'min_samples_split': 2},\n",
       "  mean: 0.73159, std: 0.15650, params: {'min_samples_split': 4},\n",
       "  mean: 0.73034, std: 0.12167, params: {'min_samples_split': 6},\n",
       "  mean: 0.72641, std: 0.13779, params: {'min_samples_split': 8},\n",
       "  mean: 0.70445, std: 0.11712, params: {'min_samples_split': 10},\n",
       "  mean: 0.68630, std: 0.13078, params: {'min_samples_split': 12},\n",
       "  mean: 0.66823, std: 0.12149, params: {'min_samples_split': 14},\n",
       "  mean: 0.68620, std: 0.10483, params: {'min_samples_split': 16},\n",
       "  mean: 0.67847, std: 0.09952, params: {'min_samples_split': 18},\n",
       "  mean: 0.65646, std: 0.07975, params: {'min_samples_split': 20},\n",
       "  mean: 0.66167, std: 0.08038, params: {'min_samples_split': 22},\n",
       "  mean: 0.66161, std: 0.07541, params: {'min_samples_split': 24},\n",
       "  mean: 0.65514, std: 0.08168, params: {'min_samples_split': 26},\n",
       "  mean: 0.64740, std: 0.08454, params: {'min_samples_split': 28}],\n",
       " {'min_samples_split': 4},\n",
       " 0.7315850815850815)"
      ]
     },
     "execution_count": 33,
     "metadata": {},
     "output_type": "execute_result"
    }
   ],
   "source": [
    "#n_estimators=7，\n",
    "#'max_depth':list(range(2,18,1))\n",
    "param_test2 = {'min_samples_split':list(range(2,30,2))}#, \n",
    "forest = GridSearchCV(estimator=RandomForestClassifier(n_estimators=30,\\\n",
    "                                                    max_features='sqrt',oob_score=True,\\\n",
    "                                                    random_state=10),\\\n",
    "                     param_grid = param_test2,scoring='accuracy',cv=5,iid=False)\n",
    "forest.fit(data_roadGrade_withoutJianyi_toNum[[x for x in data_roadGrade_withoutJianyi_toNum.columns if x not in ['事故类型']]],\\\n",
    "           data_roadGrade_withoutJianyi_toNum['事故类型'])\n",
    "forest.grid_scores_,forest.best_params_,forest.best_score_\n",
    "#max_depth,min_samples_split使用默认值"
   ]
  },
  {
   "cell_type": "code",
   "execution_count": 36,
   "metadata": {
    "collapsed": false
   },
   "outputs": [
    {
     "name": "stdout",
     "output_type": "stream",
     "text": [
      "测试集准确率：0.972868217054\n"
     ]
    },
    {
     "name": "stderr",
     "output_type": "stream",
     "text": [
      "D:\\ProgramFiles\\Anaconda3\\lib\\site-packages\\sklearn\\ensemble\\forest.py:439: UserWarning: Some inputs do not have OOB scores. This probably means too few trees were used to compute any reliable oob estimates.\n",
      "  warn(\"Some inputs do not have OOB scores. \"\n",
      "D:\\ProgramFiles\\Anaconda3\\lib\\site-packages\\sklearn\\ensemble\\forest.py:444: RuntimeWarning: invalid value encountered in true_divide\n",
      "  predictions[k].sum(axis=1)[:, np.newaxis])\n"
     ]
    }
   ],
   "source": [
    "# 在测试集上准确率\n",
    "forest = RandomForestClassifier(max_features='sqrt',random_state=10,min_samples_split=4,oob_score=True)\n",
    "forest.fit(data_roadGrade_withoutJianyi_toNum[[x for x in data_roadGrade_withoutJianyi_toNum.columns if x not in ['事故类型']]],\\\n",
    "           data_roadGrade_withoutJianyi_toNum['事故类型'])\n",
    "corr_pre_test = np.equal(\\\n",
    "        forest.predict(data_roadGrade_withoutJianyi_toNum[[x for x in data_roadGrade_withoutJianyi_toNum.columns if x not in ['事故类型']]]),\\\n",
    "                    data_roadGrade_withoutJianyi_toNum['事故类型'] )\n",
    "acc_test = np.mean(corr_pre_test)\n",
    "\n",
    "print('测试集准确率：%s'%acc_test)"
   ]
  },
  {
   "cell_type": "markdown",
   "metadata": {},
   "source": [
    "# XGBoost"
   ]
  },
  {
   "cell_type": "code",
   "execution_count": 24,
   "metadata": {
    "collapsed": false
   },
   "outputs": [
    {
     "name": "stdout",
     "output_type": "stream",
     "text": [
      "\n",
      "Model Report\n",
      "Accuracy on trainSet : 0.9742\n",
      "Accuracy on cv set : 0.7169\n",
      "test-auc-mean and test-auc-std and train-auc-mean and train-auc-std:\n",
      "test-merror-mean     0.283117\n",
      "test-merror-std      0.021181\n",
      "train-merror-mean    0.020455\n",
      "train-merror-std     0.002830\n",
      "Name: 99, dtype: float64\n"
     ]
    },
    {
     "data": {
      "image/png": "[encoded data removed]",
      "text/plain": [
       "<matplotlib.figure.Figure at 0x13274fbf1d0>"
      ]
     },
     "metadata": {},
     "output_type": "display_data"
    }
   ],
   "source": [
    "def modelfit(alg, dtrain, dLabel,useTrainCV=True, cv_folds=5, early_stopping_rounds=50): \n",
    "    global feat_imp\n",
    "    if useTrainCV:\n",
    "        xgb_param = alg.get_xgb_params()\n",
    "        xgb_param['num_class'] = 3\n",
    "        xgtrain = xgb.DMatrix(dtrain.values, label=dLabel.values)\n",
    "        cvresult = xgb.cv(xgb_param, xgtrain, num_boost_round=alg.get_params()['n_estimators'], nfold=cv_folds,\n",
    "            metrics='merror', early_stopping_rounds=early_stopping_rounds)#, show_progress=False，多分类metrics使用merror\n",
    "        alg.set_params(n_estimators=cvresult.shape[0])\n",
    "    \n",
    "    #Fit the algorithm on the data\n",
    "    alg.fit(dtrain,dLabel,eval_metric='merror')    \n",
    "    #Predict training set:\n",
    "    dtrain_predictions = alg.predict(dtrain)\n",
    "    dtrain_predprob = alg.predict_proba(dtrain)[:,1]\n",
    "        \n",
    "\n",
    "\n",
    "\n",
    "    print (\"\\nModel Report\")\n",
    "    print (\"Accuracy on trainSet : %.4g\" % metrics.accuracy_score(dLabel.values, dtrain_predictions))\n",
    "#     print (\"AUC Score (Train): %f\" % metrics.roc_auc_score(dtrain[target], dtrain_predprob))\n",
    "\n",
    "    cvresult = pd.DataFrame(cvresult)\n",
    "    print(\"Accuracy on cv set : %.4g\" % (1-cvresult.iloc[-1][0]))\n",
    "    print('test-auc-mean and test-auc-std and train-auc-mean and train-auc-std:')\n",
    "    print(cvresult.iloc[-1][:])#\n",
    "                    \n",
    "    feat_imp = pd.Series(alg.booster().get_fscore()).sort_values(ascending=False)\n",
    "    feat_imp.plot(kind='bar', title='Feature Importances')\n",
    "    plt.ylabel('Feature Importance Score')\n",
    "\n",
    "    return alg\n",
    "    \n",
    "xgb1 = XGBClassifier(\n",
    "    learning_rate =0.1,\n",
    "    n_estimators=100,\n",
    "    max_depth=5,\n",
    "    min_child_weight=3,\n",
    "    gamma=0,\n",
    "    colsample_bytree=0.75,subsample=0.65,reg_alpha=0.05,\n",
    "    objective= 'multi:softmax',\n",
    "    nthread=4,\n",
    "    scale_pos_weight=1,\n",
    "    seed=27)\n",
    "alg = modelfit(xgb1, data_roadGrade_withoutJianyi_toNum[[x for x in data_roadGrade_withoutJianyi_toNum.columns if x not in ['事故类型']]],\\\n",
    "           data_roadGrade_withoutJianyi_toNum['事故类型'])"
   ]
  },
  {
   "cell_type": "code",
   "execution_count": null,
   "metadata": {
    "collapsed": true
   },
   "outputs": [],
   "source": []
  }
 ],
 "metadata": {
  "kernelspec": {
   "display_name": "Python 3",
   "language": "python",
   "name": "python3"
  },
  "language_info": {
   "codemirror_mode": {
    "name": "ipython",
    "version": 3
   },
   "file_extension": ".py",
   "mimetype": "text/x-python",
   "name": "python",
   "nbconvert_exporter": "python",
   "pygments_lexer": "ipython3",
   "version": "3.6.0"
  }
 },
 "nbformat": 4,
 "nbformat_minor": 2
}
