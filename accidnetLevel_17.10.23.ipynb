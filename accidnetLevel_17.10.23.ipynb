{
 "cells": [
  {
   "cell_type": "code",
   "execution_count": 1,
   "metadata": {
    "collapsed": true
   },
   "outputs": [],
   "source": [
    "import pandas as pd\n",
    "import numpy as np\n",
    "from pandas.tseries.holiday import USFederalHolidayCalendar as calendar\n",
    "\n",
    "%matplotlib inline\n",
    "import numpy as np\n",
    "import matplotlib.pyplot as plt\n",
    "import seaborn as sns\n",
    "import pandas as pd\n",
    "from pandas.tools.plotting import parallel_coordinates\n",
    "\n",
    "import matplotlib as mpl\n",
    "from matplotlib.font_manager import FontProperties\n",
    "import matplotlib.pyplot as plt\n",
    "import seaborn as sns\n",
    "sns.set_style(\"darkgrid\",{\"font.sans-serif\":['simhei', 'Arial']})\n",
    "\n",
    "from scipy import stats\n",
    "import math"
   ]
  },
  {
   "cell_type": "code",
   "execution_count": 2,
   "metadata": {
    "collapsed": true
   },
   "outputs": [],
   "source": [
    "xls = pd.ExcelFile('2014年基本信息表.xls')\n",
    "data_upperHalf = xls.parse('基本信息表2014上半年')\n",
    "data_lowerHalf = xls.parse('基本信息表2014下半年')\n",
    "data = pd.DataFrame()\n",
    "data = pd.concat([data_upperHalf,data_lowerHalf],ignore_index=True)\n",
    "\n",
    "xls = pd.ExcelFile('2015年基本信息表.xls')\n",
    "data_upperHalf = xls.parse('基本信息表2015年上半年')\n",
    "data_lowerHalf = xls.parse('基本信息表2015年上半年')\n",
    "data = pd.concat([data,data_upperHalf,data_lowerHalf],ignore_index=True)\n",
    "\n",
    "xls = pd.ExcelFile('2016年基本信息表.xls')\n",
    "data_upperHalf = xls.parse('2016年上半年基本信息表')\n",
    "data_lowerHalf = xls.parse('2016年下半年基本信息表')\n",
    "data = pd.concat([data,data_upperHalf,data_lowerHalf],ignore_index=True)\n",
    "xls.close()\n",
    "\n",
    "del data_upperHalf\n",
    "del data_lowerHalf"
   ]
  },
  {
   "cell_type": "markdown",
   "metadata": {},
   "source": [
    "#### 加入天气特征 "
   ]
  },
  {
   "cell_type": "code",
   "execution_count": 3,
   "metadata": {
    "collapsed": true
   },
   "outputs": [],
   "source": [
    "data_accident = data[['事故编号','天气','能见度','公安部事故编号','所属中队','文书状态','所辖乡镇','现场','行政区划','调解人1','调解人2',\\\n",
    "                         '受伤人数','失踪人数','当事人总数','抢救死亡人数Q','损坏机动车数','损坏非机动车数','机动车数量','死亡人数',\\\n",
    "                      '直接财产损失','米数','轻伤人数','重伤人数','非机动车数量','行人数量',\\\n",
    "                          '事故发生时间','星期','事故地点','路号','路名',\\\n",
    "                          '事故形态','事故类型','单车事故','是否简易程序','路外事故类型','车辆间事故.1','逃逸事故侦破',\\\n",
    "                          '事故初查原因','事故初查原因分类','事故认定原因','事故认定原因分类小类']]\n",
    "del data"
   ]
  },
  {
   "cell_type": "code",
   "execution_count": null,
   "metadata": {
    "collapsed": true
   },
   "outputs": [],
   "source": [
    "# data_accident = data_accident.drop(['公安部事故编号','所属中队','文书状态','调解人1','调解人2',],axis=1)\n",
    "\n",
    "data_accident = data_accident[data_accident.事故形态.isin(['碰撞运动车辆','其他车辆事故',\\\n",
    "                                                '刮撞行人','撞固定物',\\\n",
    "                                                '撞非固定物','碾压行人',\\\n",
    "                                                '侧翻','碰撞静止车辆',\\\n",
    "                                                '碰撞后碾压行人','其他车辆与人事故',\\\n",
    "                                                '坠车','乘员跌落或抛出',\\\n",
    "                                                '翻滚','失火','自身摺叠'])]\n",
    "\n",
    "data_accident['路外事故类型'].fillna('否',inplace=True)\n",
    "data_accident.rename(columns={'路外事故类型':'是否路外事故'},inplace=True)\n",
    "data_accident['逃逸事故侦破'].fillna('非逃逸',inplace=True)\n",
    "data_accident['单车事故'].fillna('非单车事故',inplace=True)\n",
    "data_accident.dropna(subset=['车辆间事故.1'],how='any',axis=0,inplace=True)\n",
    "\n",
    "data_accident.drop(['事故初查原因','事故初查原因分类'],axis=1,inplace=True)\n",
    "data_accident.dropna(subset=['事故认定原因','事故认定原因分类小类'],axis=0,inplace=True)\n",
    "\n",
    "data_accident['当事人总数'].fillna(-1,inplace=True)\n",
    "data_accident['机动车数量'].fillna(-1,inplace=True)\n",
    "data_accident['非机动车数量'].fillna(-1,inplace=True)\n",
    "data_accident['行人数量'].fillna(-1,inplace=True)\n",
    "\n",
    "data_accident['米数'].fillna(-1,inplace=True)\n",
    "data_accident.drop(['失踪人数','损坏机动车数','损坏非机动车数'],axis=1,inplace=True)\n",
    "\n",
    "data_accident.drop(['现场'],axis=1,inplace=True)\n",
    "\n",
    "data_accident = data_accident.dropna(subset=['路名','所辖乡镇'],axis=0,how='any')\n",
    "\n",
    "\n",
    "\n",
    "for i in data_accident.columns:\n",
    "    print('%s缺失率：%s'%(i,sum(data_accident[i].isnull())/len(data_accident)))\n",
    "    \n",
    "    \n"
   ]
  },
  {
   "cell_type": "markdown",
   "metadata": {},
   "source": [
    "#### 重新编号"
   ]
  },
  {
   "cell_type": "code",
   "execution_count": 5,
   "metadata": {
    "collapsed": false
   },
   "outputs": [],
   "source": [
    "data_accident['index'] = range(len(data_accident))\n",
    "data_accident = data_accident.set_index(['index'])"
   ]
  },
  {
   "cell_type": "markdown",
   "metadata": {},
   "source": [
    "#### 暂时删除能见度 "
   ]
  },
  {
   "cell_type": "code",
   "execution_count": 6,
   "metadata": {
    "collapsed": false
   },
   "outputs": [],
   "source": [
    "data_accident.drop(['能见度'],axis=1,inplace=True)"
   ]
  },
  {
   "cell_type": "code",
   "execution_count": 7,
   "metadata": {
    "collapsed": false,
    "scrolled": false
   },
   "outputs": [
    {
     "name": "stdout",
     "output_type": "stream",
     "text": [
      "事故编号缺失率：0.0\n",
      "天气缺失率：0.0\n",
      "所辖乡镇缺失率：0.0\n",
      "行政区划缺失率：0.0\n",
      "受伤人数缺失率：0.0\n",
      "当事人总数缺失率：0.0\n",
      "抢救死亡人数Q缺失率：0.0\n",
      "机动车数量缺失率：0.0\n",
      "死亡人数缺失率：0.0\n",
      "直接财产损失缺失率：0.0\n",
      "米数缺失率：0.0\n",
      "轻伤人数缺失率：0.0\n",
      "重伤人数缺失率：0.0\n",
      "非机动车数量缺失率：0.0\n",
      "行人数量缺失率：0.0\n",
      "事故发生时间缺失率：0.0\n",
      "星期缺失率：0.0\n",
      "事故地点缺失率：0.0\n",
      "路号缺失率：0.0\n",
      "路名缺失率：0.0\n",
      "事故形态缺失率：0.0\n",
      "事故类型缺失率：0.0\n",
      "单车事故缺失率：0.0\n",
      "是否简易程序缺失率：0.0\n",
      "是否路外事故缺失率：0.0\n",
      "车辆间事故.1缺失率：0.0\n",
      "逃逸事故侦破缺失率：0.0\n",
      "事故认定原因缺失率：0.0\n",
      "事故认定原因分类小类缺失率：0.0\n"
     ]
    }
   ],
   "source": [
    "for i in data_accident.columns:\n",
    "    print('%s缺失率：%s'%(i,sum(data_accident[i].isnull())/len(data_accident)))"
   ]
  },
  {
   "cell_type": "markdown",
   "metadata": {},
   "source": [
    "## 1.1 事故发生时间 "
   ]
  },
  {
   "cell_type": "markdown",
   "metadata": {},
   "source": [
    "### 1.1.1 存储事故发生时间用于获取是否节假日 "
   ]
  },
  {
   "cell_type": "code",
   "execution_count": 115,
   "metadata": {
    "collapsed": false
   },
   "outputs": [],
   "source": [
    "date = pd.to_datetime(data_accident['事故发生时间'])\n",
    "date_toSave = pd.DataFrame(date)\n",
    "date_toSave['index'] = range(len(date_toSave))\n",
    "date_toSave = date_toSave.set_index(['index'])\n",
    "d = pd.DataFrame()\n",
    "d.insert(loc=0,value=date_toSave,column='date')\n",
    "d.to_csv('accidentTime_17.10.23.csv')"
   ]
  },
  {
   "cell_type": "markdown",
   "metadata": {},
   "source": [
    "#### 获取2014-2016年所有日期是否节假日信息"
   ]
  },
  {
   "cell_type": "markdown",
   "metadata": {
    "collapsed": false
   },
   "source": [
    "#是否节假日\n",
    "import json\n",
    "import urllib\n",
    "import datetime\n",
    "\n",
    "isHoliday = list()\n",
    "date = pd.to_datetime(data_accident['事故发生时间'])\n",
    "server_url = \"http://tool.bitefu.net/jiari/?d=\"\n",
    "\n",
    "\n",
    "\n",
    "req = urllib.request\n",
    "for i in date:\n",
    "    month = str(i.month)\n",
    "    day = str(i.day)\n",
    "    if i.month<10:\n",
    "        month =  '0'+str(i.month) \n",
    "    if i.day<10:\n",
    "        day = '0'+str(i.day)\n",
    "    day = str(i.year)+month+day\n",
    "    vop_response = req.urlopen(server_url+day)\n",
    "    date_isHoliday= json.loads(vop_response.read())\n",
    "    isHoliday.append(date_isHoliday)\n",
    "    \n",
    "\n",
    "\n",
    "isHoliday = pd.DataFrame(isHoliday)\n",
    "data_accident.insert(column='是否节假日',value=isHoliday,loc=1)"
   ]
  },
  {
   "cell_type": "code",
   "execution_count": 211,
   "metadata": {
    "collapsed": false
   },
   "outputs": [
    {
     "name": "stdout",
     "output_type": "stream",
     "text": [
      "1096\n",
      "isHoliday缺失率：0.0\n"
     ]
    }
   ],
   "source": [
    "#是否节假日\n",
    "import json\n",
    "import urllib\n",
    "import datetime\n",
    "\n",
    "date = pd.read_csv('accidentTime_17.10.23.csv')\n",
    "date.drop(['Unnamed: 0'],axis=1,inplace=True)\n",
    "date = pd.to_datetime(date['date'])\n",
    "isHoliday = list()\n",
    "server_url = \"http://tool.bitefu.net/jiari/?d=\"\n",
    "\n",
    "date_start = '2014-01-01'\n",
    "date_end = '2016-12-31'\n",
    "date_start = datetime.datetime.strptime(date_start,'%Y-%m-%d')\n",
    "date_end = datetime.datetime.strptime(date_end,'%Y-%m-%d')\n",
    "\n",
    "#获取整个日期范围\n",
    "date_all = list()\n",
    "while date_start<=date_end:\n",
    "    date_all.append(date_start)\n",
    "    date_start += datetime.timedelta(1)\n",
    "print(len(date_all))\n",
    "\n",
    "date_isHoliday = pd.DataFrame()\n",
    "\n",
    "date_isHoliday.insert(loc=0,column='date',value=pd.DataFrame(date_all))\n",
    "\n",
    "\n",
    "\n",
    "for i in date_all:\n",
    "    day = str(i.day)\n",
    "    month = str(i.month)\n",
    "    if i.day<10:\n",
    "        day = '0'+day\n",
    "    if i.month<10:\n",
    "        month = '0'+month\n",
    "    theDate = str(i.year)+month+day\n",
    "    req = urllib.request\n",
    "    res = req.urlopen(server_url+theDate)\n",
    "    isHoliday.append(json.loads(res.read()))\n",
    "    \n",
    "isHoliday_df = pd.DataFrame(isHoliday)\n",
    "\n",
    "date_isHoliday.insert(loc=1,column='isHoliday',value=isHoliday_df)\n",
    "print('isHoliday缺失率：%s'%(sum(date_isHoliday['isHoliday'].isnull())/len(date_isHoliday)))\n",
    "\n",
    "def get_dateDay(date):\n",
    "    theDay = str(date.day)\n",
    "    theMonth = str(date.month)\n",
    "    if date.day<10:\n",
    "        theDay = '0'+theDay\n",
    "    if date.month<10:\n",
    "        theMonth = '0'+theMonth\n",
    "    return str(date.year)+theMonth+theDay\n",
    "\n",
    "date_day = pd.DataFrame(pd.to_datetime(date_isHoliday['date']).apply(get_dateDay))\n",
    "date_isHoliday.insert(0,'date_day',date_day)\n",
    "\n",
    "date_isHoliday.to_excel('isHolidayFrom140101To161231_17.10.23_re.xlsx')\n",
    "\n",
    "del date,isHoliday,date_start,date_end,date_all,isHoliday_df,date_day,date_isHoliday"
   ]
  },
  {
   "cell_type": "code",
   "execution_count": 220,
   "metadata": {
    "collapsed": false
   },
   "outputs": [],
   "source": [
    "isHolidayFrom140101To161231 = pd.read_excel('isHolidayFrom140101To161231_17.10.23_re.xlsx')\n",
    "date = pd.read_csv('accidentTime_17.10.23.csv')\n",
    "date.drop(['Unnamed: 0'],axis=1,inplace=True)\n",
    "date = pd.to_datetime(date['date'])\n",
    "\n",
    "def getAccidentDayWithoutHour(i):\n",
    "    day = str(i.day)\n",
    "    month = str(i.month)\n",
    "    if i.day<10:\n",
    "        day = '0'+day\n",
    "    if i.month<10:\n",
    "        month = '0'+month\n",
    "    theDate = str(i.year)+month+day\n",
    "    return theDate\n",
    "\n",
    "accidentDayWithoutHour = pd.DataFrame(date.apply(getAccidentDayWithoutHour))\n",
    "\n",
    "\n",
    "\n",
    "isHolidays = list()\n",
    "for i in accidentDayWithoutHour['date']:\n",
    "    isH = isHolidayFrom140101To161231[isHolidayFrom140101To161231.date_day==int(i)]['isHoliday'].iloc[0]\n",
    "    isHolidays.append(isH)\n",
    "print(len(isHolidays))\n",
    "\n",
    "isHolidays = pd.DataFrame(isHolidays)\n",
    "isHolidays['index'] = range(len(isHolidays))\n",
    "isHolidays = isHolidays.set_index(['index'])\n",
    "data_accident.insert(loc=1,column='是否节假日',value=isHolidays)\n",
    "\n",
    "del isHolidayFrom140101To161231,accidentDayWithoutHour,isHolidays,isH"
   ]
  },
  {
   "cell_type": "markdown",
   "metadata": {},
   "source": [
    "### 1.1.2 处理 白天或夜晚 "
   ]
  },
  {
   "cell_type": "code",
   "execution_count": 90,
   "metadata": {
    "collapsed": false
   },
   "outputs": [
    {
     "name": "stdout",
     "output_type": "stream",
     "text": [
      "data_accident[是否白天]缺失率:0.0\n",
      "data_accident长度：133345\n"
     ]
    }
   ],
   "source": [
    "#白天或夜晚\n",
    "isDayorNight = list()\n",
    "for i in date:\n",
    "    if i.hour>=19 or i.hour<7:\n",
    "        isDayorNight.append('夜晚')\n",
    "    else:\n",
    "        isDayorNight.append('白天')\n",
    "isDayorNight = pd.Series(isDayorNight)\n",
    "\n",
    "data_accident.insert(2,'是否白天',isDayorNight)\n",
    "\n",
    "print('data_accident[是否白天]缺失率:%s'%(sum(data_accident['是否白天'].isnull())/len(data_accident)))\n",
    "print('data_accident长度：%s'%len(data_accident))\n",
    "\n",
    "del isDayorNight"
   ]
  },
  {
   "cell_type": "code",
   "execution_count": 221,
   "metadata": {
    "collapsed": false
   },
   "outputs": [
    {
     "name": "stdout",
     "output_type": "stream",
     "text": [
      "事故编号缺失率：0.0\n",
      "事故发生时间缺失率：0.0\n",
      "是否节假日缺失率：0.0\n",
      "是否白天缺失率：0.0\n",
      "天气缺失率：0.0\n",
      "所辖乡镇缺失率：0.0\n",
      "行政区划缺失率：0.0\n",
      "受伤人数缺失率：0.0\n",
      "当事人总数缺失率：0.0\n",
      "抢救死亡人数Q缺失率：0.0\n",
      "机动车数量缺失率：0.0\n",
      "死亡人数缺失率：0.0\n",
      "直接财产损失缺失率：0.0\n",
      "米数缺失率：0.0\n",
      "轻伤人数缺失率：0.0\n",
      "重伤人数缺失率：0.0\n",
      "非机动车数量缺失率：0.0\n",
      "行人数量缺失率：0.0\n",
      "星期缺失率：0.0\n",
      "事故地点缺失率：0.0\n",
      "路号缺失率：0.0\n",
      "路名缺失率：0.0\n",
      "事故形态缺失率：0.0\n",
      "事故类型缺失率：0.0\n",
      "单车事故缺失率：0.0\n",
      "是否简易程序缺失率：0.0\n",
      "是否路外事故缺失率：0.0\n",
      "车辆间事故.1缺失率：0.0\n",
      "逃逸事故侦破缺失率：0.0\n",
      "事故认定原因缺失率：0.0\n",
      "事故认定原因分类小类缺失率：0.0\n"
     ]
    }
   ],
   "source": [
    "for i in data_accident.columns:\n",
    "    print('%s缺失率：%s'%(i,sum(data_accident[i].isnull())/len(data_accident)))"
   ]
  },
  {
   "cell_type": "code",
   "execution_count": 206,
   "metadata": {
    "collapsed": false
   },
   "outputs": [],
   "source": [
    "data_accident.head()\n",
    "data_accident.to_excel('data_accident_17.10.23.xlsx')"
   ]
  },
  {
   "cell_type": "markdown",
   "metadata": {},
   "source": [
    "## 1.2 所辖乡镇 "
   ]
  },
  {
   "cell_type": "code",
   "execution_count": 10,
   "metadata": {
    "collapsed": false
   },
   "outputs": [
    {
     "data": {
      "text/plain": [
       "<matplotlib.axes._subplots.AxesSubplot at 0x2920f7104e0>"
      ]
     },
     "execution_count": 10,
     "metadata": {},
     "output_type": "execute_result"
    },
    {
     "data": {
      "image/png": "[encoded data removed]",
      "text/plain": [
       "<matplotlib.figure.Figure at 0x2927b0d38d0>"
      ]
     },
     "metadata": {},
     "output_type": "display_data"
    }
   ],
   "source": [
    "sns.countplot(data_accident['所辖乡镇'])"
   ]
  },
  {
   "cell_type": "code",
   "execution_count": 81,
   "metadata": {
    "collapsed": false
   },
   "outputs": [],
   "source": []
  },
  {
   "cell_type": "code",
   "execution_count": null,
   "metadata": {
    "collapsed": true
   },
   "outputs": [],
   "source": []
  }
 ],
 "metadata": {
  "kernelspec": {
   "display_name": "Python 3",
   "language": "python",
   "name": "python3"
  },
  "language_info": {
   "codemirror_mode": {
    "name": "ipython",
    "version": 3
   },
   "file_extension": ".py",
   "mimetype": "text/x-python",
   "name": "python",
   "nbconvert_exporter": "python",
   "pygments_lexer": "ipython3",
   "version": "3.6.0"
  }
 },
 "nbformat": 4,
 "nbformat_minor": 2
}
